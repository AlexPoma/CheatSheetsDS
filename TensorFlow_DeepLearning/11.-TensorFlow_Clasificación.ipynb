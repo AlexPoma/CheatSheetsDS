{
 "nbformat": 4,
 "nbformat_minor": 2,
 "metadata": {
  "language_info": {
   "name": "python",
   "codemirror_mode": {
    "name": "ipython",
    "version": 3
   },
   "version": "3.7.4-final"
  },
  "orig_nbformat": 2,
  "file_extension": ".py",
  "mimetype": "text/x-python",
  "name": "python",
  "npconvert_exporter": "python",
  "pygments_lexer": "ipython3",
  "version": 3,
  "kernelspec": {
   "name": "python3",
   "display_name": "Python 3"
  }
 },
 "cells": [
  {
   "cell_type": "markdown",
   "metadata": {},
   "source": [
    "## Ejemplo de Clasificación con TensorFlow"
   ]
  },
  {
   "cell_type": "code",
   "execution_count": 1,
   "metadata": {},
   "outputs": [
    {
     "output_type": "stream",
     "name": "stdout",
     "text": "WARNING:tensorflow:From C:\\Users\\alexp\\Anaconda3\\lib\\site-packages\\tensorflow_core\\python\\compat\\v2_compat.py:88: disable_resource_variables (from tensorflow.python.ops.variable_scope) is deprecated and will be removed in a future version.\nInstructions for updating:\nnon-resource variables are not supported in the long term\n"
    }
   ],
   "source": [
    "import pandas as pd\n",
    "import tensorflow.compat.v1 as tf\n",
    "tf.disable_v2_behavior()"
   ]
  },
  {
   "cell_type": "code",
   "execution_count": 2,
   "metadata": {},
   "outputs": [
    {
     "output_type": "execute_result",
     "data": {
      "text/plain": "       age     workclass  fnlwgt     education  educational-num  \\\n0       25       Private  226802          11th                7   \n1       38       Private   89814       HS-grad                9   \n2       28     Local-gov  336951    Assoc-acdm               12   \n3       44       Private  160323  Some-college               10   \n4       18             ?  103497  Some-college               10   \n...    ...           ...     ...           ...              ...   \n48837   27       Private  257302    Assoc-acdm               12   \n48838   40       Private  154374       HS-grad                9   \n48839   58       Private  151910       HS-grad                9   \n48840   22       Private  201490       HS-grad                9   \n48841   52  Self-emp-inc  287927       HS-grad                9   \n\n           marital-status         occupation relationship   race  gender  \\\n0           Never-married  Machine-op-inspct    Own-child  Black    Male   \n1      Married-civ-spouse    Farming-fishing      Husband  White    Male   \n2      Married-civ-spouse    Protective-serv      Husband  White    Male   \n3      Married-civ-spouse  Machine-op-inspct      Husband  Black    Male   \n4           Never-married                  ?    Own-child  White  Female   \n...                   ...                ...          ...    ...     ...   \n48837  Married-civ-spouse       Tech-support         Wife  White  Female   \n48838  Married-civ-spouse  Machine-op-inspct      Husband  White    Male   \n48839             Widowed       Adm-clerical    Unmarried  White  Female   \n48840       Never-married       Adm-clerical    Own-child  White    Male   \n48841  Married-civ-spouse    Exec-managerial         Wife  White  Female   \n\n       capital-gain  capital-loss  hours-per-week native-country income  \n0                 0             0              40  United-States  <=50K  \n1                 0             0              50  United-States  <=50K  \n2                 0             0              40  United-States   >50K  \n3              7688             0              40  United-States   >50K  \n4                 0             0              30  United-States  <=50K  \n...             ...           ...             ...            ...    ...  \n48837             0             0              38  United-States  <=50K  \n48838             0             0              40  United-States   >50K  \n48839             0             0              40  United-States  <=50K  \n48840             0             0              20  United-States  <=50K  \n48841         15024             0              40  United-States   >50K  \n\n[48842 rows x 15 columns]",
      "text/html": "<div>\n<style scoped>\n    .dataframe tbody tr th:only-of-type {\n        vertical-align: middle;\n    }\n\n    .dataframe tbody tr th {\n        vertical-align: top;\n    }\n\n    .dataframe thead th {\n        text-align: right;\n    }\n</style>\n<table border=\"1\" class=\"dataframe\">\n  <thead>\n    <tr style=\"text-align: right;\">\n      <th></th>\n      <th>age</th>\n      <th>workclass</th>\n      <th>fnlwgt</th>\n      <th>education</th>\n      <th>educational-num</th>\n      <th>marital-status</th>\n      <th>occupation</th>\n      <th>relationship</th>\n      <th>race</th>\n      <th>gender</th>\n      <th>capital-gain</th>\n      <th>capital-loss</th>\n      <th>hours-per-week</th>\n      <th>native-country</th>\n      <th>income</th>\n    </tr>\n  </thead>\n  <tbody>\n    <tr>\n      <td>0</td>\n      <td>25</td>\n      <td>Private</td>\n      <td>226802</td>\n      <td>11th</td>\n      <td>7</td>\n      <td>Never-married</td>\n      <td>Machine-op-inspct</td>\n      <td>Own-child</td>\n      <td>Black</td>\n      <td>Male</td>\n      <td>0</td>\n      <td>0</td>\n      <td>40</td>\n      <td>United-States</td>\n      <td>&lt;=50K</td>\n    </tr>\n    <tr>\n      <td>1</td>\n      <td>38</td>\n      <td>Private</td>\n      <td>89814</td>\n      <td>HS-grad</td>\n      <td>9</td>\n      <td>Married-civ-spouse</td>\n      <td>Farming-fishing</td>\n      <td>Husband</td>\n      <td>White</td>\n      <td>Male</td>\n      <td>0</td>\n      <td>0</td>\n      <td>50</td>\n      <td>United-States</td>\n      <td>&lt;=50K</td>\n    </tr>\n    <tr>\n      <td>2</td>\n      <td>28</td>\n      <td>Local-gov</td>\n      <td>336951</td>\n      <td>Assoc-acdm</td>\n      <td>12</td>\n      <td>Married-civ-spouse</td>\n      <td>Protective-serv</td>\n      <td>Husband</td>\n      <td>White</td>\n      <td>Male</td>\n      <td>0</td>\n      <td>0</td>\n      <td>40</td>\n      <td>United-States</td>\n      <td>&gt;50K</td>\n    </tr>\n    <tr>\n      <td>3</td>\n      <td>44</td>\n      <td>Private</td>\n      <td>160323</td>\n      <td>Some-college</td>\n      <td>10</td>\n      <td>Married-civ-spouse</td>\n      <td>Machine-op-inspct</td>\n      <td>Husband</td>\n      <td>Black</td>\n      <td>Male</td>\n      <td>7688</td>\n      <td>0</td>\n      <td>40</td>\n      <td>United-States</td>\n      <td>&gt;50K</td>\n    </tr>\n    <tr>\n      <td>4</td>\n      <td>18</td>\n      <td>?</td>\n      <td>103497</td>\n      <td>Some-college</td>\n      <td>10</td>\n      <td>Never-married</td>\n      <td>?</td>\n      <td>Own-child</td>\n      <td>White</td>\n      <td>Female</td>\n      <td>0</td>\n      <td>0</td>\n      <td>30</td>\n      <td>United-States</td>\n      <td>&lt;=50K</td>\n    </tr>\n    <tr>\n      <td>...</td>\n      <td>...</td>\n      <td>...</td>\n      <td>...</td>\n      <td>...</td>\n      <td>...</td>\n      <td>...</td>\n      <td>...</td>\n      <td>...</td>\n      <td>...</td>\n      <td>...</td>\n      <td>...</td>\n      <td>...</td>\n      <td>...</td>\n      <td>...</td>\n      <td>...</td>\n    </tr>\n    <tr>\n      <td>48837</td>\n      <td>27</td>\n      <td>Private</td>\n      <td>257302</td>\n      <td>Assoc-acdm</td>\n      <td>12</td>\n      <td>Married-civ-spouse</td>\n      <td>Tech-support</td>\n      <td>Wife</td>\n      <td>White</td>\n      <td>Female</td>\n      <td>0</td>\n      <td>0</td>\n      <td>38</td>\n      <td>United-States</td>\n      <td>&lt;=50K</td>\n    </tr>\n    <tr>\n      <td>48838</td>\n      <td>40</td>\n      <td>Private</td>\n      <td>154374</td>\n      <td>HS-grad</td>\n      <td>9</td>\n      <td>Married-civ-spouse</td>\n      <td>Machine-op-inspct</td>\n      <td>Husband</td>\n      <td>White</td>\n      <td>Male</td>\n      <td>0</td>\n      <td>0</td>\n      <td>40</td>\n      <td>United-States</td>\n      <td>&gt;50K</td>\n    </tr>\n    <tr>\n      <td>48839</td>\n      <td>58</td>\n      <td>Private</td>\n      <td>151910</td>\n      <td>HS-grad</td>\n      <td>9</td>\n      <td>Widowed</td>\n      <td>Adm-clerical</td>\n      <td>Unmarried</td>\n      <td>White</td>\n      <td>Female</td>\n      <td>0</td>\n      <td>0</td>\n      <td>40</td>\n      <td>United-States</td>\n      <td>&lt;=50K</td>\n    </tr>\n    <tr>\n      <td>48840</td>\n      <td>22</td>\n      <td>Private</td>\n      <td>201490</td>\n      <td>HS-grad</td>\n      <td>9</td>\n      <td>Never-married</td>\n      <td>Adm-clerical</td>\n      <td>Own-child</td>\n      <td>White</td>\n      <td>Male</td>\n      <td>0</td>\n      <td>0</td>\n      <td>20</td>\n      <td>United-States</td>\n      <td>&lt;=50K</td>\n    </tr>\n    <tr>\n      <td>48841</td>\n      <td>52</td>\n      <td>Self-emp-inc</td>\n      <td>287927</td>\n      <td>HS-grad</td>\n      <td>9</td>\n      <td>Married-civ-spouse</td>\n      <td>Exec-managerial</td>\n      <td>Wife</td>\n      <td>White</td>\n      <td>Female</td>\n      <td>15024</td>\n      <td>0</td>\n      <td>40</td>\n      <td>United-States</td>\n      <td>&gt;50K</td>\n    </tr>\n  </tbody>\n</table>\n<p>48842 rows × 15 columns</p>\n</div>"
     },
     "metadata": {},
     "execution_count": 2
    }
   ],
   "source": [
    "ingresos = pd.read_csv('./Data/ingresos.csv')\n",
    "ingresos"
   ]
  },
  {
   "cell_type": "code",
   "execution_count": 3,
   "metadata": {},
   "outputs": [
    {
     "output_type": "execute_result",
     "data": {
      "text/plain": "array(['<=50K', '>50K'], dtype=object)"
     },
     "metadata": {},
     "execution_count": 3
    }
   ],
   "source": [
    "ingresos['income'].unique()"
   ]
  },
  {
   "cell_type": "code",
   "execution_count": 5,
   "metadata": {},
   "outputs": [],
   "source": [
    "def cambio_valor(valor):\n",
    "    if valor == '<=50K':\n",
    "        return 0\n",
    "    else:\n",
    "        return 1"
   ]
  },
  {
   "cell_type": "code",
   "execution_count": 6,
   "metadata": {},
   "outputs": [],
   "source": [
    "ingresos['income'] = ingresos['income'].apply(cambio_valor)"
   ]
  },
  {
   "cell_type": "code",
   "execution_count": 7,
   "metadata": {},
   "outputs": [
    {
     "output_type": "execute_result",
     "data": {
      "text/plain": "   age  workclass  fnlwgt     education  educational-num      marital-status  \\\n0   25    Private  226802          11th                7       Never-married   \n1   38    Private   89814       HS-grad                9  Married-civ-spouse   \n2   28  Local-gov  336951    Assoc-acdm               12  Married-civ-spouse   \n3   44    Private  160323  Some-college               10  Married-civ-spouse   \n4   18          ?  103497  Some-college               10       Never-married   \n\n          occupation relationship   race  gender  capital-gain  capital-loss  \\\n0  Machine-op-inspct    Own-child  Black    Male             0             0   \n1    Farming-fishing      Husband  White    Male             0             0   \n2    Protective-serv      Husband  White    Male             0             0   \n3  Machine-op-inspct      Husband  Black    Male          7688             0   \n4                  ?    Own-child  White  Female             0             0   \n\n   hours-per-week native-country  income  \n0              40  United-States       0  \n1              50  United-States       0  \n2              40  United-States       1  \n3              40  United-States       1  \n4              30  United-States       0  ",
      "text/html": "<div>\n<style scoped>\n    .dataframe tbody tr th:only-of-type {\n        vertical-align: middle;\n    }\n\n    .dataframe tbody tr th {\n        vertical-align: top;\n    }\n\n    .dataframe thead th {\n        text-align: right;\n    }\n</style>\n<table border=\"1\" class=\"dataframe\">\n  <thead>\n    <tr style=\"text-align: right;\">\n      <th></th>\n      <th>age</th>\n      <th>workclass</th>\n      <th>fnlwgt</th>\n      <th>education</th>\n      <th>educational-num</th>\n      <th>marital-status</th>\n      <th>occupation</th>\n      <th>relationship</th>\n      <th>race</th>\n      <th>gender</th>\n      <th>capital-gain</th>\n      <th>capital-loss</th>\n      <th>hours-per-week</th>\n      <th>native-country</th>\n      <th>income</th>\n    </tr>\n  </thead>\n  <tbody>\n    <tr>\n      <td>0</td>\n      <td>25</td>\n      <td>Private</td>\n      <td>226802</td>\n      <td>11th</td>\n      <td>7</td>\n      <td>Never-married</td>\n      <td>Machine-op-inspct</td>\n      <td>Own-child</td>\n      <td>Black</td>\n      <td>Male</td>\n      <td>0</td>\n      <td>0</td>\n      <td>40</td>\n      <td>United-States</td>\n      <td>0</td>\n    </tr>\n    <tr>\n      <td>1</td>\n      <td>38</td>\n      <td>Private</td>\n      <td>89814</td>\n      <td>HS-grad</td>\n      <td>9</td>\n      <td>Married-civ-spouse</td>\n      <td>Farming-fishing</td>\n      <td>Husband</td>\n      <td>White</td>\n      <td>Male</td>\n      <td>0</td>\n      <td>0</td>\n      <td>50</td>\n      <td>United-States</td>\n      <td>0</td>\n    </tr>\n    <tr>\n      <td>2</td>\n      <td>28</td>\n      <td>Local-gov</td>\n      <td>336951</td>\n      <td>Assoc-acdm</td>\n      <td>12</td>\n      <td>Married-civ-spouse</td>\n      <td>Protective-serv</td>\n      <td>Husband</td>\n      <td>White</td>\n      <td>Male</td>\n      <td>0</td>\n      <td>0</td>\n      <td>40</td>\n      <td>United-States</td>\n      <td>1</td>\n    </tr>\n    <tr>\n      <td>3</td>\n      <td>44</td>\n      <td>Private</td>\n      <td>160323</td>\n      <td>Some-college</td>\n      <td>10</td>\n      <td>Married-civ-spouse</td>\n      <td>Machine-op-inspct</td>\n      <td>Husband</td>\n      <td>Black</td>\n      <td>Male</td>\n      <td>7688</td>\n      <td>0</td>\n      <td>40</td>\n      <td>United-States</td>\n      <td>1</td>\n    </tr>\n    <tr>\n      <td>4</td>\n      <td>18</td>\n      <td>?</td>\n      <td>103497</td>\n      <td>Some-college</td>\n      <td>10</td>\n      <td>Never-married</td>\n      <td>?</td>\n      <td>Own-child</td>\n      <td>White</td>\n      <td>Female</td>\n      <td>0</td>\n      <td>0</td>\n      <td>30</td>\n      <td>United-States</td>\n      <td>0</td>\n    </tr>\n  </tbody>\n</table>\n</div>"
     },
     "metadata": {},
     "execution_count": 7
    }
   ],
   "source": [
    "ingresos.head()"
   ]
  },
  {
   "cell_type": "code",
   "execution_count": 8,
   "metadata": {},
   "outputs": [],
   "source": [
    "from sklearn.model_selection import train_test_split"
   ]
  },
  {
   "cell_type": "code",
   "execution_count": 10,
   "metadata": {},
   "outputs": [],
   "source": [
    "datos_x = ingresos.drop('income', axis = 1)"
   ]
  },
  {
   "cell_type": "code",
   "execution_count": 11,
   "metadata": {},
   "outputs": [
    {
     "output_type": "execute_result",
     "data": {
      "text/plain": "   age  workclass  fnlwgt     education  educational-num      marital-status  \\\n0   25    Private  226802          11th                7       Never-married   \n1   38    Private   89814       HS-grad                9  Married-civ-spouse   \n2   28  Local-gov  336951    Assoc-acdm               12  Married-civ-spouse   \n3   44    Private  160323  Some-college               10  Married-civ-spouse   \n4   18          ?  103497  Some-college               10       Never-married   \n\n          occupation relationship   race  gender  capital-gain  capital-loss  \\\n0  Machine-op-inspct    Own-child  Black    Male             0             0   \n1    Farming-fishing      Husband  White    Male             0             0   \n2    Protective-serv      Husband  White    Male             0             0   \n3  Machine-op-inspct      Husband  Black    Male          7688             0   \n4                  ?    Own-child  White  Female             0             0   \n\n   hours-per-week native-country  \n0              40  United-States  \n1              50  United-States  \n2              40  United-States  \n3              40  United-States  \n4              30  United-States  ",
      "text/html": "<div>\n<style scoped>\n    .dataframe tbody tr th:only-of-type {\n        vertical-align: middle;\n    }\n\n    .dataframe tbody tr th {\n        vertical-align: top;\n    }\n\n    .dataframe thead th {\n        text-align: right;\n    }\n</style>\n<table border=\"1\" class=\"dataframe\">\n  <thead>\n    <tr style=\"text-align: right;\">\n      <th></th>\n      <th>age</th>\n      <th>workclass</th>\n      <th>fnlwgt</th>\n      <th>education</th>\n      <th>educational-num</th>\n      <th>marital-status</th>\n      <th>occupation</th>\n      <th>relationship</th>\n      <th>race</th>\n      <th>gender</th>\n      <th>capital-gain</th>\n      <th>capital-loss</th>\n      <th>hours-per-week</th>\n      <th>native-country</th>\n    </tr>\n  </thead>\n  <tbody>\n    <tr>\n      <td>0</td>\n      <td>25</td>\n      <td>Private</td>\n      <td>226802</td>\n      <td>11th</td>\n      <td>7</td>\n      <td>Never-married</td>\n      <td>Machine-op-inspct</td>\n      <td>Own-child</td>\n      <td>Black</td>\n      <td>Male</td>\n      <td>0</td>\n      <td>0</td>\n      <td>40</td>\n      <td>United-States</td>\n    </tr>\n    <tr>\n      <td>1</td>\n      <td>38</td>\n      <td>Private</td>\n      <td>89814</td>\n      <td>HS-grad</td>\n      <td>9</td>\n      <td>Married-civ-spouse</td>\n      <td>Farming-fishing</td>\n      <td>Husband</td>\n      <td>White</td>\n      <td>Male</td>\n      <td>0</td>\n      <td>0</td>\n      <td>50</td>\n      <td>United-States</td>\n    </tr>\n    <tr>\n      <td>2</td>\n      <td>28</td>\n      <td>Local-gov</td>\n      <td>336951</td>\n      <td>Assoc-acdm</td>\n      <td>12</td>\n      <td>Married-civ-spouse</td>\n      <td>Protective-serv</td>\n      <td>Husband</td>\n      <td>White</td>\n      <td>Male</td>\n      <td>0</td>\n      <td>0</td>\n      <td>40</td>\n      <td>United-States</td>\n    </tr>\n    <tr>\n      <td>3</td>\n      <td>44</td>\n      <td>Private</td>\n      <td>160323</td>\n      <td>Some-college</td>\n      <td>10</td>\n      <td>Married-civ-spouse</td>\n      <td>Machine-op-inspct</td>\n      <td>Husband</td>\n      <td>Black</td>\n      <td>Male</td>\n      <td>7688</td>\n      <td>0</td>\n      <td>40</td>\n      <td>United-States</td>\n    </tr>\n    <tr>\n      <td>4</td>\n      <td>18</td>\n      <td>?</td>\n      <td>103497</td>\n      <td>Some-college</td>\n      <td>10</td>\n      <td>Never-married</td>\n      <td>?</td>\n      <td>Own-child</td>\n      <td>White</td>\n      <td>Female</td>\n      <td>0</td>\n      <td>0</td>\n      <td>30</td>\n      <td>United-States</td>\n    </tr>\n  </tbody>\n</table>\n</div>"
     },
     "metadata": {},
     "execution_count": 11
    }
   ],
   "source": [
    "datos_x.head()"
   ]
  },
  {
   "cell_type": "code",
   "execution_count": 15,
   "metadata": {},
   "outputs": [
    {
     "output_type": "execute_result",
     "data": {
      "text/plain": "0        0\n1        0\n2        1\n3        1\n4        0\n        ..\n48837    0\n48838    1\n48839    0\n48840    0\n48841    1\nName: income, Length: 48842, dtype: int64"
     },
     "metadata": {},
     "execution_count": 15
    }
   ],
   "source": [
    "datos_y = ingresos['income']\n",
    "datos_y"
   ]
  },
  {
   "cell_type": "code",
   "execution_count": 17,
   "metadata": {},
   "outputs": [],
   "source": [
    "x_train, x_test, y_train, y_test = train_test_split(datos_x, datos_y, test_size = 0.3)"
   ]
  },
  {
   "cell_type": "code",
   "execution_count": 20,
   "metadata": {},
   "outputs": [
    {
     "output_type": "execute_result",
     "data": {
      "text/plain": "       age workclass  fnlwgt     education  educational-num  \\\n12880   62   Private  104849       Masters               14   \n35670   31   Private  149507     Assoc-voc               11   \n13552   54   Private  133963  Some-college               10   \n20603   35   Private  202027     Bachelors               13   \n39616   19   Private  307496  Some-college               10   \n\n           marital-status       occupation   relationship                race  \\\n12880  Married-civ-spouse     Adm-clerical        Husband  Asian-Pac-Islander   \n35670  Married-civ-spouse     Craft-repair        Husband               White   \n13552             Widowed            Sales      Unmarried               White   \n20603            Divorced  Exec-managerial  Not-in-family               White   \n39616       Never-married    Other-service      Own-child               White   \n\n       gender  capital-gain  capital-loss  hours-per-week native-country  \n12880    Male             0             0              40          China  \n35670    Male          3464             0              38  United-States  \n13552  Female             0             0              20  United-States  \n20603    Male         27828             0              50  United-States  \n39616  Female             0             0              23  United-States  ",
      "text/html": "<div>\n<style scoped>\n    .dataframe tbody tr th:only-of-type {\n        vertical-align: middle;\n    }\n\n    .dataframe tbody tr th {\n        vertical-align: top;\n    }\n\n    .dataframe thead th {\n        text-align: right;\n    }\n</style>\n<table border=\"1\" class=\"dataframe\">\n  <thead>\n    <tr style=\"text-align: right;\">\n      <th></th>\n      <th>age</th>\n      <th>workclass</th>\n      <th>fnlwgt</th>\n      <th>education</th>\n      <th>educational-num</th>\n      <th>marital-status</th>\n      <th>occupation</th>\n      <th>relationship</th>\n      <th>race</th>\n      <th>gender</th>\n      <th>capital-gain</th>\n      <th>capital-loss</th>\n      <th>hours-per-week</th>\n      <th>native-country</th>\n    </tr>\n  </thead>\n  <tbody>\n    <tr>\n      <td>12880</td>\n      <td>62</td>\n      <td>Private</td>\n      <td>104849</td>\n      <td>Masters</td>\n      <td>14</td>\n      <td>Married-civ-spouse</td>\n      <td>Adm-clerical</td>\n      <td>Husband</td>\n      <td>Asian-Pac-Islander</td>\n      <td>Male</td>\n      <td>0</td>\n      <td>0</td>\n      <td>40</td>\n      <td>China</td>\n    </tr>\n    <tr>\n      <td>35670</td>\n      <td>31</td>\n      <td>Private</td>\n      <td>149507</td>\n      <td>Assoc-voc</td>\n      <td>11</td>\n      <td>Married-civ-spouse</td>\n      <td>Craft-repair</td>\n      <td>Husband</td>\n      <td>White</td>\n      <td>Male</td>\n      <td>3464</td>\n      <td>0</td>\n      <td>38</td>\n      <td>United-States</td>\n    </tr>\n    <tr>\n      <td>13552</td>\n      <td>54</td>\n      <td>Private</td>\n      <td>133963</td>\n      <td>Some-college</td>\n      <td>10</td>\n      <td>Widowed</td>\n      <td>Sales</td>\n      <td>Unmarried</td>\n      <td>White</td>\n      <td>Female</td>\n      <td>0</td>\n      <td>0</td>\n      <td>20</td>\n      <td>United-States</td>\n    </tr>\n    <tr>\n      <td>20603</td>\n      <td>35</td>\n      <td>Private</td>\n      <td>202027</td>\n      <td>Bachelors</td>\n      <td>13</td>\n      <td>Divorced</td>\n      <td>Exec-managerial</td>\n      <td>Not-in-family</td>\n      <td>White</td>\n      <td>Male</td>\n      <td>27828</td>\n      <td>0</td>\n      <td>50</td>\n      <td>United-States</td>\n    </tr>\n    <tr>\n      <td>39616</td>\n      <td>19</td>\n      <td>Private</td>\n      <td>307496</td>\n      <td>Some-college</td>\n      <td>10</td>\n      <td>Never-married</td>\n      <td>Other-service</td>\n      <td>Own-child</td>\n      <td>White</td>\n      <td>Female</td>\n      <td>0</td>\n      <td>0</td>\n      <td>23</td>\n      <td>United-States</td>\n    </tr>\n  </tbody>\n</table>\n</div>"
     },
     "metadata": {},
     "execution_count": 20
    }
   ],
   "source": [
    "x_train.head()"
   ]
  },
  {
   "cell_type": "code",
   "execution_count": 21,
   "metadata": {},
   "outputs": [
    {
     "output_type": "execute_result",
     "data": {
      "text/plain": "       age         workclass  fnlwgt     education  educational-num  \\\n7516    53       Federal-gov  411700       HS-grad                9   \n9768    33  Self-emp-not-inc  190027       Masters               14   \n24128   22           Private   58916  Some-college               10   \n46150   19           Private  121788  Some-college               10   \n41743   51           Private  199688  Some-college               10   \n\n           marital-status       occupation   relationship   race  gender  \\\n7516   Married-civ-spouse     Adm-clerical        Husband  White    Male   \n9768        Never-married  Exec-managerial  Not-in-family  Black  Female   \n24128       Never-married     Adm-clerical  Not-in-family  White  Female   \n46150       Never-married            Sales  Not-in-family  White  Female   \n41743  Married-civ-spouse  Exec-managerial        Husband  White    Male   \n\n       capital-gain  capital-loss  hours-per-week native-country  \n7516           7298             0              40  United-States  \n9768              0             0              70  United-States  \n24128             0             0              30  United-States  \n46150             0             0              30  United-States  \n41743             0             0              45  United-States  ",
      "text/html": "<div>\n<style scoped>\n    .dataframe tbody tr th:only-of-type {\n        vertical-align: middle;\n    }\n\n    .dataframe tbody tr th {\n        vertical-align: top;\n    }\n\n    .dataframe thead th {\n        text-align: right;\n    }\n</style>\n<table border=\"1\" class=\"dataframe\">\n  <thead>\n    <tr style=\"text-align: right;\">\n      <th></th>\n      <th>age</th>\n      <th>workclass</th>\n      <th>fnlwgt</th>\n      <th>education</th>\n      <th>educational-num</th>\n      <th>marital-status</th>\n      <th>occupation</th>\n      <th>relationship</th>\n      <th>race</th>\n      <th>gender</th>\n      <th>capital-gain</th>\n      <th>capital-loss</th>\n      <th>hours-per-week</th>\n      <th>native-country</th>\n    </tr>\n  </thead>\n  <tbody>\n    <tr>\n      <td>7516</td>\n      <td>53</td>\n      <td>Federal-gov</td>\n      <td>411700</td>\n      <td>HS-grad</td>\n      <td>9</td>\n      <td>Married-civ-spouse</td>\n      <td>Adm-clerical</td>\n      <td>Husband</td>\n      <td>White</td>\n      <td>Male</td>\n      <td>7298</td>\n      <td>0</td>\n      <td>40</td>\n      <td>United-States</td>\n    </tr>\n    <tr>\n      <td>9768</td>\n      <td>33</td>\n      <td>Self-emp-not-inc</td>\n      <td>190027</td>\n      <td>Masters</td>\n      <td>14</td>\n      <td>Never-married</td>\n      <td>Exec-managerial</td>\n      <td>Not-in-family</td>\n      <td>Black</td>\n      <td>Female</td>\n      <td>0</td>\n      <td>0</td>\n      <td>70</td>\n      <td>United-States</td>\n    </tr>\n    <tr>\n      <td>24128</td>\n      <td>22</td>\n      <td>Private</td>\n      <td>58916</td>\n      <td>Some-college</td>\n      <td>10</td>\n      <td>Never-married</td>\n      <td>Adm-clerical</td>\n      <td>Not-in-family</td>\n      <td>White</td>\n      <td>Female</td>\n      <td>0</td>\n      <td>0</td>\n      <td>30</td>\n      <td>United-States</td>\n    </tr>\n    <tr>\n      <td>46150</td>\n      <td>19</td>\n      <td>Private</td>\n      <td>121788</td>\n      <td>Some-college</td>\n      <td>10</td>\n      <td>Never-married</td>\n      <td>Sales</td>\n      <td>Not-in-family</td>\n      <td>White</td>\n      <td>Female</td>\n      <td>0</td>\n      <td>0</td>\n      <td>30</td>\n      <td>United-States</td>\n    </tr>\n    <tr>\n      <td>41743</td>\n      <td>51</td>\n      <td>Private</td>\n      <td>199688</td>\n      <td>Some-college</td>\n      <td>10</td>\n      <td>Married-civ-spouse</td>\n      <td>Exec-managerial</td>\n      <td>Husband</td>\n      <td>White</td>\n      <td>Male</td>\n      <td>0</td>\n      <td>0</td>\n      <td>45</td>\n      <td>United-States</td>\n    </tr>\n  </tbody>\n</table>\n</div>"
     },
     "metadata": {},
     "execution_count": 21
    }
   ],
   "source": [
    "x_test.head()"
   ]
  },
  {
   "cell_type": "code",
   "execution_count": 22,
   "metadata": {},
   "outputs": [
    {
     "output_type": "execute_result",
     "data": {
      "text/plain": "Index(['age', 'workclass', 'fnlwgt', 'education', 'educational-num',\n       'marital-status', 'occupation', 'relationship', 'race', 'gender',\n       'capital-gain', 'capital-loss', 'hours-per-week', 'native-country',\n       'income'],\n      dtype='object')"
     },
     "metadata": {},
     "execution_count": 22
    }
   ],
   "source": [
    "ingresos.columns"
   ]
  },
  {
   "cell_type": "code",
   "execution_count": 23,
   "metadata": {},
   "outputs": [],
   "source": [
    "gender = tf.feature_column.categorical_column_with_vocabulary_list(\"gender\",['Female, Male'])"
   ]
  },
  {
   "cell_type": "code",
   "execution_count": 26,
   "metadata": {},
   "outputs": [],
   "source": [
    "occupation = tf.feature_column.categorical_column_with_hash_bucket(\"occupation\",hash_bucket_size = 1000)"
   ]
  },
  {
   "cell_type": "code",
   "execution_count": 30,
   "metadata": {},
   "outputs": [],
   "source": [
    "workclass = tf.feature_column.categorical_column_with_hash_bucket(\"workclass\",hash_bucket_size = 1000)\n",
    "education = tf.feature_column.categorical_column_with_hash_bucket(\"education\",hash_bucket_size = 1000)\n",
    "marital_status = tf.feature_column.categorical_column_with_hash_bucket(\"marital-status\",hash_bucket_size = 1000)\n",
    "occupation = tf.feature_column.categorical_column_with_hash_bucket(\"occupation\",hash_bucket_size = 1000)\n",
    "relationship = tf.feature_column.categorical_column_with_hash_bucket(\"relationship\",hash_bucket_size = 1000)\n",
    "native_country = tf.feature_column.categorical_column_with_hash_bucket(\"native-country\",hash_bucket_size = 1000)"
   ]
  },
  {
   "cell_type": "code",
   "execution_count": 31,
   "metadata": {},
   "outputs": [],
   "source": [
    "age = tf.feature_column.numeric_column(\"age\")"
   ]
  },
  {
   "cell_type": "code",
   "execution_count": 33,
   "metadata": {},
   "outputs": [],
   "source": [
    "age = tf.feature_column.numeric_column(\"age\")\n",
    "fnlwgt = tf.feature_column.numeric_column(\"fnlwgt\")\n",
    "educational_num = tf.feature_column.numeric_column(\"educational-num\")\n",
    "capital_gain = tf.feature_column.numeric_column(\"capital-gain\")\n",
    "capital_loss = tf.feature_column.numeric_column(\"capital-loss\")\n",
    "hours_per_week = tf.feature_column.numeric_column(\"hours-per-week\")"
   ]
  },
  {
   "cell_type": "code",
   "execution_count": 53,
   "metadata": {},
   "outputs": [],
   "source": [
    "columnas_categorias = [gender, workclass, education, marital_status, occupation, relationship, native_country, age, fnlwgt, educational_num, capital_gain, capital_loss, hours_per_week]"
   ]
  },
  {
   "cell_type": "code",
   "execution_count": 54,
   "metadata": {},
   "outputs": [],
   "source": [
    "funcion_entrada = tf.estimator.inputs.pandas_input_fn(x = x_train, y = y_train, batch_size = 100, num_epochs = None, shuffle = True)"
   ]
  },
  {
   "cell_type": "code",
   "execution_count": 55,
   "metadata": {},
   "outputs": [
    {
     "output_type": "stream",
     "name": "stdout",
     "text": "INFO:tensorflow:Using default config.\nWARNING:tensorflow:Using temporary folder as model directory: C:\\Users\\alexp\\AppData\\Local\\Temp\\tmp75f2psqa\nINFO:tensorflow:Using config: {'_model_dir': 'C:\\\\Users\\\\alexp\\\\AppData\\\\Local\\\\Temp\\\\tmp75f2psqa', '_tf_random_seed': None, '_save_summary_steps': 100, '_save_checkpoints_steps': None, '_save_checkpoints_secs': 600, '_session_config': allow_soft_placement: true\ngraph_options {\n  rewrite_options {\n    meta_optimizer_iterations: ONE\n  }\n}\n, '_keep_checkpoint_max': 5, '_keep_checkpoint_every_n_hours': 10000, '_log_step_count_steps': 100, '_train_distribute': None, '_device_fn': None, '_protocol': None, '_eval_distribute': None, '_experimental_distribute': None, '_experimental_max_worker_delay_secs': None, '_session_creation_timeout_secs': 7200, '_service': None, '_cluster_spec': ClusterSpec({}), '_task_type': 'worker', '_task_id': 0, '_global_id_in_cluster': 0, '_master': '', '_evaluation_master': '', '_is_chief': True, '_num_ps_replicas': 0, '_num_worker_replicas': 1}\n"
    }
   ],
   "source": [
    "modelo = tf.estimator.LinearClassifier(feature_columns = columnas_categorias)"
   ]
  },
  {
   "cell_type": "code",
   "execution_count": 56,
   "metadata": {},
   "outputs": [
    {
     "output_type": "stream",
     "name": "stdout",
     "text": "WARNING:tensorflow:From C:\\Users\\alexp\\Anaconda3\\lib\\site-packages\\tensorflow_core\\python\\training\\training_util.py:236: Variable.initialized_value (from tensorflow.python.ops.variables) is deprecated and will be removed in a future version.\nInstructions for updating:\nUse Variable.read_value. Variables in 2.X are initialized automatically both in eager and graph (inside tf.defun) contexts.\nWARNING:tensorflow:From C:\\Users\\alexp\\Anaconda3\\lib\\site-packages\\tensorflow_estimator\\python\\estimator\\inputs\\queues\\feeding_queue_runner.py:62: QueueRunner.__init__ (from tensorflow.python.training.queue_runner_impl) is deprecated and will be removed in a future version.\nInstructions for updating:\nTo construct input pipelines, use the `tf.data` module.\nWARNING:tensorflow:From C:\\Users\\alexp\\Anaconda3\\lib\\site-packages\\tensorflow_estimator\\python\\estimator\\inputs\\queues\\feeding_functions.py:500: add_queue_runner (from tensorflow.python.training.queue_runner_impl) is deprecated and will be removed in a future version.\nInstructions for updating:\nTo construct input pipelines, use the `tf.data` module.\nINFO:tensorflow:Calling model_fn.\nWARNING:tensorflow:From C:\\Users\\alexp\\Anaconda3\\lib\\site-packages\\tensorflow_core\\python\\ops\\resource_variable_ops.py:1635: calling BaseResourceVariable.__init__ (from tensorflow.python.ops.resource_variable_ops) with constraint is deprecated and will be removed in a future version.\nInstructions for updating:\nIf using Keras pass *_constraint arguments to layers.\nWARNING:tensorflow:From C:\\Users\\alexp\\Anaconda3\\lib\\site-packages\\tensorflow_core\\python\\feature_column\\feature_column_v2.py:518: Layer.add_variable (from tensorflow.python.keras.engine.base_layer) is deprecated and will be removed in a future version.\nInstructions for updating:\nPlease use `layer.add_weight` method instead.\nINFO:tensorflow:Done calling model_fn.\nINFO:tensorflow:Create CheckpointSaverHook.\nINFO:tensorflow:Graph was finalized.\nINFO:tensorflow:Running local_init_op.\nINFO:tensorflow:Done running local_init_op.\nWARNING:tensorflow:From C:\\Users\\alexp\\Anaconda3\\lib\\site-packages\\tensorflow_core\\python\\training\\monitored_session.py:906: start_queue_runners (from tensorflow.python.training.queue_runner_impl) is deprecated and will be removed in a future version.\nInstructions for updating:\nTo construct input pipelines, use the `tf.data` module.\nINFO:tensorflow:Saving checkpoints for 0 into C:\\Users\\alexp\\AppData\\Local\\Temp\\tmp75f2psqa\\model.ckpt.\nINFO:tensorflow:loss = 69.31472, step = 0\nINFO:tensorflow:global_step/sec: 66.3801\nINFO:tensorflow:loss = 14116.363, step = 100 (1.515 sec)\nINFO:tensorflow:global_step/sec: 85.4885\nINFO:tensorflow:loss = 16251.084, step = 200 (1.152 sec)\nINFO:tensorflow:global_step/sec: 89.357\nINFO:tensorflow:loss = 26148.102, step = 300 (1.119 sec)\nINFO:tensorflow:global_step/sec: 87.6238\nINFO:tensorflow:loss = 12013.918, step = 400 (1.141 sec)\nINFO:tensorflow:global_step/sec: 88.3499\nINFO:tensorflow:loss = 60740.004, step = 500 (1.132 sec)\nINFO:tensorflow:global_step/sec: 83.047\nINFO:tensorflow:loss = 5053.287, step = 600 (1.203 sec)\nINFO:tensorflow:global_step/sec: 86.8628\nINFO:tensorflow:loss = 51147.332, step = 700 (1.152 sec)\nINFO:tensorflow:global_step/sec: 86.5175\nINFO:tensorflow:loss = 27677.102, step = 800 (1.156 sec)\nINFO:tensorflow:global_step/sec: 86.2401\nINFO:tensorflow:loss = 21913.303, step = 900 (1.159 sec)\nINFO:tensorflow:global_step/sec: 86.6426\nINFO:tensorflow:loss = 22355.084, step = 1000 (1.155 sec)\nINFO:tensorflow:global_step/sec: 83.8565\nINFO:tensorflow:loss = 5486.877, step = 1100 (1.193 sec)\nINFO:tensorflow:global_step/sec: 84.0559\nINFO:tensorflow:loss = 53407.836, step = 1200 (1.190 sec)\nINFO:tensorflow:global_step/sec: 87.1694\nINFO:tensorflow:loss = 17350.818, step = 1300 (1.146 sec)\nINFO:tensorflow:global_step/sec: 86.3515\nINFO:tensorflow:loss = 17786.793, step = 1400 (1.159 sec)\nINFO:tensorflow:global_step/sec: 89.055\nINFO:tensorflow:loss = 23456.273, step = 1500 (1.122 sec)\nINFO:tensorflow:global_step/sec: 89.0749\nINFO:tensorflow:loss = 35003.355, step = 1600 (1.124 sec)\nINFO:tensorflow:global_step/sec: 86.7481\nINFO:tensorflow:loss = 24526.988, step = 1700 (1.153 sec)\nINFO:tensorflow:global_step/sec: 89.0161\nINFO:tensorflow:loss = 23511.135, step = 1800 (1.123 sec)\nINFO:tensorflow:global_step/sec: 88.9234\nINFO:tensorflow:loss = 1813.5562, step = 1900 (1.124 sec)\nINFO:tensorflow:global_step/sec: 85.075\nINFO:tensorflow:loss = 13845.848, step = 2000 (1.176 sec)\nINFO:tensorflow:global_step/sec: 86.0154\nINFO:tensorflow:loss = 16935.17, step = 2100 (1.162 sec)\nINFO:tensorflow:global_step/sec: 86.3406\nINFO:tensorflow:loss = 18292.018, step = 2200 (1.159 sec)\nINFO:tensorflow:global_step/sec: 87.7076\nINFO:tensorflow:loss = 20866.447, step = 2300 (1.140 sec)\nINFO:tensorflow:global_step/sec: 85.6714\nINFO:tensorflow:loss = 4614.4673, step = 2400 (1.166 sec)\nINFO:tensorflow:global_step/sec: 86.8228\nINFO:tensorflow:loss = 11521.194, step = 2500 (1.152 sec)\nINFO:tensorflow:global_step/sec: 87.5178\nINFO:tensorflow:loss = 20692.85, step = 2600 (1.143 sec)\nINFO:tensorflow:global_step/sec: 89.1636\nINFO:tensorflow:loss = 15600.477, step = 2700 (1.123 sec)\nINFO:tensorflow:global_step/sec: 84.792\nINFO:tensorflow:loss = 14604.999, step = 2800 (1.178 sec)\nINFO:tensorflow:global_step/sec: 89.2033\nINFO:tensorflow:loss = 13945.492, step = 2900 (1.121 sec)\nINFO:tensorflow:global_step/sec: 89.5827\nINFO:tensorflow:loss = 2357.7898, step = 3000 (1.117 sec)\nINFO:tensorflow:global_step/sec: 90.4852\nINFO:tensorflow:loss = 11232.84, step = 3100 (1.105 sec)\nINFO:tensorflow:global_step/sec: 86.2792\nINFO:tensorflow:loss = 8115.76, step = 3200 (1.158 sec)\nINFO:tensorflow:global_step/sec: 88.6072\nINFO:tensorflow:loss = 25484.477, step = 3300 (1.129 sec)\nINFO:tensorflow:global_step/sec: 90.2765\nINFO:tensorflow:loss = 41120.58, step = 3400 (1.109 sec)\nINFO:tensorflow:global_step/sec: 89.8779\nINFO:tensorflow:loss = 10823.0625, step = 3500 (1.112 sec)\nINFO:tensorflow:global_step/sec: 90.3054\nINFO:tensorflow:loss = 6363.153, step = 3600 (1.108 sec)\nINFO:tensorflow:global_step/sec: 88.2593\nINFO:tensorflow:loss = 5200.9785, step = 3700 (1.133 sec)\nINFO:tensorflow:global_step/sec: 89.3024\nINFO:tensorflow:loss = 3531.432, step = 3800 (1.119 sec)\nINFO:tensorflow:global_step/sec: 89.5546\nINFO:tensorflow:loss = 3049.6692, step = 3900 (1.118 sec)\nINFO:tensorflow:global_step/sec: 89.1561\nINFO:tensorflow:loss = 2023.0267, step = 4000 (1.122 sec)\nINFO:tensorflow:global_step/sec: 88.1007\nINFO:tensorflow:loss = 25776.96, step = 4100 (1.135 sec)\nINFO:tensorflow:global_step/sec: 88.5508\nINFO:tensorflow:loss = 1817.2605, step = 4200 (1.129 sec)\nINFO:tensorflow:global_step/sec: 90.3337\nINFO:tensorflow:loss = 7497.467, step = 4300 (1.107 sec)\nINFO:tensorflow:global_step/sec: 89.4647\nINFO:tensorflow:loss = 12582.224, step = 4400 (1.117 sec)\nINFO:tensorflow:global_step/sec: 90.1684\nINFO:tensorflow:loss = 2014.088, step = 4500 (1.110 sec)\nINFO:tensorflow:global_step/sec: 89.4066\nINFO:tensorflow:loss = 4701.783, step = 4600 (1.117 sec)\nINFO:tensorflow:global_step/sec: 89.963\nINFO:tensorflow:loss = 6333.7134, step = 4700 (1.113 sec)\nINFO:tensorflow:global_step/sec: 90.5304\nINFO:tensorflow:loss = 6003.6895, step = 4800 (1.104 sec)\nINFO:tensorflow:global_step/sec: 88.6131\nINFO:tensorflow:loss = 6223.13, step = 4900 (1.129 sec)\nINFO:tensorflow:global_step/sec: 89.4254\nINFO:tensorflow:loss = 3803.6968, step = 5000 (1.118 sec)\nINFO:tensorflow:global_step/sec: 89.8369\nINFO:tensorflow:loss = 18096.297, step = 5100 (1.113 sec)\nINFO:tensorflow:global_step/sec: 90.4124\nINFO:tensorflow:loss = 3746.3357, step = 5200 (1.106 sec)\nINFO:tensorflow:global_step/sec: 87.062\nINFO:tensorflow:loss = 12955.812, step = 5300 (1.148 sec)\nINFO:tensorflow:global_step/sec: 91.3621\nINFO:tensorflow:loss = 11592.963, step = 5400 (1.096 sec)\nINFO:tensorflow:global_step/sec: 90.9835\nINFO:tensorflow:loss = 11372.642, step = 5500 (1.098 sec)\nINFO:tensorflow:global_step/sec: 90.6134\nINFO:tensorflow:loss = 3790.323, step = 5600 (1.105 sec)\nINFO:tensorflow:global_step/sec: 89.1397\nINFO:tensorflow:loss = 12317.184, step = 5700 (1.122 sec)\nINFO:tensorflow:global_step/sec: 88.9792\nINFO:tensorflow:loss = 8307.191, step = 5800 (1.123 sec)\nINFO:tensorflow:global_step/sec: 90.489\nINFO:tensorflow:loss = 1644.1168, step = 5900 (1.105 sec)\nINFO:tensorflow:global_step/sec: 90.9358\nINFO:tensorflow:loss = 1358.3602, step = 6000 (1.101 sec)\nINFO:tensorflow:global_step/sec: 89.4721\nINFO:tensorflow:loss = 23947.312, step = 6100 (1.117 sec)\nINFO:tensorflow:global_step/sec: 89.9968\nINFO:tensorflow:loss = 20718.895, step = 6200 (1.112 sec)\nINFO:tensorflow:global_step/sec: 89.8406\nINFO:tensorflow:loss = 12983.203, step = 6300 (1.113 sec)\nINFO:tensorflow:global_step/sec: 89.9916\nINFO:tensorflow:loss = 7955.6206, step = 6400 (1.111 sec)\nINFO:tensorflow:global_step/sec: 90.8007\nINFO:tensorflow:loss = 1208.6262, step = 6500 (1.100 sec)\nINFO:tensorflow:global_step/sec: 89.0251\nINFO:tensorflow:loss = 8215.24, step = 6600 (1.123 sec)\nINFO:tensorflow:global_step/sec: 90.1226\nINFO:tensorflow:loss = 12445.372, step = 6700 (1.110 sec)\nINFO:tensorflow:global_step/sec: 90.576\nINFO:tensorflow:loss = 5522.5225, step = 6800 (1.104 sec)\nINFO:tensorflow:global_step/sec: 83.9824\nINFO:tensorflow:loss = 951.88385, step = 6900 (1.192 sec)\nINFO:tensorflow:global_step/sec: 89.9396\nINFO:tensorflow:loss = 1450.3289, step = 7000 (1.112 sec)\nINFO:tensorflow:global_step/sec: 88.8895\nINFO:tensorflow:loss = 1277.1078, step = 7100 (1.125 sec)\nINFO:tensorflow:global_step/sec: 88.8793\nINFO:tensorflow:loss = 6235.0845, step = 7200 (1.124 sec)\nINFO:tensorflow:global_step/sec: 86.1054\nINFO:tensorflow:loss = 1650.9813, step = 7300 (1.162 sec)\nINFO:tensorflow:global_step/sec: 89.5414\nINFO:tensorflow:loss = 2070.0007, step = 7400 (1.117 sec)\nINFO:tensorflow:global_step/sec: 87.6245\nINFO:tensorflow:loss = 13253.043, step = 7500 (1.140 sec)\nINFO:tensorflow:global_step/sec: 90.0717\nINFO:tensorflow:loss = 6294.1133, step = 7600 (1.110 sec)\nINFO:tensorflow:global_step/sec: 89.8974\nINFO:tensorflow:loss = 1476.6515, step = 7700 (1.113 sec)\nINFO:tensorflow:global_step/sec: 90.856\nINFO:tensorflow:loss = 4936.916, step = 7800 (1.102 sec)\nINFO:tensorflow:global_step/sec: 86.7103\nINFO:tensorflow:loss = 1018.1266, step = 7900 (1.152 sec)\nINFO:tensorflow:Saving checkpoints for 8000 into C:\\Users\\alexp\\AppData\\Local\\Temp\\tmp75f2psqa\\model.ckpt.\nINFO:tensorflow:Loss for final step: 12781.12.\n"
    },
    {
     "output_type": "execute_result",
     "data": {
      "text/plain": "<tensorflow_estimator.python.estimator.canned.linear.LinearClassifier at 0x21b7b3a0ac8>"
     },
     "metadata": {},
     "execution_count": 56
    }
   ],
   "source": [
    "modelo.train(input_fn=funcion_entrada, steps=8000)"
   ]
  },
  {
   "cell_type": "code",
   "execution_count": 57,
   "metadata": {},
   "outputs": [],
   "source": [
    "funcion_prediccion = tf.estimator.inputs.pandas_input_fn(x = x_test, batch_size = len(x_test), shuffle = False)"
   ]
  },
  {
   "cell_type": "code",
   "execution_count": 71,
   "metadata": {},
   "outputs": [],
   "source": [
    "generador_predicciones = modelo.predict(input_fn=funcion_prediccion)"
   ]
  },
  {
   "cell_type": "code",
   "execution_count": 72,
   "metadata": {},
   "outputs": [
    {
     "output_type": "stream",
     "name": "stdout",
     "text": "INFO:tensorflow:Calling model_fn.\nINFO:tensorflow:Done calling model_fn.\nINFO:tensorflow:Graph was finalized.\nINFO:tensorflow:Restoring parameters from C:\\Users\\alexp\\AppData\\Local\\Temp\\tmp75f2psqa\\model.ckpt-8000\nINFO:tensorflow:Running local_init_op.\nINFO:tensorflow:Done running local_init_op.\n"
    }
   ],
   "source": [
    "predicciones = list(generador_predicciones)"
   ]
  },
  {
   "cell_type": "code",
   "execution_count": 73,
   "metadata": {},
   "outputs": [
    {
     "output_type": "execute_result",
     "data": {
      "text/plain": " array([0, 1]),\n  'all_classes': array([b'0', b'1'], dtype=object)},\n {'logits': array([-509.7996], dtype=float32),\n  'logistic': array([0.], dtype=float32),\n  'probabilities': array([1., 0.], dtype=float32),\n  'class_ids': array([0], dtype=int64),\n  'classes': array([b'0'], dtype=object),\n  'all_class_ids': array([0, 1]),\n  'all_classes': array([b'0', b'1'], dtype=object)},\n {'logits': array([-283.0467], dtype=float32),\n  'logistic': array([0.], dtype=float32),\n  'probabilities': array([1., 0.], dtype=float32),\n  'class_ids': array([0], dtype=int64),\n  'classes': array([b'0'], dtype=object),\n  'all_class_ids': array([0, 1]),\n  'all_classes': array([b'0', b'1'], dtype=object)},\n {'logits': array([-714.4661], dtype=float32),\n  'logistic': array([0.], dtype=float32),\n  'probabilities': array([1., 0.], dtype=float32),\n  'class_ids': array([0], dtype=int64),\n  'classes': array([b'0'], dtype=object),\n  'all_class_ids': array([0, 1]),\n  'all_classes': array([b'0', b'1'], dtype=object)},\n {'logits': array([-633.76984], dtype=float32),\n  'logistic': array([0.], dtype=float32),\n  'probabilities': array([1., 0.], dtype=float32),\n  'class_ids': array([0], dtype=int64),\n  'classes': array([b'0'], dtype=object),\n  'all_class_ids': array([0, 1]),\n  'all_classes': array([b'0', b'1'], dtype=object)},\n {'logits': array([-149.2077], dtype=float32),\n  'logistic': array([0.], dtype=float32),\n  'probabilities': array([1., 0.], dtype=float32),\n  'class_ids': array([0], dtype=int64),\n  'classes': array([b'0'], dtype=object),\n  'all_class_ids': array([0, 1]),\n  'all_classes': array([b'0', b'1'], dtype=object)},\n {'logits': array([-640.77203], dtype=float32),\n  'logistic': array([0.], dtype=float32),\n  'probabilities': array([1., 0.], dtype=float32),\n  'class_ids': array([0], dtype=int64),\n  'classes': array([b'0'], dtype=object),\n  'all_class_ids': array([0, 1]),\n  'all_classes': array([b'0', b'1'], dtype=object)},\n {'logits': array([-172.07413], dtype=float32),\n  'logistic': array([0.], dtype=float32),\n  'probabilities': array([1., 0.], dtype=float32),\n  'class_ids': array([0], dtype=int64),\n  'classes': array([b'0'], dtype=object),\n  'all_class_ids': array([0, 1]),\n  'all_classes': array([b'0', b'1'], dtype=object)},\n {'logits': array([-225.38968], dtype=float32),\n  'logistic': array([0.], dtype=float32),\n  'probabilities': array([1., 0.], dtype=float32),\n  'class_ids': array([0], dtype=int64),\n  'classes': array([b'0'], dtype=object),\n  'all_class_ids': array([0, 1]),\n  'all_classes': array([b'0', b'1'], dtype=object)},\n {'logits': array([-893.87646], dtype=float32),\n  'logistic': array([0.], dtype=float32),\n  'probabilities': array([1., 0.], dtype=float32),\n  'class_ids': array([0], dtype=int64),\n  'classes': array([b'0'], dtype=object),\n  'all_class_ids': array([0, 1]),\n  'all_classes': array([b'0', b'1'], dtype=object)},\n {'logits': array([-402.86484], dtype=float32),\n  'logistic': array([0.], dtype=float32),\n  'probabilities': array([1., 0.], dtype=float32),\n  'class_ids': array([0], dtype=int64),\n  'classes': array([b'0'], dtype=object),\n  'all_class_ids': array([0, 1]),\n  'all_classes': array([b'0', b'1'], dtype=object)},\n {'logits': array([-261.12595], dtype=float32),\n  'logistic': array([0.], dtype=float32),\n  'probabilities': array([1., 0.], dtype=float32),\n  'class_ids': array([0], dtype=int64),\n  'classes': array([b'0'], dtype=object),\n  'all_class_ids': array([0, 1]),\n  'all_classes': array([b'0', b'1'], dtype=object)},\n {'logits': array([-299.89957], dtype=float32),\n  'logistic': array([0.], dtype=float32),\n  'probabilities': array([1., 0.], dtype=float32),\n  'class_ids': array([0], dtype=int64),\n  'classes': array([b'0'], dtype=object),\n  'all_class_ids': array([0, 1]),\n  'all_classes': array([b'0', b'1'], dtype=object)},\n {'logits': array([-397.21722], dtype=float32),\n  'logistic': array([0.], dtype=float32),\n  'probabilities': array([1., 0.], dtype=float32),\n  'class_ids': array([0], dtype=int64),\n  'classes': array([b'0'], dtype=object),\n  'all_class_ids': array([0, 1]),\n  'all_classes': array([b'0', b'1'], dtype=object)},\n {'logits': array([-135.09755], dtype=float32),\n  'logistic': array([0.], dtype=float32),\n  'probabilities': array([1., 0.], dtype=float32),\n  'class_ids': array([0], dtype=int64),\n  'classes': array([b'0'], dtype=object),\n  'all_class_ids': array([0, 1]),\n  'all_classes': array([b'0', b'1'], dtype=object)},\n {'logits': array([3.4149356], dtype=float32),\n  'logistic': array([0.9681681], dtype=float32),\n  'probabilities': array([0.03183194, 0.9681681 ], dtype=float32),\n  'class_ids': array([1], dtype=int64),\n  'classes': array([b'1'], dtype=object),\n  'all_class_ids': array([0, 1]),\n  'all_classes': array([b'0', b'1'], dtype=object)},\n {'logits': array([-518.6772], dtype=float32),\n  'logistic': array([0.], dtype=float32),\n  'probabilities': array([1., 0.], dtype=float32),\n  'class_ids': array([0], dtype=int64),\n  'classes': array([b'0'], dtype=object),\n  'all_class_ids': array([0, 1]),\n  'all_classes': array([b'0', b'1'], dtype=object)},\n {'logits': array([-176.22374], dtype=float32),\n  'logistic': array([0.], dtype=float32),\n  'probabilities': array([1., 0.], dtype=float32),\n  'class_ids': array([0], dtype=int64),\n  'classes': array([b'0'], dtype=object),\n  'all_class_ids': array([0, 1]),\n  'all_classes': array([b'0', b'1'], dtype=object)},\n {'logits': array([-428.05746], dtype=float32),\n  'logistic': array([0.], dtype=float32),\n  'probabilities': array([1., 0.], dtype=float32),\n  'class_ids': array([0], dtype=int64),\n  'classes': array([b'0'], dtype=object),\n  'all_class_ids': array([0, 1]),\n  'all_classes': array([b'0', b'1'], dtype=object)},\n {'logits': array([-306.02316], dtype=float32),\n  'logistic': array([0.], dtype=float32),\n  'probabilities': array([1., 0.], dtype=float32),\n  'class_ids': array([0], dtype=int64),\n  'classes': array([b'0'], dtype=object),\n  'all_class_ids': array([0, 1]),\n  'all_classes': array([b'0', b'1'], dtype=object)},\n {'logits': array([-854.31714], dtype=float32),\n  'logistic': array([0.], dtype=float32),\n  'probabilities': array([1., 0.], dtype=float32),\n  'class_ids': array([0], dtype=int64),\n  'classes': array([b'0'], dtype=object),\n  'all_class_ids': array([0, 1]),\n  'all_classes': array([b'0', b'1'], dtype=object)},\n {'logits': array([-93.06871], dtype=float32),\n  'logistic': array([0.], dtype=float32),\n  'probabilities': array([1., 0.], dtype=float32),\n  'class_ids': array([0], dtype=int64),\n  'classes': array([b'0'], dtype=object),\n  'all_class_ids': array([0, 1]),\n  'all_classes': array([b'0', b'1'], dtype=object)},\n {'logits': array([-198.38576], dtype=float32),\n  'logistic': array([0.], dtype=float32),\n  'probabilities': array([1., 0.], dtype=float32),\n  'class_ids': array([0], dtype=int64),\n  'classes': array([b'0'], dtype=object),\n  'all_class_ids': array([0, 1]),\n  'all_classes': array([b'0', b'1'], dtype=object)},\n {'logits': array([-1120.146], dtype=float32),\n  'logistic': array([0.], dtype=float32),\n  'probabilities': array([1., 0.], dtype=float32),\n  'class_ids': array([0], dtype=int64),\n  'classes': array([b'0'], dtype=object),\n  'all_class_ids': array([0, 1]),\n  'all_classes': array([b'0', b'1'], dtype=object)},\n {'logits': array([-556.97906], dtype=float32),\n  'logistic': array([0.], dtype=float32),\n  'probabilities': array([1., 0.], dtype=float32),\n  'class_ids': array([0], dtype=int64),\n  'classes': array([b'0'], dtype=object),\n  'all_class_ids': array([0, 1]),\n  'all_classes': array([b'0', b'1'], dtype=object)},\n {'logits': array([-205.64627], dtype=float32),\n  'logistic': array([0.], dtype=float32),\n  'probabilities': array([1., 0.], dtype=float32),\n  'class_ids': array([0], dtype=int64),\n  'classes': array([b'0'], dtype=object),\n  'all_class_ids': array([0, 1]),\n  'all_classes': array([b'0', b'1'], dtype=object)},\n {'logits': array([-504.2098], dtype=float32),\n  'logistic': array([0.], dtype=float32),\n  'probabilities': array([1., 0.], dtype=float32),\n  'class_ids': array([0], dtype=int64),\n  'classes': array([b'0'], dtype=object),\n  'all_class_ids': array([0, 1]),\n  'all_classes': array([b'0', b'1'], dtype=object)},\n {'logits': array([-345.95337], dtype=float32),\n  'logistic': array([0.], dtype=float32),\n  'probabilities': array([1., 0.], dtype=float32),\n  'class_ids': array([0], dtype=int64),\n  'classes': array([b'0'], dtype=object),\n  'all_class_ids': array([0, 1]),\n  'all_classes': array([b'0', b'1'], dtype=object)},\n {'logits': array([-941.45294], dtype=float32),\n  'logistic': array([0.], dtype=float32),\n  'probabilities': array([1., 0.], dtype=float32),\n  'class_ids': array([0], dtype=int64),\n  'classes': array([b'0'], dtype=object),\n  'all_class_ids': array([0, 1]),\n  'all_classes': array([b'0', b'1'], dtype=object)},\n {'logits': array([-712.8097], dtype=float32),\n  'logistic': array([0.], dtype=float32),\n  'probabilities': array([1., 0.], dtype=float32),\n  'class_ids': array([0], dtype=int64),\n  'classes': array([b'0'], dtype=object),\n  'all_class_ids': array([0, 1]),\n  'all_classes': array([b'0', b'1'], dtype=object)},\n {'logits': array([-919.42444], dtype=float32),\n  'logistic': array([0.], dtype=float32),\n  'probabilities': array([1., 0.], dtype=float32),\n  'class_ids': array([0], dtype=int64),\n  'classes': array([b'0'], dtype=object),\n  'all_class_ids': array([0, 1]),\n  'all_classes': array([b'0', b'1'], dtype=object)},\n {'logits': array([-295.0636], dtype=float32),\n  'logistic': array([0.], dtype=float32),\n  'probabilities': array([1., 0.], dtype=float32),\n  'class_ids': array([0], dtype=int64),\n  'classes': array([b'0'], dtype=object),\n  'all_class_ids': array([0, 1]),\n  'all_classes': array([b'0', b'1'], dtype=object)},\n {'logits': array([-133.44214], dtype=float32),\n  'logistic': array([0.], dtype=float32),\n  'probabilities': array([1., 0.], dtype=float32),\n  'class_ids': array([0], dtype=int64),\n  'classes': array([b'0'], dtype=object),\n  'all_class_ids': array([0, 1]),\n  'all_classes': array([b'0', b'1'], dtype=object)},\n {'logits': array([-664.2156], dtype=float32),\n  'logistic': array([0.], dtype=float32),\n  'probabilities': array([1., 0.], dtype=float32),\n  'class_ids': array([0], dtype=int64),\n  'classes': array([b'0'], dtype=object),\n  'all_class_ids': array([0, 1]),\n  'all_classes': array([b'0', b'1'], dtype=object)},\n {'logits': array([-278.13843], dtype=float32),\n  'logistic': array([0.], dtype=float32),\n  'probabilities': array([1., 0.], dtype=float32),\n  'class_ids': array([0], dtype=int64),\n  'classes': array([b'0'], dtype=object),\n  'all_class_ids': array([0, 1]),\n  'all_classes': array([b'0', b'1'], dtype=object)},\n {'logits': array([-707.67816], dtype=float32),\n  'logistic': array([0.], dtype=float32),\n  'probabilities': array([1., 0.], dtype=float32),\n  'class_ids': array([0], dtype=int64),\n  'classes': array([b'0'], dtype=object),\n  'all_class_ids': array([0, 1]),\n  'all_classes': array([b'0', b'1'], dtype=object)},\n {'logits': array([-363.6939], dtype=float32),\n  'logistic': array([0.], dtype=float32),\n  'probabilities': array([1., 0.], dtype=float32),\n  'class_ids': array([0], dtype=int64),\n  'classes': array([b'0'], dtype=object),\n  'all_class_ids': array([0, 1]),\n  'all_classes': array([b'0', b'1'], dtype=object)},\n {'logits': array([-340.55118], dtype=float32),\n  'logistic': array([0.], dtype=float32),\n  'probabilities': array([1., 0.], dtype=float32),\n  'class_ids': array([0], dtype=int64),\n  'classes': array([b'0'], dtype=object),\n  'all_class_ids': array([0, 1]),\n  'all_classes': array([b'0', b'1'], dtype=object)},\n {'logits': array([51.012836], dtype=float32),\n  'logistic': array([1.], dtype=float32),\n  'probabilities': array([7.0049757e-23, 1.0000000e+00], dtype=float32),\n  'class_ids': array([1], dtype=int64),\n  'classes': array([b'1'], dtype=object),\n  'all_class_ids': array([0, 1]),\n  'all_classes': array([b'0', b'1'], dtype=object)},\n {'logits': array([-187.08022], dtype=float32),\n  'logistic': array([0.], dtype=float32),\n  'probabilities': array([1., 0.], dtype=float32),\n  'class_ids': array([0], dtype=int64),\n  'classes': array([b'0'], dtype=object),\n  'all_class_ids': array([0, 1]),\n  'all_classes': array([b'0', b'1'], dtype=object)},\n {'logits': array([-406.50714], dtype=float32),\n  'logistic': array([0.], dtype=float32),\n  'probabilities': array([1., 0.], dtype=float32),\n  'class_ids': array([0], dtype=int64),\n  'classes': array([b'0'], dtype=object),\n  'all_class_ids': array([0, 1]),\n  'all_classes': array([b'0', b'1'], dtype=object)},\n {'logits': array([-595.1511], dtype=float32),\n  'logistic': array([0.], dtype=float32),\n  'probabilities': array([1., 0.], dtype=float32),\n  'class_ids': array([0], dtype=int64),\n  'classes': array([b'0'], dtype=object),\n  'all_class_ids': array([0, 1]),\n  'all_classes': array([b'0', b'1'], dtype=object)},\n {'logits': array([-498.01773], dtype=float32),\n  'logistic': array([0.], dtype=float32),\n  'probabilities': array([1., 0.], dtype=float32),\n  'class_ids': array([0], dtype=int64),\n  'classes': array([b'0'], dtype=object),\n  'all_class_ids': array([0, 1]),\n  'all_classes': array([b'0', b'1'], dtype=object)},\n {'logits': array([351.5764], dtype=float32),\n  'logistic': array([1.], dtype=float32),\n  'probabilities': array([0., 1.], dtype=float32),\n  'class_ids': array([1], dtype=int64),\n  'classes': array([b'1'], dtype=object),\n  'all_class_ids': array([0, 1]),\n  'all_classes': array([b'0', b'1'], dtype=object)},\n {'logits': array([-430.29715], dtype=float32),\n  'logistic': array([0.], dtype=float32),\n  'probabilities': array([1., 0.], dtype=float32),\n  'class_ids': array([0], dtype=int64),\n  'classes': array([b'0'], dtype=object),\n  'all_class_ids': array([0, 1]),\n  'all_classes': array([b'0', b'1'], dtype=object)},\n {'logits': array([-33.036594], dtype=float32),\n  'logistic': array([4.4914786e-15], dtype=float32),\n  'probabilities': array([1.0000000e+00, 4.4914786e-15], dtype=float32),\n  'class_ids': array([0], dtype=int64),\n  'classes': array([b'0'], dtype=object),\n  'all_class_ids': array([0, 1]),\n  'all_classes': array([b'0', b'1'], dtype=object)},\n {'logits': array([-616.6513], dtype=float32),\n  'logistic': array([0.], dtype=float32),\n  'probabilities': array([1., 0.], dtype=float32),\n  'class_ids': array([0], dtype=int64),\n  'classes': array([b'0'], dtype=object),\n  'all_class_ids': array([0, 1]),\n  'all_classes': array([b'0', b'1'], dtype=object)},\n {'logits': array([-82.062164], dtype=float32),\n  'logistic': array([2.2953814e-36], dtype=float32),\n  'probabilities': array([1.0000000e+00, 2.2953814e-36], dtype=float32),\n  'class_ids': array([0], dtype=int64),\n  'classes': array([b'0'], dtype=object),\n  'all_class_ids': array([0, 1]),\n  'all_classes': array([b'0', b'1'], dtype=object)},\n {'logits': array([-586.79877], dtype=float32),\n  'logistic': array([0.], dtype=float32),\n  'probabilities': array([1., 0.], dtype=float32),\n  'class_ids': array([0], dtype=int64),\n  'classes': array([b'0'], dtype=object),\n  'all_class_ids': array([0, 1]),\n  'all_classes': array([b'0', b'1'], dtype=object)},\n {'logits': array([-287.37772], dtype=float32),\n  'logistic': array([0.], dtype=float32),\n  'probabilities': array([1., 0.], dtype=float32),\n  'class_ids': array([0], dtype=int64),\n  'classes': array([b'0'], dtype=object),\n  'all_class_ids': array([0, 1]),\n  'all_classes': array([b'0', b'1'], dtype=object)},\n {'logits': array([-447.80487], dtype=float32),\n  'logistic': array([0.], dtype=float32),\n  'probabilities': array([1., 0.], dtype=float32),\n  'class_ids': array([0], dtype=int64),\n  'classes': array([b'0'], dtype=object),\n  'all_class_ids': array([0, 1]),\n  'all_classes': array([b'0', b'1'], dtype=object)},\n {'logits': array([-400.6424], dtype=float32),\n  'logistic': array([0.], dtype=float32),\n  'probabilities': array([1., 0.], dtype=float32),\n  'class_ids': array([0], dtype=int64),\n  'classes': array([b'0'], dtype=object),\n  'all_class_ids': array([0, 1]),\n  'all_classes': array([b'0', b'1'], dtype=object)},\n {'logits': array([-219.2154], dtype=float32),\n  'logistic': array([0.], dtype=float32),\n  'probabilities': array([1., 0.], dtype=float32),\n  'class_ids': array([0], dtype=int64),\n  'classes': array([b'0'], dtype=object),\n  'all_class_ids': array([0, 1]),\n  'all_classes': array([b'0', b'1'], dtype=object)},\n {'logits': array([-396.53223], dtype=float32),\n  'logistic': array([0.], dtype=float32),\n  'probabilities': array([1., 0.], dtype=float32),\n  'class_ids': array([0], dtype=int64),\n  'classes': array([b'0'], dtype=object),\n  'all_class_ids': array([0, 1]),\n  'all_classes': array([b'0', b'1'], dtype=object)},\n {'logits': array([-522.4875], dtype=float32),\n  'logistic': array([0.], dtype=float32),\n  'probabilities': array([1., 0.], dtype=float32),\n  'class_ids': array([0], dtype=int64),\n  'classes': array([b'0'], dtype=object),\n  'all_class_ids': array([0, 1]),\n  'all_classes': array([b'0', b'1'], dtype=object)},\n {'logits': array([-434.0642], dtype=float32),\n  'logistic': array([0.], dtype=float32),\n  'probabilities': array([1., 0.], dtype=float32),\n  'class_ids': array([0], dtype=int64),\n  'classes': array([b'0'], dtype=object),\n  'all_class_ids': array([0, 1]),\n  'all_classes': array([b'0', b'1'], dtype=object)},\n {'logits': array([-450.54272], dtype=float32),\n  'logistic': array([0.], dtype=float32),\n  'probabilities': array([1., 0.], dtype=float32),\n  'class_ids': array([0], dtype=int64),\n  'classes': array([b'0'], dtype=object),\n  'all_class_ids': array([0, 1]),\n  'all_classes': array([b'0', b'1'], dtype=object)},\n {'logits': array([-378.63788], dtype=float32),\n  'logistic': array([0.], dtype=float32),\n  'probabilities': array([1., 0.], dtype=float32),\n  'class_ids': array([0], dtype=int64),\n  'classes': array([b'0'], dtype=object),\n  'all_class_ids': array([0, 1]),\n  'all_classes': array([b'0', b'1'], dtype=object)},\n {'logits': array([-374.7913], dtype=float32),\n  'logistic': array([0.], dtype=float32),\n  'probabilities': array([1., 0.], dtype=float32),\n  'class_ids': array([0], dtype=int64),\n  'classes': array([b'0'], dtype=object),\n  'all_class_ids': array([0, 1]),\n  'all_classes': array([b'0', b'1'], dtype=object)},\n {'logits': array([-721.6873], dtype=float32),\n  'logistic': array([0.], dtype=float32),\n  'probabilities': array([1., 0.], dtype=float32),\n  'class_ids': array([0], dtype=int64),\n  'classes': array([b'0'], dtype=object),\n  'all_class_ids': array([0, 1]),\n  'all_classes': array([b'0', b'1'], dtype=object)},\n {'logits': array([-374.48407], dtype=float32),\n  'logistic': array([0.], dtype=float32),\n  'probabilities': array([1., 0.], dtype=float32),\n  'class_ids': array([0], dtype=int64),\n  'classes': array([b'0'], dtype=object),\n  'all_class_ids': array([0, 1]),\n  'all_classes': array([b'0', b'1'], dtype=object)},\n {'logits': array([-384.47824], dtype=float32),\n  'logistic': array([0.], dtype=float32),\n  'probabilities': array([1., 0.], dtype=float32),\n  'class_ids': array([0], dtype=int64),\n  'classes': array([b'0'], dtype=object),\n  'all_class_ids': array([0, 1]),\n  'all_classes': array([b'0', b'1'], dtype=object)},\n {'logits': array([-248.83385], dtype=float32),\n  'logistic': array([0.], dtype=float32),\n  'probabilities': array([1., 0.], dtype=float32),\n  'class_ids': array([0], dtype=int64),\n  'classes': array([b'0'], dtype=object),\n  'all_class_ids': array([0, 1]),\n  'all_classes': array([b'0', b'1'], dtype=object)},\n {'logits': array([-762.9531], dtype=float32),\n  'logistic': array([0.], dtype=float32),\n  'probabilities': array([1., 0.], dtype=float32),\n  'class_ids': array([0], dtype=int64),\n  'classes': array([b'0'], dtype=object),\n  'all_class_ids': array([0, 1]),\n  'all_classes': array([b'0', b'1'], dtype=object)},\n {'logits': array([-952.74493], dtype=float32),\n  'logistic': array([0.], dtype=float32),\n  'probabilities': array([1., 0.], dtype=float32),\n  'class_ids': array([0], dtype=int64),\n  'classes': array([b'0'], dtype=object),\n  'all_class_ids': array([0, 1]),\n  'all_classes': array([b'0', b'1'], dtype=object)},\n ...]"
     },
     "metadata": {},
     "execution_count": 73
    }
   ],
   "source": [
    "predicciones"
   ]
  },
  {
   "cell_type": "code",
   "execution_count": 74,
   "metadata": {},
   "outputs": [],
   "source": [
    "predicciones_finales = [prediccion['class_ids'][0] for prediccion in predicciones]"
   ]
  },
  {
   "cell_type": "code",
   "execution_count": 75,
   "metadata": {},
   "outputs": [
    {
     "output_type": "execute_result",
     "data": {
      "text/plain": "[0,\n 0,\n 0,\n 0,\n 0,\n 0,\n 0,\n 0,\n 1,\n 0,\n 0,\n 0,\n 0,\n 0,\n 0,\n 0,\n 0,\n 0,\n 0,\n 0,\n 0,\n 0,\n 0,\n 0,\n 0,\n 0,\n 0,\n 0,\n 0,\n 0,\n 0,\n 0,\n 0,\n 0,\n 0,\n 0,\n 0,\n 0,\n 0,\n 0,\n 0,\n 0,\n 0,\n 0,\n 0,\n 0,\n 0,\n 0,\n 0,\n 0,\n 0,\n 0,\n 0,\n 0,\n 0,\n 0,\n 0,\n 0,\n 0,\n 0,\n 0,\n 0,\n 0,\n 0,\n 0,\n 0,\n 0,\n 0,\n 0,\n 0,\n 0,\n 0,\n 0,\n 0,\n 0,\n 0,\n 0,\n 0,\n 0,\n 0,\n 0,\n 0,\n 0,\n 0,\n 0,\n 0,\n 0,\n 0,\n 0,\n 1,\n 0,\n 0,\n 1,\n 0,\n 0,\n 0,\n 0,\n 0,\n 0,\n 1,\n 0,\n 0,\n 0,\n 0,\n 0,\n 0,\n 0,\n 0,\n 0,\n 0,\n 0,\n 0,\n 0,\n 0,\n 0,\n 0,\n 0,\n 0,\n 0,\n 0,\n 0,\n 0,\n 0,\n 0,\n 0,\n 0,\n 0,\n 0,\n 0,\n 0,\n 0,\n 0,\n 0,\n 0,\n 0,\n 0,\n 0,\n 0,\n 0,\n 0,\n 0,\n 0,\n 0,\n 0,\n 0,\n 0,\n 0,\n 0,\n 0,\n 0,\n 0,\n 0,\n 0,\n 0,\n 0,\n 0,\n 0,\n 0,\n 0,\n 0,\n 0,\n 0,\n 0,\n 0,\n 0,\n 0,\n 0,\n 0,\n 0,\n 0,\n 0,\n 1,\n 0,\n 0,\n 0,\n 0,\n 0,\n 0,\n 0,\n 0,\n 0,\n 0,\n 0,\n 0,\n 0,\n 0,\n 0,\n 1,\n 0,\n 0,\n 0,\n 1,\n 0,\n 0,\n 0,\n 0,\n 0,\n 0,\n 0,\n 0,\n 0,\n 0,\n 0,\n 0,\n 0,\n 0,\n 0,\n 0,\n 0,\n 1,\n 0,\n 0,\n 0,\n 0,\n 0,\n 0,\n 0,\n 0,\n 0,\n 0,\n 0,\n 0,\n 0,\n 0,\n 0,\n 0,\n 0,\n 0,\n 0,\n 0,\n 0,\n 0,\n 0,\n 0,\n 0,\n 0,\n 0,\n 0,\n 0,\n 0,\n 0,\n 0,\n 0,\n 0,\n 0,\n 0,\n 0,\n 0,\n 0,\n 0,\n 0,\n 0,\n 0,\n 0,\n 0,\n 0,\n 0,\n 0,\n 0,\n 0,\n 0,\n 0,\n 0,\n 0,\n 0,\n 0,\n 0,\n 0,\n 0,\n 0,\n 0,\n 0,\n 0,\n 0,\n 0,\n 1,\n 0,\n 0,\n 0,\n 0,\n 0,\n 1,\n 1,\n 0,\n 0,\n 0,\n 1,\n 0,\n 0,\n 0,\n 0,\n 0,\n 0,\n 0,\n 0,\n 1,\n 0,\n 0,\n 0,\n 0,\n 0,\n 0,\n 0,\n 0,\n 0,\n 0,\n 0,\n 0,\n 0,\n 0,\n 0,\n 0,\n 0,\n 0,\n 0,\n 0,\n 0,\n 0,\n 0,\n 0,\n 0,\n 1,\n 0,\n 0,\n 0,\n 0,\n 0,\n 0,\n 0,\n 0,\n 0,\n 0,\n 0,\n 0,\n 0,\n 0,\n 0,\n 0,\n 0,\n 0,\n 0,\n 0,\n 0,\n 0,\n 0,\n 0,\n 0,\n 0,\n 0,\n 0,\n 0,\n 0,\n 0,\n 0,\n 0,\n 0,\n 1,\n 0,\n 0,\n 0,\n 0,\n 1,\n 0,\n 0,\n 0,\n 0,\n 0,\n 0,\n 0,\n 0,\n 0,\n 0,\n 0,\n 0,\n 0,\n 0,\n 0,\n 0,\n 0,\n 0,\n 0,\n 0,\n 0,\n 0,\n 0,\n 0,\n 0,\n 0,\n 0,\n 0,\n 0,\n 0,\n 0,\n 0,\n 0,\n 0,\n 1,\n 0,\n 0,\n 0,\n 1,\n 1,\n 0,\n 0,\n 0,\n 0,\n 0,\n 0,\n 0,\n 0,\n 0,\n 0,\n 0,\n 0,\n 0,\n 0,\n 0,\n 0,\n 0,\n 0,\n 0,\n 0,\n 0,\n 0,\n 0,\n 0,\n 0,\n 0,\n 0,\n 1,\n 0,\n 0,\n 0,\n 0,\n 0,\n 0,\n 0,\n 0,\n 1,\n 0,\n 0,\n 0,\n 0,\n 0,\n 0,\n 0,\n 0,\n 0,\n 0,\n 0,\n 1,\n 0,\n 0,\n 0,\n 0,\n 0,\n 1,\n 0,\n 0,\n 0,\n 0,\n 0,\n 0,\n 0,\n 0,\n 0,\n 0,\n 0,\n 0,\n 0,\n 0,\n 0,\n 0,\n 0,\n 1,\n 0,\n 0,\n 0,\n 0,\n 0,\n 0,\n 0,\n 0,\n 1,\n 0,\n 0,\n 0,\n 0,\n 0,\n 0,\n 0,\n 0,\n 0,\n 0,\n 0,\n 0,\n 1,\n 0,\n 0,\n 0,\n 0,\n 0,\n 0,\n 0,\n 1,\n 0,\n 0,\n 0,\n 0,\n 0,\n 0,\n 0,\n 0,\n 0,\n 0,\n 0,\n 0,\n 0,\n 0,\n 0,\n 0,\n 0,\n 0,\n 0,\n 0,\n 0,\n 0,\n 0,\n 0,\n 0,\n 0,\n 0,\n 0,\n 0,\n 0,\n 0,\n 0,\n 0,\n 0,\n 0,\n 0,\n 0,\n 0,\n 0,\n 0,\n 0,\n 0,\n 0,\n 0,\n 0,\n 0,\n 0,\n 0,\n 0,\n 0,\n 0,\n 0,\n 0,\n 0,\n 0,\n 0,\n 0,\n 0,\n 0,\n 0,\n 0,\n 0,\n 0,\n 0,\n 0,\n 0,\n 0,\n 0,\n 0,\n 0,\n 0,\n 0,\n 0,\n 0,\n 0,\n 0,\n 0,\n 0,\n 0,\n 0,\n 0,\n 0,\n 0,\n 0,\n 0,\n 0,\n 0,\n 0,\n 0,\n 0,\n 1,\n 0,\n 0,\n 0,\n 1,\n 0,\n 0,\n 0,\n 0,\n 0,\n 0,\n 0,\n 0,\n 0,\n 0,\n 0,\n 0,\n 0,\n 0,\n 0,\n 0,\n 0,\n 0,\n 0,\n 0,\n 0,\n 0,\n 0,\n 0,\n 0,\n 0,\n 0,\n 0,\n 0,\n 0,\n 0,\n 0,\n 0,\n 0,\n 0,\n 0,\n 0,\n 0,\n 0,\n 0,\n 0,\n 0,\n 0,\n 0,\n 0,\n 0,\n 0,\n 0,\n 0,\n 1,\n 0,\n 0,\n 0,\n 0,\n 0,\n 0,\n 0,\n 0,\n 0,\n 0,\n 0,\n 0,\n 0,\n 0,\n 0,\n 0,\n 0,\n 1,\n 0,\n 0,\n 0,\n 0,\n 0,\n 0,\n 0,\n 0,\n 0,\n 0,\n 0,\n 0,\n 0,\n 0,\n 0,\n 0,\n 0,\n 0,\n 0,\n 0,\n 0,\n 0,\n 0,\n 0,\n 0,\n 0,\n 0,\n 0,\n 0,\n 0,\n 0,\n 1,\n 0,\n 0,\n 0,\n 0,\n 0,\n 0,\n 0,\n 0,\n 0,\n 0,\n 0,\n 0,\n 0,\n 0,\n 0,\n 0,\n 0,\n 0,\n 0,\n 0,\n 0,\n 0,\n 0,\n 0,\n 0,\n 0,\n 0,\n 0,\n 0,\n 0,\n 0,\n 0,\n 0,\n 0,\n 0,\n 0,\n 0,\n 0,\n 0,\n 0,\n 0,\n 0,\n 0,\n 0,\n 0,\n 0,\n 0,\n 0,\n 0,\n 0,\n 0,\n 0,\n 0,\n 0,\n 0,\n 0,\n 0,\n 0,\n 0,\n 0,\n 0,\n 0,\n 0,\n 0,\n 0,\n 0,\n 0,\n 0,\n 0,\n 0,\n 1,\n 0,\n 0,\n 0,\n 0,\n 0,\n 0,\n 0,\n 0,\n 0,\n 0,\n 0,\n 0,\n 0,\n 0,\n 0,\n 0,\n 0,\n 0,\n 0,\n 0,\n 0,\n 0,\n 0,\n 0,\n 0,\n 0,\n 0,\n 0,\n 0,\n 0,\n 0,\n 0,\n 0,\n 0,\n 0,\n 0,\n 1,\n 0,\n 0,\n 0,\n 0,\n 0,\n 0,\n 0,\n 0,\n 0,\n 0,\n 0,\n 0,\n 0,\n 0,\n 0,\n 0,\n 0,\n 0,\n 0,\n 0,\n 0,\n 0,\n 0,\n 0,\n 0,\n 0,\n 0,\n 0,\n 0,\n 1,\n 0,\n 0,\n 0,\n 0,\n 0,\n 0,\n 0,\n 0,\n 0,\n 0,\n 0,\n 0,\n 0,\n 0,\n 0,\n 0,\n 0,\n 0,\n 0,\n 0,\n 0,\n 0,\n 0,\n 0,\n 0,\n 0,\n 0,\n 0,\n 0,\n 0,\n 0,\n 0,\n 0,\n 0,\n 0,\n 0,\n 0,\n 0,\n 0,\n 0,\n 0,\n 0,\n 0,\n 0,\n 0,\n 0,\n 0,\n 0,\n 0,\n 0,\n 0,\n 1,\n 0,\n 0,\n 0,\n 0,\n 0,\n 0,\n 0,\n 0,\n 0,\n 0,\n 0,\n 0,\n 0,\n 0,\n 0,\n 0,\n 0,\n 0,\n 0,\n 0,\n 0,\n 0,\n 0,\n 0,\n 0,\n 0,\n 0,\n 0,\n 1,\n 0,\n 0,\n 0,\n 0,\n 0,\n 1,\n 0,\n 0,\n 0,\n 0,\n 0,\n 0,\n 0,\n 0,\n 0,\n 0,\n 0,\n 0,\n 0,\n 0,\n 0,\n 0,\n 0,\n 0,\n 0,\n 0,\n 0,\n 0,\n 0,\n 0,\n 0,\n 1,\n 0,\n 0,\n 0,\n 0,\n 0,\n 0,\n 0,\n 0,\n 0,\n 0,\n 0,\n 0,\n 0,\n 0,\n 0,\n 0,\n 0,\n 0,\n 0,\n 0,\n 0,\n 0,\n 1,\n 0,\n 0,\n 0,\n 0,\n 1,\n 0,\n 0,\n 0,\n 0,\n 0,\n 0,\n 0,\n 0,\n 0,\n 0,\n 0,\n 0,\n 0,\n 0,\n 0,\n 0,\n 0,\n 0,\n 0,\n 0,\n 0,\n ...]"
     },
     "metadata": {},
     "execution_count": 75
    }
   ],
   "source": [
    "predicciones_finales"
   ]
  },
  {
   "cell_type": "code",
   "execution_count": 76,
   "metadata": {},
   "outputs": [],
   "source": [
    "from sklearn.metrics import classification_report"
   ]
  },
  {
   "cell_type": "code",
   "execution_count": 77,
   "metadata": {},
   "outputs": [
    {
     "output_type": "stream",
     "name": "stdout",
     "text": "precision    recall  f1-score   support\n\n           0       0.79      0.99      0.88     11131\n           1       0.82      0.15      0.26      3522\n\n    accuracy                           0.79     14653\n   macro avg       0.80      0.57      0.57     14653\nweighted avg       0.79      0.79      0.73     14653\n\n"
    }
   ],
   "source": [
    "print(classification_report(y_test, predicciones_finales))"
   ]
  }
 ]
}