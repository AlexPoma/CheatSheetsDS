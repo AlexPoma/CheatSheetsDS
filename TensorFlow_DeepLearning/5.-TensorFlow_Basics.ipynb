{
 "nbformat": 4,
 "nbformat_minor": 2,
 "metadata": {
  "language_info": {
   "name": "python",
   "codemirror_mode": {
    "name": "ipython",
    "version": 3
   },
   "version": "3.7.4-final"
  },
  "orig_nbformat": 2,
  "file_extension": ".py",
  "mimetype": "text/x-python",
  "name": "python",
  "npconvert_exporter": "python",
  "pygments_lexer": "ipython3",
  "version": 3,
  "kernelspec": {
   "name": "python3",
   "display_name": "Python 3"
  }
 },
 "cells": [
  {
   "cell_type": "markdown",
   "metadata": {},
   "source": [
    "## TensorFlow - Sintaxis Básica"
   ]
  },
  {
   "cell_type": "code",
   "execution_count": 1,
   "metadata": {},
   "outputs": [],
   "source": [
    "import tensorflow as tf"
   ]
  },
  {
   "cell_type": "code",
   "execution_count": 18,
   "metadata": {},
   "outputs": [],
   "source": [
    "mensaje1 = tf.constant(\"Hola \")\n",
    "mensaje2 = tf.constant(\"Mundo\")"
   ]
  },
  {
   "cell_type": "code",
   "execution_count": 19,
   "metadata": {},
   "outputs": [
    {
     "output_type": "stream",
     "name": "stdout",
     "text": "tf.Tensor(b'Hola', shape=(), dtype=string)\n"
    }
   ],
   "source": [
    "print(mensaje1)"
   ]
  },
  {
   "cell_type": "code",
   "execution_count": 20,
   "metadata": {},
   "outputs": [
    {
     "output_type": "execute_result",
     "data": {
      "text/plain": "tensorflow.python.framework.ops.EagerTensor"
     },
     "metadata": {},
     "execution_count": 20
    }
   ],
   "source": [
    "type(mensaje1)"
   ]
  },
  {
   "cell_type": "code",
   "execution_count": 22,
   "metadata": {},
   "outputs": [],
   "source": [
    "with tf.compat.v1.Session() as session:\n",
    "    mensaje1 = tf.constant(\"Hola \")\n",
    "    mensaje2 = tf.constant(\"Mundo\")\n",
    "    resultado = session.run( mensaje1 + mensaje2)"
   ]
  },
  {
   "cell_type": "code",
   "execution_count": 23,
   "metadata": {},
   "outputs": [
    {
     "output_type": "execute_result",
     "data": {
      "text/plain": "b'Hola Mundo'"
     },
     "metadata": {},
     "execution_count": 23
    }
   ],
   "source": [
    "resultado"
   ]
  },
  {
   "cell_type": "code",
   "execution_count": 24,
   "metadata": {},
   "outputs": [
    {
     "output_type": "stream",
     "name": "stdout",
     "text": "15\n"
    }
   ],
   "source": [
    "with tf.compat.v1.Session() as session:\n",
    "    print(session.run( tf.constant(10) + tf.constant(5)))"
   ]
  },
  {
   "cell_type": "code",
   "execution_count": 36,
   "metadata": {},
   "outputs": [],
   "source": [
    "constante = tf.constant(15)\n",
    "matriz1 = tf.fill((6,6),10)\n",
    "matriz2 = tf.random.normal((5,5))\n",
    "matriz3 = tf.random.uniform((4,4), minval=0, maxval=5)\n",
    "matriz_ceros = tf.zeros((2,2))\n",
    "matriz_unos = tf.ones((3,3))"
   ]
  },
  {
   "cell_type": "code",
   "execution_count": 44,
   "metadata": {},
   "outputs": [],
   "source": [
    "operaciones = [constante, matriz1, matriz2, matriz3, matriz_ceros, matriz_unos]"
   ]
  },
  {
   "cell_type": "code",
   "execution_count": 45,
   "metadata": {},
   "outputs": [
    {
     "output_type": "stream",
     "name": "stdout",
     "text": "15\n\n\n[[10 10 10 10 10 10]\n [10 10 10 10 10 10]\n [10 10 10 10 10 10]\n [10 10 10 10 10 10]\n [10 10 10 10 10 10]\n [10 10 10 10 10 10]]\n\n\n[[ 0.0612001   1.1640983  -1.772536    1.7879703   0.33963495]\n [ 0.55807185 -0.21320987 -0.9370549  -0.34811106 -1.2815862 ]\n [-0.06193787  1.170535    0.6814621   1.7510641   1.220241  ]\n [ 0.9113978   0.3618879  -2.1057942  -1.2925603  -1.0232202 ]\n [-1.6405864  -1.0378088   1.3739486  -0.21259108  2.0152366 ]]\n\n\n[[0.63930094 1.9078279  1.0725361  2.6460843 ]\n [1.7990935  1.7926282  3.0790174  4.206271  ]\n [2.055388   3.76603    1.5117407  0.70524216]\n [3.9861755  2.720769   4.3827033  1.7040825 ]]\n\n\n[[0. 0.]\n [0. 0.]]\n\n\n[[1. 1. 1.]\n [1. 1. 1.]\n [1. 1. 1.]]\n\n\n"
    }
   ],
   "source": [
    "with tf.compat.v1.Session() as session:\n",
    "    for op in operaciones:\n",
    "        print(session.run(op))\n",
    "        print(\"\\n\")"
   ]
  }
 ]
}