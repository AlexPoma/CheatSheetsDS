{
 "nbformat": 4,
 "nbformat_minor": 2,
 "metadata": {
  "language_info": {
   "name": "python",
   "codemirror_mode": {
    "name": "ipython",
    "version": 3
   },
   "version": "3.7.4-final"
  },
  "orig_nbformat": 2,
  "file_extension": ".py",
  "mimetype": "text/x-python",
  "name": "python",
  "npconvert_exporter": "python",
  "pygments_lexer": "ipython3",
  "version": 3,
  "kernelspec": {
   "name": "python3",
   "display_name": "Python 3"
  }
 },
 "cells": [
  {
   "cell_type": "markdown",
   "metadata": {},
   "source": [
    "# Scikit Learn\n",
    "Dividir el conjunto de datos disponible, en datos para pruebas y en datos para test"
   ]
  },
  {
   "cell_type": "code",
   "execution_count": 3,
   "metadata": {},
   "outputs": [],
   "source": [
    "import pandas as pd\n",
    "import numpy as np\n",
    "from sklearn.model_selection import train_test_split"
   ]
  },
  {
   "cell_type": "code",
   "execution_count": 4,
   "metadata": {},
   "outputs": [
    {
     "output_type": "execute_result",
     "data": {
      "text/plain": "array([[15,  1, 30, 69],\n       [82, 46, 59, 87],\n       [68, 12, 68,  3],\n       [91, 83, 23, 89],\n       [64, 54, 91, 44],\n       [80,  8, 39, 76],\n       [60, 76, 87, 84],\n       [ 0, 18, 43,  1],\n       [ 0, 78,  6,  2],\n       [76, 29, 53, 43],\n       [13, 63, 68, 39],\n       [26, 77, 11, 44],\n       [13, 90, 63, 83],\n       [75, 20, 73, 77],\n       [40, 43, 50, 92],\n       [ 7, 93, 91, 36],\n       [67, 90, 69, 80],\n       [63, 48, 14, 65],\n       [16, 68, 78, 88],\n       [79, 66, 60, 24],\n       [93,  9, 55, 12],\n       [30, 86, 49,  9],\n       [41, 80, 77,  1],\n       [ 9, 18,  8, 59],\n       [76,  4, 51, 26],\n       [47,  2, 30, 81],\n       [69, 91,  8, 63],\n       [10,  9, 18,  5],\n       [52, 38,  0, 57],\n       [71, 61,  0, 49],\n       [98, 94,  1,  9],\n       [40, 58, 52, 39],\n       [80,  8, 88, 58],\n       [12,  7, 90, 27],\n       [87, 88,  0, 75],\n       [16, 34, 11, 21],\n       [74, 51, 93, 88],\n       [87, 25, 72, 74],\n       [87, 37, 53, 59],\n       [82, 74, 39, 40],\n       [18, 77, 66, 26],\n       [79, 62, 20, 87],\n       [32, 34, 90, 98],\n       [ 5, 50, 20, 97],\n       [64, 19, 82,  5],\n       [91, 16, 37, 90],\n       [41, 20, 21, 27],\n       [99, 90, 43, 61],\n       [39, 62, 80, 72],\n       [54, 57, 87, 45],\n       [70, 13, 81, 25],\n       [76, 54, 22, 42],\n       [71,  0, 86, 38],\n       [92, 68, 32, 98],\n       [27, 35, 91, 57],\n       [34, 97, 12, 45],\n       [19, 92, 31, 47],\n       [54, 59, 81, 43],\n       [98, 42, 58, 18],\n       [48, 48, 86, 15],\n       [30, 35,  7, 51],\n       [75, 44, 46, 80],\n       [39, 41, 22, 90],\n       [85, 73, 34,  7],\n       [ 9, 56, 30, 64],\n       [50,  2, 60, 59],\n       [71, 65, 58, 98],\n       [30, 97, 57,  8],\n       [59, 64, 73, 73],\n       [17, 82, 11, 37],\n       [49, 88, 33, 45],\n       [88, 89, 68, 21],\n       [97, 25, 53, 95],\n       [59,  4,  0, 46],\n       [85, 84,  2, 56],\n       [35,  0, 38,  2],\n       [67, 62, 81, 86],\n       [72, 16, 25, 92],\n       [46, 31, 89, 58],\n       [63, 36, 66, 97],\n       [71, 60, 65, 56],\n       [51, 85,  5, 66],\n       [11, 31, 50,  8],\n       [56, 33, 64, 96],\n       [99,  9, 36, 68],\n       [29, 33, 45, 87],\n       [95, 75, 57, 47],\n       [ 9, 50, 31, 83],\n       [76, 45, 48, 50],\n       [59, 11, 81, 54],\n       [ 6, 37, 91,  4],\n       [40, 12, 17, 84],\n       [54, 81,  4, 29],\n       [92,  2, 55, 12],\n       [61, 73, 50, 27],\n       [43, 63, 72,  9],\n       [14, 77, 81, 93],\n       [17, 50,  3, 25],\n       [68, 50, 55, 70],\n       [25, 44, 86, 28]])"
     },
     "metadata": {},
     "execution_count": 4
    }
   ],
   "source": [
    "datos = np.random.randint(0,100,(100,4))\n",
    "datos"
   ]
  },
  {
   "cell_type": "code",
   "execution_count": 5,
   "metadata": {},
   "outputs": [
    {
     "output_type": "execute_result",
     "data": {
      "text/plain": "    c1  c2  c3  Etiqueta\n0   15   1  30        69\n1   82  46  59        87\n2   68  12  68         3\n3   91  83  23        89\n4   64  54  91        44\n..  ..  ..  ..       ...\n95  43  63  72         9\n96  14  77  81        93\n97  17  50   3        25\n98  68  50  55        70\n99  25  44  86        28\n\n[100 rows x 4 columns]",
      "text/html": "<div>\n<style scoped>\n    .dataframe tbody tr th:only-of-type {\n        vertical-align: middle;\n    }\n\n    .dataframe tbody tr th {\n        vertical-align: top;\n    }\n\n    .dataframe thead th {\n        text-align: right;\n    }\n</style>\n<table border=\"1\" class=\"dataframe\">\n  <thead>\n    <tr style=\"text-align: right;\">\n      <th></th>\n      <th>c1</th>\n      <th>c2</th>\n      <th>c3</th>\n      <th>Etiqueta</th>\n    </tr>\n  </thead>\n  <tbody>\n    <tr>\n      <td>0</td>\n      <td>15</td>\n      <td>1</td>\n      <td>30</td>\n      <td>69</td>\n    </tr>\n    <tr>\n      <td>1</td>\n      <td>82</td>\n      <td>46</td>\n      <td>59</td>\n      <td>87</td>\n    </tr>\n    <tr>\n      <td>2</td>\n      <td>68</td>\n      <td>12</td>\n      <td>68</td>\n      <td>3</td>\n    </tr>\n    <tr>\n      <td>3</td>\n      <td>91</td>\n      <td>83</td>\n      <td>23</td>\n      <td>89</td>\n    </tr>\n    <tr>\n      <td>4</td>\n      <td>64</td>\n      <td>54</td>\n      <td>91</td>\n      <td>44</td>\n    </tr>\n    <tr>\n      <td>...</td>\n      <td>...</td>\n      <td>...</td>\n      <td>...</td>\n      <td>...</td>\n    </tr>\n    <tr>\n      <td>95</td>\n      <td>43</td>\n      <td>63</td>\n      <td>72</td>\n      <td>9</td>\n    </tr>\n    <tr>\n      <td>96</td>\n      <td>14</td>\n      <td>77</td>\n      <td>81</td>\n      <td>93</td>\n    </tr>\n    <tr>\n      <td>97</td>\n      <td>17</td>\n      <td>50</td>\n      <td>3</td>\n      <td>25</td>\n    </tr>\n    <tr>\n      <td>98</td>\n      <td>68</td>\n      <td>50</td>\n      <td>55</td>\n      <td>70</td>\n    </tr>\n    <tr>\n      <td>99</td>\n      <td>25</td>\n      <td>44</td>\n      <td>86</td>\n      <td>28</td>\n    </tr>\n  </tbody>\n</table>\n<p>100 rows × 4 columns</p>\n</div>"
     },
     "metadata": {},
     "execution_count": 5
    }
   ],
   "source": [
    "dataframe = pd.DataFrame(data = datos, columns = ['c1','c2','c3','Etiqueta'])\n",
    "dataframe"
   ]
  },
  {
   "cell_type": "code",
   "execution_count": 6,
   "metadata": {},
   "outputs": [
    {
     "output_type": "execute_result",
     "data": {
      "text/plain": "    c1  c2  c3\n0   15   1  30\n1   82  46  59\n2   68  12  68\n3   91  83  23\n4   64  54  91\n..  ..  ..  ..\n95  43  63  72\n96  14  77  81\n97  17  50   3\n98  68  50  55\n99  25  44  86\n\n[100 rows x 3 columns]",
      "text/html": "<div>\n<style scoped>\n    .dataframe tbody tr th:only-of-type {\n        vertical-align: middle;\n    }\n\n    .dataframe tbody tr th {\n        vertical-align: top;\n    }\n\n    .dataframe thead th {\n        text-align: right;\n    }\n</style>\n<table border=\"1\" class=\"dataframe\">\n  <thead>\n    <tr style=\"text-align: right;\">\n      <th></th>\n      <th>c1</th>\n      <th>c2</th>\n      <th>c3</th>\n    </tr>\n  </thead>\n  <tbody>\n    <tr>\n      <td>0</td>\n      <td>15</td>\n      <td>1</td>\n      <td>30</td>\n    </tr>\n    <tr>\n      <td>1</td>\n      <td>82</td>\n      <td>46</td>\n      <td>59</td>\n    </tr>\n    <tr>\n      <td>2</td>\n      <td>68</td>\n      <td>12</td>\n      <td>68</td>\n    </tr>\n    <tr>\n      <td>3</td>\n      <td>91</td>\n      <td>83</td>\n      <td>23</td>\n    </tr>\n    <tr>\n      <td>4</td>\n      <td>64</td>\n      <td>54</td>\n      <td>91</td>\n    </tr>\n    <tr>\n      <td>...</td>\n      <td>...</td>\n      <td>...</td>\n      <td>...</td>\n    </tr>\n    <tr>\n      <td>95</td>\n      <td>43</td>\n      <td>63</td>\n      <td>72</td>\n    </tr>\n    <tr>\n      <td>96</td>\n      <td>14</td>\n      <td>77</td>\n      <td>81</td>\n    </tr>\n    <tr>\n      <td>97</td>\n      <td>17</td>\n      <td>50</td>\n      <td>3</td>\n    </tr>\n    <tr>\n      <td>98</td>\n      <td>68</td>\n      <td>50</td>\n      <td>55</td>\n    </tr>\n    <tr>\n      <td>99</td>\n      <td>25</td>\n      <td>44</td>\n      <td>86</td>\n    </tr>\n  </tbody>\n</table>\n<p>100 rows × 3 columns</p>\n</div>"
     },
     "metadata": {},
     "execution_count": 6
    }
   ],
   "source": [
    "x = dataframe[['c1','c2','c3']]\n",
    "x"
   ]
  },
  {
   "cell_type": "code",
   "execution_count": 9,
   "metadata": {},
   "outputs": [
    {
     "output_type": "execute_result",
     "data": {
      "text/plain": "0     69\n1     87\n2      3\n3     89\n4     44\n      ..\n95     9\n96    93\n97    25\n98    70\n99    28\nName: Etiqueta, Length: 100, dtype: int32"
     },
     "metadata": {},
     "execution_count": 9
    }
   ],
   "source": [
    "y = dataframe['Etiqueta']\n",
    "y"
   ]
  },
  {
   "cell_type": "code",
   "execution_count": 10,
   "metadata": {},
   "outputs": [],
   "source": [
    "x_train, x_test, y_train, y_test = train_test_split(x, y, test_size = 0.3)"
   ]
  },
  {
   "cell_type": "code",
   "execution_count": 12,
   "metadata": {},
   "outputs": [
    {
     "output_type": "execute_result",
     "data": {
      "text/plain": "(70, 3)"
     },
     "metadata": {},
     "execution_count": 12
    }
   ],
   "source": [
    "x_train.shape"
   ]
  },
  {
   "cell_type": "code",
   "execution_count": 13,
   "metadata": {},
   "outputs": [
    {
     "output_type": "execute_result",
     "data": {
      "text/plain": "(30, 3)"
     },
     "metadata": {},
     "execution_count": 13
    }
   ],
   "source": [
    "x_test.shape"
   ]
  },
  {
   "cell_type": "code",
   "execution_count": 15,
   "metadata": {},
   "outputs": [
    {
     "output_type": "execute_result",
     "data": {
      "text/plain": "(70,)"
     },
     "metadata": {},
     "execution_count": 15
    }
   ],
   "source": [
    "y_train.shape"
   ]
  },
  {
   "cell_type": "code",
   "execution_count": 16,
   "metadata": {},
   "outputs": [
    {
     "output_type": "execute_result",
     "data": {
      "text/plain": "(30,)"
     },
     "metadata": {},
     "execution_count": 16
    }
   ],
   "source": [
    "y_test.shape"
   ]
  }
 ]
}