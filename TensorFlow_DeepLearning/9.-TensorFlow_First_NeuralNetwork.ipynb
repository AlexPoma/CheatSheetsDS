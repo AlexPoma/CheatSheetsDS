{
 "nbformat": 4,
 "nbformat_minor": 2,
 "metadata": {
  "language_info": {
   "name": "python",
   "codemirror_mode": {
    "name": "ipython",
    "version": 3
   },
   "version": "3.7.4-final"
  },
  "orig_nbformat": 2,
  "file_extension": ".py",
  "mimetype": "text/x-python",
  "name": "python",
  "npconvert_exporter": "python",
  "pygments_lexer": "ipython3",
  "version": 3,
  "kernelspec": {
   "name": "python3",
   "display_name": "Python 3"
  }
 },
 "cells": [
  {
   "cell_type": "markdown",
   "metadata": {},
   "source": [
    "## Red Neuronal con TensorFlow"
   ]
  },
  {
   "cell_type": "code",
   "execution_count": 16,
   "metadata": {},
   "outputs": [],
   "source": [
    "import tensorflow as tf\n",
    "import numpy as np"
   ]
  },
  {
   "cell_type": "code",
   "execution_count": 11,
   "metadata": {},
   "outputs": [
    {
     "output_type": "stream",
     "name": "stdout",
     "text": "[[18.48196923 21.5044268  15.7734493  26.53118481]\n [25.39413802  2.3475488  33.65366483 25.94307551]\n [40.00188665  5.32062627 20.04641086 42.26534628]\n [33.11276325 15.83017936 15.17594654 47.17595634]]\n"
    }
   ],
   "source": [
    "aleatorio_a = np.random.uniform(0,50,(4,4))\n",
    "print(aleatorio_a)"
   ]
  },
  {
   "cell_type": "code",
   "execution_count": 13,
   "metadata": {},
   "outputs": [
    {
     "output_type": "stream",
     "name": "stdout",
     "text": "[[33.6864711 ]\n [16.79330568]\n [23.53560036]\n [17.71192342]]\n"
    }
   ],
   "source": [
    "aleatorio_b = np.random.uniform(0,50,(4,1))\n",
    "print(aleatorio_b)"
   ]
  },
  {
   "cell_type": "code",
   "execution_count": 22,
   "metadata": {},
   "outputs": [],
   "source": [
    "import tensorflow.compat.v1 as tf\n",
    "tf.disable_v2_behavior() \n",
    "\n",
    "a = tf.placeholder(tf.float32)\n",
    "b = tf.placeholder(tf.float32)"
   ]
  },
  {
   "cell_type": "code",
   "execution_count": 31,
   "metadata": {},
   "outputs": [],
   "source": [
    "suma = a + b\n",
    "multiplicacion = a * b"
   ]
  },
  {
   "cell_type": "code",
   "execution_count": 42,
   "metadata": {},
   "outputs": [
    {
     "output_type": "stream",
     "name": "stdout",
     "text": "30.0\n"
    }
   ],
   "source": [
    "with tf.Session() as sesion:\n",
    "    resultado_suma = sesion.run(suma, feed_dict = {a:10, b:20})\n",
    "    print(resultado_suma)"
   ]
  },
  {
   "cell_type": "code",
   "execution_count": 43,
   "metadata": {},
   "outputs": [
    {
     "output_type": "stream",
     "name": "stdout",
     "text": "[[52.16844  55.190895 49.45992  60.217655]\n [42.187447 19.140856 50.446968 42.73638 ]\n [63.53749  28.856228 43.582012 65.80095 ]\n [50.824684 33.542103 32.88787  64.88788 ]]\n"
    }
   ],
   "source": [
    "with tf.Session() as sesion:\n",
    "    resultado_suma = sesion.run(suma, feed_dict = {a:aleatorio_a, b:aleatorio_b})\n",
    "    print(resultado_suma)"
   ]
  },
  {
   "cell_type": "code",
   "execution_count": 45,
   "metadata": {},
   "outputs": [
    {
     "output_type": "stream",
     "name": "stdout",
     "text": "[[622.59235  724.40826  531.3518   893.74194 ]\n [426.45154   39.423103 565.1563   435.67    ]\n [941.46844  125.22414  471.80432  994.7403  ]\n [586.4907   280.38293  268.7952   835.57697 ]]\n"
    }
   ],
   "source": [
    "with tf.Session() as sesion:\n",
    "    resultado_multiplicacion = sesion.run(multiplicacion, feed_dict = {a:aleatorio_a, b:aleatorio_b})\n",
    "    print(resultado_multiplicacion)"
   ]
  },
  {
   "cell_type": "markdown",
   "metadata": {},
   "source": [
    "## Ejemplo Red Neuronal"
   ]
  },
  {
   "cell_type": "code",
   "execution_count": 47,
   "metadata": {},
   "outputs": [],
   "source": [
    "caracteristicas = 10\n",
    "neuronas = 4"
   ]
  },
  {
   "cell_type": "code",
   "execution_count": 81,
   "metadata": {},
   "outputs": [],
   "source": [
    "#Las coincidencias entre caracteristicas y neuronas son obligatorias\n",
    "x = tf.placeholder(tf.float32,(None,caracteristicas))\n",
    "w = tf.Variable(tf.random.normal([caracteristicas,neuronas]))\n",
    "b = tf.Variable(tf.ones([neuronas]))"
   ]
  },
  {
   "cell_type": "code",
   "execution_count": 82,
   "metadata": {},
   "outputs": [],
   "source": [
    "multiplicacion = tf.matmul(x, w)"
   ]
  },
  {
   "cell_type": "code",
   "execution_count": 83,
   "metadata": {},
   "outputs": [],
   "source": [
    "z = tf.add(multiplicacion, b)"
   ]
  },
  {
   "cell_type": "code",
   "execution_count": 84,
   "metadata": {},
   "outputs": [],
   "source": [
    "activacion = tf.sigmoid(z)"
   ]
  },
  {
   "cell_type": "code",
   "execution_count": 85,
   "metadata": {},
   "outputs": [],
   "source": [
    "inicializacion = tf.global_variables_initializer()"
   ]
  },
  {
   "cell_type": "code",
   "execution_count": 86,
   "metadata": {},
   "outputs": [
    {
     "output_type": "stream",
     "name": "stdout",
     "text": "[[0.72772169 0.35302124 0.80579088 0.03581484 0.72797691 0.2535635\n  0.60319027 0.91875048 0.58549814 0.55168586]]\n"
    }
   ],
   "source": [
    "valores_x = np.random.random([1,caracteristicas])\n",
    "print(valores_x)"
   ]
  },
  {
   "cell_type": "code",
   "execution_count": 87,
   "metadata": {},
   "outputs": [],
   "source": [
    "with tf.Session() as session:\n",
    "    session.run(inicializacion)\n",
    "    resultado = session.run(activacion, feed_dict= {x:valores_x})"
   ]
  },
  {
   "cell_type": "code",
   "execution_count": 89,
   "metadata": {},
   "outputs": [
    {
     "output_type": "stream",
     "name": "stdout",
     "text": "[[0.9138119  0.99842465 0.93472725 0.98457503]]\n"
    }
   ],
   "source": [
    "print(resultado)"
   ]
  }
 ]
}