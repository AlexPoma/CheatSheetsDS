{
 "nbformat": 4,
 "nbformat_minor": 2,
 "metadata": {
  "language_info": {
   "name": "python",
   "codemirror_mode": {
    "name": "ipython",
    "version": 3
   },
   "version": "3.7.6-final"
  },
  "orig_nbformat": 2,
  "file_extension": ".py",
  "mimetype": "text/x-python",
  "name": "python",
  "npconvert_exporter": "python",
  "pygments_lexer": "ipython3",
  "version": 3,
  "kernelspec": {
   "name": "python3",
   "display_name": "Python 3"
  }
 },
 "cells": [
  {
   "cell_type": "markdown",
   "metadata": {},
   "source": [
    "## Ejemplo de Regresión con TensorFlow"
   ]
  },
  {
   "cell_type": "code",
   "execution_count": 2,
   "metadata": {},
   "outputs": [],
   "source": [
    "import pandas as pd\n",
    "import tensorflow as tf"
   ]
  },
  {
   "cell_type": "code",
   "execution_count": 5,
   "metadata": {},
   "outputs": [],
   "source": [
    "casas = pd.read_csv('./Data/precios_casas.csv')"
   ]
  },
  {
   "cell_type": "code",
   "execution_count": 6,
   "metadata": {},
   "outputs": [
    {
     "output_type": "execute_result",
     "data": {
      "text/plain": "   longitude  latitude  housing_median_age  total_rooms  total_bedrooms  \\\n0    -114.31     34.19                15.0       5612.0          1283.0   \n1    -114.47     34.40                19.0       7650.0          1901.0   \n2    -114.56     33.69                17.0        720.0           174.0   \n3    -114.57     33.64                14.0       1501.0           337.0   \n4    -114.57     33.57                20.0       1454.0           326.0   \n\n   population  households  median_income  median_house_value  \n0      1015.0       472.0         1.4936             66900.0  \n1      1129.0       463.0         1.8200             80100.0  \n2       333.0       117.0         1.6509             85700.0  \n3       515.0       226.0         3.1917             73400.0  \n4       624.0       262.0         1.9250             65500.0  ",
      "text/html": "<div>\n<style scoped>\n    .dataframe tbody tr th:only-of-type {\n        vertical-align: middle;\n    }\n\n    .dataframe tbody tr th {\n        vertical-align: top;\n    }\n\n    .dataframe thead th {\n        text-align: right;\n    }\n</style>\n<table border=\"1\" class=\"dataframe\">\n  <thead>\n    <tr style=\"text-align: right;\">\n      <th></th>\n      <th>longitude</th>\n      <th>latitude</th>\n      <th>housing_median_age</th>\n      <th>total_rooms</th>\n      <th>total_bedrooms</th>\n      <th>population</th>\n      <th>households</th>\n      <th>median_income</th>\n      <th>median_house_value</th>\n    </tr>\n  </thead>\n  <tbody>\n    <tr>\n      <th>0</th>\n      <td>-114.31</td>\n      <td>34.19</td>\n      <td>15.0</td>\n      <td>5612.0</td>\n      <td>1283.0</td>\n      <td>1015.0</td>\n      <td>472.0</td>\n      <td>1.4936</td>\n      <td>66900.0</td>\n    </tr>\n    <tr>\n      <th>1</th>\n      <td>-114.47</td>\n      <td>34.40</td>\n      <td>19.0</td>\n      <td>7650.0</td>\n      <td>1901.0</td>\n      <td>1129.0</td>\n      <td>463.0</td>\n      <td>1.8200</td>\n      <td>80100.0</td>\n    </tr>\n    <tr>\n      <th>2</th>\n      <td>-114.56</td>\n      <td>33.69</td>\n      <td>17.0</td>\n      <td>720.0</td>\n      <td>174.0</td>\n      <td>333.0</td>\n      <td>117.0</td>\n      <td>1.6509</td>\n      <td>85700.0</td>\n    </tr>\n    <tr>\n      <th>3</th>\n      <td>-114.57</td>\n      <td>33.64</td>\n      <td>14.0</td>\n      <td>1501.0</td>\n      <td>337.0</td>\n      <td>515.0</td>\n      <td>226.0</td>\n      <td>3.1917</td>\n      <td>73400.0</td>\n    </tr>\n    <tr>\n      <th>4</th>\n      <td>-114.57</td>\n      <td>33.57</td>\n      <td>20.0</td>\n      <td>1454.0</td>\n      <td>326.0</td>\n      <td>624.0</td>\n      <td>262.0</td>\n      <td>1.9250</td>\n      <td>65500.0</td>\n    </tr>\n  </tbody>\n</table>\n</div>"
     },
     "metadata": {},
     "execution_count": 6
    }
   ],
   "source": [
    "casas.head()"
   ]
  },
  {
   "cell_type": "code",
   "execution_count": 7,
   "metadata": {},
   "outputs": [],
   "source": [
    "casas_x = casas.drop('median_house_value', axis = 1)"
   ]
  },
  {
   "cell_type": "code",
   "execution_count": 8,
   "metadata": {},
   "outputs": [
    {
     "output_type": "execute_result",
     "data": {
      "text/plain": "   longitude  latitude  housing_median_age  total_rooms  total_bedrooms  \\\n0    -114.31     34.19                15.0       5612.0          1283.0   \n1    -114.47     34.40                19.0       7650.0          1901.0   \n2    -114.56     33.69                17.0        720.0           174.0   \n3    -114.57     33.64                14.0       1501.0           337.0   \n4    -114.57     33.57                20.0       1454.0           326.0   \n\n   population  households  median_income  \n0      1015.0       472.0         1.4936  \n1      1129.0       463.0         1.8200  \n2       333.0       117.0         1.6509  \n3       515.0       226.0         3.1917  \n4       624.0       262.0         1.9250  ",
      "text/html": "<div>\n<style scoped>\n    .dataframe tbody tr th:only-of-type {\n        vertical-align: middle;\n    }\n\n    .dataframe tbody tr th {\n        vertical-align: top;\n    }\n\n    .dataframe thead th {\n        text-align: right;\n    }\n</style>\n<table border=\"1\" class=\"dataframe\">\n  <thead>\n    <tr style=\"text-align: right;\">\n      <th></th>\n      <th>longitude</th>\n      <th>latitude</th>\n      <th>housing_median_age</th>\n      <th>total_rooms</th>\n      <th>total_bedrooms</th>\n      <th>population</th>\n      <th>households</th>\n      <th>median_income</th>\n    </tr>\n  </thead>\n  <tbody>\n    <tr>\n      <th>0</th>\n      <td>-114.31</td>\n      <td>34.19</td>\n      <td>15.0</td>\n      <td>5612.0</td>\n      <td>1283.0</td>\n      <td>1015.0</td>\n      <td>472.0</td>\n      <td>1.4936</td>\n    </tr>\n    <tr>\n      <th>1</th>\n      <td>-114.47</td>\n      <td>34.40</td>\n      <td>19.0</td>\n      <td>7650.0</td>\n      <td>1901.0</td>\n      <td>1129.0</td>\n      <td>463.0</td>\n      <td>1.8200</td>\n    </tr>\n    <tr>\n      <th>2</th>\n      <td>-114.56</td>\n      <td>33.69</td>\n      <td>17.0</td>\n      <td>720.0</td>\n      <td>174.0</td>\n      <td>333.0</td>\n      <td>117.0</td>\n      <td>1.6509</td>\n    </tr>\n    <tr>\n      <th>3</th>\n      <td>-114.57</td>\n      <td>33.64</td>\n      <td>14.0</td>\n      <td>1501.0</td>\n      <td>337.0</td>\n      <td>515.0</td>\n      <td>226.0</td>\n      <td>3.1917</td>\n    </tr>\n    <tr>\n      <th>4</th>\n      <td>-114.57</td>\n      <td>33.57</td>\n      <td>20.0</td>\n      <td>1454.0</td>\n      <td>326.0</td>\n      <td>624.0</td>\n      <td>262.0</td>\n      <td>1.9250</td>\n    </tr>\n  </tbody>\n</table>\n</div>"
     },
     "metadata": {},
     "execution_count": 8
    }
   ],
   "source": [
    "casas_x.head()"
   ]
  },
  {
   "cell_type": "code",
   "execution_count": 9,
   "metadata": {},
   "outputs": [],
   "source": [
    "casas_y = casas['median_house_value']"
   ]
  },
  {
   "cell_type": "code",
   "execution_count": 10,
   "metadata": {},
   "outputs": [
    {
     "output_type": "execute_result",
     "data": {
      "text/plain": "0    66900.0\n1    80100.0\n2    85700.0\n3    73400.0\n4    65500.0\nName: median_house_value, dtype: float64"
     },
     "metadata": {},
     "execution_count": 10
    }
   ],
   "source": [
    "casas_y.head()"
   ]
  },
  {
   "cell_type": "markdown",
   "metadata": {},
   "source": [
    "### Separar en Train and Test"
   ]
  },
  {
   "cell_type": "code",
   "execution_count": 11,
   "metadata": {},
   "outputs": [],
   "source": [
    "from sklearn.model_selection import train_test_split"
   ]
  },
  {
   "cell_type": "code",
   "execution_count": 13,
   "metadata": {},
   "outputs": [],
   "source": [
    "x_train, x_test, y_train, y_test = train_test_split(casas_x, casas_y, test_size = 0.30)"
   ]
  },
  {
   "cell_type": "code",
   "execution_count": 14,
   "metadata": {},
   "outputs": [
    {
     "output_type": "execute_result",
     "data": {
      "text/plain": "       longitude  latitude  housing_median_age  total_rooms  total_bedrooms  \\\n7178     -118.33     34.16                44.0       2705.0           649.0   \n12030    -121.41     38.64                38.0       1384.0           287.0   \n13038    -121.86     37.00                16.0       8638.0          1392.0   \n10292    -120.05     36.98                16.0       3705.0           739.0   \n14403    -122.12     37.69                35.0       2681.0           508.0   \n\n       population  households  median_income  \n7178       1676.0       654.0         3.4286  \n12030       682.0       280.0         1.9167  \n13038      3706.0      1251.0         5.5030  \n10292      2463.0       697.0         2.5288  \n14403      1580.0       536.0         4.1042  ",
      "text/html": "<div>\n<style scoped>\n    .dataframe tbody tr th:only-of-type {\n        vertical-align: middle;\n    }\n\n    .dataframe tbody tr th {\n        vertical-align: top;\n    }\n\n    .dataframe thead th {\n        text-align: right;\n    }\n</style>\n<table border=\"1\" class=\"dataframe\">\n  <thead>\n    <tr style=\"text-align: right;\">\n      <th></th>\n      <th>longitude</th>\n      <th>latitude</th>\n      <th>housing_median_age</th>\n      <th>total_rooms</th>\n      <th>total_bedrooms</th>\n      <th>population</th>\n      <th>households</th>\n      <th>median_income</th>\n    </tr>\n  </thead>\n  <tbody>\n    <tr>\n      <th>7178</th>\n      <td>-118.33</td>\n      <td>34.16</td>\n      <td>44.0</td>\n      <td>2705.0</td>\n      <td>649.0</td>\n      <td>1676.0</td>\n      <td>654.0</td>\n      <td>3.4286</td>\n    </tr>\n    <tr>\n      <th>12030</th>\n      <td>-121.41</td>\n      <td>38.64</td>\n      <td>38.0</td>\n      <td>1384.0</td>\n      <td>287.0</td>\n      <td>682.0</td>\n      <td>280.0</td>\n      <td>1.9167</td>\n    </tr>\n    <tr>\n      <th>13038</th>\n      <td>-121.86</td>\n      <td>37.00</td>\n      <td>16.0</td>\n      <td>8638.0</td>\n      <td>1392.0</td>\n      <td>3706.0</td>\n      <td>1251.0</td>\n      <td>5.5030</td>\n    </tr>\n    <tr>\n      <th>10292</th>\n      <td>-120.05</td>\n      <td>36.98</td>\n      <td>16.0</td>\n      <td>3705.0</td>\n      <td>739.0</td>\n      <td>2463.0</td>\n      <td>697.0</td>\n      <td>2.5288</td>\n    </tr>\n    <tr>\n      <th>14403</th>\n      <td>-122.12</td>\n      <td>37.69</td>\n      <td>35.0</td>\n      <td>2681.0</td>\n      <td>508.0</td>\n      <td>1580.0</td>\n      <td>536.0</td>\n      <td>4.1042</td>\n    </tr>\n  </tbody>\n</table>\n</div>"
     },
     "metadata": {},
     "execution_count": 14
    }
   ],
   "source": [
    "x_train.head()"
   ]
  },
  {
   "cell_type": "code",
   "execution_count": 15,
   "metadata": {},
   "outputs": [
    {
     "output_type": "execute_result",
     "data": {
      "text/plain": "       longitude  latitude  housing_median_age  total_rooms  total_bedrooms  \\\n5631     -118.18     34.03                39.0        609.0           145.0   \n16391    -122.54     37.91                48.0       2924.0           489.0   \n12747    -121.79     38.68                24.0       3794.0           848.0   \n13564    -121.97     37.40                17.0       2937.0           558.0   \n16536    -122.66     38.44                17.0       5815.0           898.0   \n\n       population  households  median_income  \n5631        690.0       134.0         2.9167  \n16391      1159.0       505.0         5.6302  \n12747      2225.0       864.0         2.8068  \n13564      1662.0       533.0         5.8792  \n16536      2614.0       887.0         4.3657  ",
      "text/html": "<div>\n<style scoped>\n    .dataframe tbody tr th:only-of-type {\n        vertical-align: middle;\n    }\n\n    .dataframe tbody tr th {\n        vertical-align: top;\n    }\n\n    .dataframe thead th {\n        text-align: right;\n    }\n</style>\n<table border=\"1\" class=\"dataframe\">\n  <thead>\n    <tr style=\"text-align: right;\">\n      <th></th>\n      <th>longitude</th>\n      <th>latitude</th>\n      <th>housing_median_age</th>\n      <th>total_rooms</th>\n      <th>total_bedrooms</th>\n      <th>population</th>\n      <th>households</th>\n      <th>median_income</th>\n    </tr>\n  </thead>\n  <tbody>\n    <tr>\n      <th>5631</th>\n      <td>-118.18</td>\n      <td>34.03</td>\n      <td>39.0</td>\n      <td>609.0</td>\n      <td>145.0</td>\n      <td>690.0</td>\n      <td>134.0</td>\n      <td>2.9167</td>\n    </tr>\n    <tr>\n      <th>16391</th>\n      <td>-122.54</td>\n      <td>37.91</td>\n      <td>48.0</td>\n      <td>2924.0</td>\n      <td>489.0</td>\n      <td>1159.0</td>\n      <td>505.0</td>\n      <td>5.6302</td>\n    </tr>\n    <tr>\n      <th>12747</th>\n      <td>-121.79</td>\n      <td>38.68</td>\n      <td>24.0</td>\n      <td>3794.0</td>\n      <td>848.0</td>\n      <td>2225.0</td>\n      <td>864.0</td>\n      <td>2.8068</td>\n    </tr>\n    <tr>\n      <th>13564</th>\n      <td>-121.97</td>\n      <td>37.40</td>\n      <td>17.0</td>\n      <td>2937.0</td>\n      <td>558.0</td>\n      <td>1662.0</td>\n      <td>533.0</td>\n      <td>5.8792</td>\n    </tr>\n    <tr>\n      <th>16536</th>\n      <td>-122.66</td>\n      <td>38.44</td>\n      <td>17.0</td>\n      <td>5815.0</td>\n      <td>898.0</td>\n      <td>2614.0</td>\n      <td>887.0</td>\n      <td>4.3657</td>\n    </tr>\n  </tbody>\n</table>\n</div>"
     },
     "metadata": {},
     "execution_count": 15
    }
   ],
   "source": [
    "x_test.head()"
   ]
  },
  {
   "cell_type": "code",
   "execution_count": 16,
   "metadata": {},
   "outputs": [
    {
     "output_type": "execute_result",
     "data": {
      "text/plain": "7178     247900.0\n12030     64400.0\n13038    351800.0\n10292     61800.0\n14403    179100.0\nName: median_house_value, dtype: float64"
     },
     "metadata": {},
     "execution_count": 16
    }
   ],
   "source": [
    "y_train.head()"
   ]
  },
  {
   "cell_type": "code",
   "execution_count": 17,
   "metadata": {},
   "outputs": [
    {
     "output_type": "execute_result",
     "data": {
      "text/plain": "5631     145800.0\n16391    489000.0\n12747     95300.0\n13564    255500.0\n16536    215900.0\nName: median_house_value, dtype: float64"
     },
     "metadata": {},
     "execution_count": 17
    }
   ],
   "source": [
    "y_test.head()"
   ]
  },
  {
   "cell_type": "code",
   "execution_count": 18,
   "metadata": {},
   "outputs": [],
   "source": [
    "from sklearn.preprocessing import MinMaxScaler"
   ]
  },
  {
   "cell_type": "markdown",
   "metadata": {},
   "source": [
    "### Normalización"
   ]
  },
  {
   "cell_type": "code",
   "execution_count": 19,
   "metadata": {},
   "outputs": [],
   "source": [
    "normalizador = MinMaxScaler()"
   ]
  },
  {
   "cell_type": "code",
   "execution_count": 20,
   "metadata": {},
   "outputs": [
    {
     "output_type": "execute_result",
     "data": {
      "text/plain": "MinMaxScaler(copy=True, feature_range=(0, 1))"
     },
     "metadata": {},
     "execution_count": 20
    }
   ],
   "source": [
    "normalizador.fit(x_train)"
   ]
  },
  {
   "cell_type": "code",
   "execution_count": 21,
   "metadata": {},
   "outputs": [],
   "source": [
    "x_train = pd.DataFrame(data=normalizador.transform(x_train), columns=x_train.columns,index=x_train.index)"
   ]
  },
  {
   "cell_type": "code",
   "execution_count": 22,
   "metadata": {},
   "outputs": [
    {
     "output_type": "execute_result",
     "data": {
      "text/plain": "       longitude  latitude  housing_median_age  total_rooms  total_bedrooms  \\\n7178    0.599602  0.172157            0.843137     0.071253        0.118464   \n12030   0.292829  0.648247            0.725490     0.036431        0.052285   \n13038   0.248008  0.473964            0.294118     0.227653        0.254296   \n10292   0.428287  0.471838            0.294118     0.097614        0.134918   \n14403   0.222112  0.547290            0.666667     0.070621        0.092687   \n...          ...       ...                 ...          ...             ...   \n646     0.728088  0.049947            0.529412     0.024252        0.019378   \n14601   0.218127  0.520723            0.647059     0.057915        0.096527   \n6327    0.607570  0.144527            0.686275     0.029867        0.042048   \n6019    0.610558  0.166844            0.686275     0.075603        0.096527   \n350     0.742032  0.031881            0.333333     0.111058        0.147898   \n\n       population  households  median_income  \n7178     0.046890    0.125867       0.201977  \n12030    0.019031    0.053778       0.097709  \n13038    0.103787    0.240941       0.345037  \n10292    0.068948    0.134156       0.139922  \n14403    0.044200    0.103123       0.248569  \n...           ...         ...            ...  \n646      0.008717    0.018504       0.549799  \n14601    0.033353    0.102352       0.261879  \n6327     0.017125    0.043562       0.141529  \n6019     0.038342    0.108712       0.324713  \n350      0.058886    0.148805       0.247403  \n\n[11900 rows x 8 columns]",
      "text/html": "<div>\n<style scoped>\n    .dataframe tbody tr th:only-of-type {\n        vertical-align: middle;\n    }\n\n    .dataframe tbody tr th {\n        vertical-align: top;\n    }\n\n    .dataframe thead th {\n        text-align: right;\n    }\n</style>\n<table border=\"1\" class=\"dataframe\">\n  <thead>\n    <tr style=\"text-align: right;\">\n      <th></th>\n      <th>longitude</th>\n      <th>latitude</th>\n      <th>housing_median_age</th>\n      <th>total_rooms</th>\n      <th>total_bedrooms</th>\n      <th>population</th>\n      <th>households</th>\n      <th>median_income</th>\n    </tr>\n  </thead>\n  <tbody>\n    <tr>\n      <th>7178</th>\n      <td>0.599602</td>\n      <td>0.172157</td>\n      <td>0.843137</td>\n      <td>0.071253</td>\n      <td>0.118464</td>\n      <td>0.046890</td>\n      <td>0.125867</td>\n      <td>0.201977</td>\n    </tr>\n    <tr>\n      <th>12030</th>\n      <td>0.292829</td>\n      <td>0.648247</td>\n      <td>0.725490</td>\n      <td>0.036431</td>\n      <td>0.052285</td>\n      <td>0.019031</td>\n      <td>0.053778</td>\n      <td>0.097709</td>\n    </tr>\n    <tr>\n      <th>13038</th>\n      <td>0.248008</td>\n      <td>0.473964</td>\n      <td>0.294118</td>\n      <td>0.227653</td>\n      <td>0.254296</td>\n      <td>0.103787</td>\n      <td>0.240941</td>\n      <td>0.345037</td>\n    </tr>\n    <tr>\n      <th>10292</th>\n      <td>0.428287</td>\n      <td>0.471838</td>\n      <td>0.294118</td>\n      <td>0.097614</td>\n      <td>0.134918</td>\n      <td>0.068948</td>\n      <td>0.134156</td>\n      <td>0.139922</td>\n    </tr>\n    <tr>\n      <th>14403</th>\n      <td>0.222112</td>\n      <td>0.547290</td>\n      <td>0.666667</td>\n      <td>0.070621</td>\n      <td>0.092687</td>\n      <td>0.044200</td>\n      <td>0.103123</td>\n      <td>0.248569</td>\n    </tr>\n    <tr>\n      <th>...</th>\n      <td>...</td>\n      <td>...</td>\n      <td>...</td>\n      <td>...</td>\n      <td>...</td>\n      <td>...</td>\n      <td>...</td>\n      <td>...</td>\n    </tr>\n    <tr>\n      <th>646</th>\n      <td>0.728088</td>\n      <td>0.049947</td>\n      <td>0.529412</td>\n      <td>0.024252</td>\n      <td>0.019378</td>\n      <td>0.008717</td>\n      <td>0.018504</td>\n      <td>0.549799</td>\n    </tr>\n    <tr>\n      <th>14601</th>\n      <td>0.218127</td>\n      <td>0.520723</td>\n      <td>0.647059</td>\n      <td>0.057915</td>\n      <td>0.096527</td>\n      <td>0.033353</td>\n      <td>0.102352</td>\n      <td>0.261879</td>\n    </tr>\n    <tr>\n      <th>6327</th>\n      <td>0.607570</td>\n      <td>0.144527</td>\n      <td>0.686275</td>\n      <td>0.029867</td>\n      <td>0.042048</td>\n      <td>0.017125</td>\n      <td>0.043562</td>\n      <td>0.141529</td>\n    </tr>\n    <tr>\n      <th>6019</th>\n      <td>0.610558</td>\n      <td>0.166844</td>\n      <td>0.686275</td>\n      <td>0.075603</td>\n      <td>0.096527</td>\n      <td>0.038342</td>\n      <td>0.108712</td>\n      <td>0.324713</td>\n    </tr>\n    <tr>\n      <th>350</th>\n      <td>0.742032</td>\n      <td>0.031881</td>\n      <td>0.333333</td>\n      <td>0.111058</td>\n      <td>0.147898</td>\n      <td>0.058886</td>\n      <td>0.148805</td>\n      <td>0.247403</td>\n    </tr>\n  </tbody>\n</table>\n<p>11900 rows × 8 columns</p>\n</div>"
     },
     "metadata": {},
     "execution_count": 22
    }
   ],
   "source": [
    "x_train #Los datos han sido normalizados,estan entre 0 y 1"
   ]
  },
  {
   "cell_type": "code",
   "execution_count": 23,
   "metadata": {},
   "outputs": [],
   "source": [
    "x_test = pd.DataFrame(data=normalizador.transform(x_test), columns=x_test.columns,index=x_test.index)"
   ]
  },
  {
   "cell_type": "code",
   "execution_count": 24,
   "metadata": {},
   "outputs": [
    {
     "output_type": "execute_result",
     "data": {
      "text/plain": "       longitude  latitude  housing_median_age  total_rooms  total_bedrooms  \\\n5631    0.614542  0.158342            0.745098     0.016001        0.026325   \n16391   0.180279  0.570670            0.921569     0.077026        0.089214   \n12747   0.254980  0.652497            0.450980     0.099960        0.154845   \n13564   0.237052  0.516472            0.313725     0.077369        0.101828   \n16536   0.168327  0.626993            0.313725     0.153236        0.163985   \n\n       population  households  median_income  \n5631     0.019255    0.025636       0.166674  \n16391    0.032400    0.097147       0.353809  \n12747    0.062278    0.166345       0.159094  \n13564    0.046498    0.102544       0.370981  \n16536    0.073180    0.170779       0.266603  ",
      "text/html": "<div>\n<style scoped>\n    .dataframe tbody tr th:only-of-type {\n        vertical-align: middle;\n    }\n\n    .dataframe tbody tr th {\n        vertical-align: top;\n    }\n\n    .dataframe thead th {\n        text-align: right;\n    }\n</style>\n<table border=\"1\" class=\"dataframe\">\n  <thead>\n    <tr style=\"text-align: right;\">\n      <th></th>\n      <th>longitude</th>\n      <th>latitude</th>\n      <th>housing_median_age</th>\n      <th>total_rooms</th>\n      <th>total_bedrooms</th>\n      <th>population</th>\n      <th>households</th>\n      <th>median_income</th>\n    </tr>\n  </thead>\n  <tbody>\n    <tr>\n      <th>5631</th>\n      <td>0.614542</td>\n      <td>0.158342</td>\n      <td>0.745098</td>\n      <td>0.016001</td>\n      <td>0.026325</td>\n      <td>0.019255</td>\n      <td>0.025636</td>\n      <td>0.166674</td>\n    </tr>\n    <tr>\n      <th>16391</th>\n      <td>0.180279</td>\n      <td>0.570670</td>\n      <td>0.921569</td>\n      <td>0.077026</td>\n      <td>0.089214</td>\n      <td>0.032400</td>\n      <td>0.097147</td>\n      <td>0.353809</td>\n    </tr>\n    <tr>\n      <th>12747</th>\n      <td>0.254980</td>\n      <td>0.652497</td>\n      <td>0.450980</td>\n      <td>0.099960</td>\n      <td>0.154845</td>\n      <td>0.062278</td>\n      <td>0.166345</td>\n      <td>0.159094</td>\n    </tr>\n    <tr>\n      <th>13564</th>\n      <td>0.237052</td>\n      <td>0.516472</td>\n      <td>0.313725</td>\n      <td>0.077369</td>\n      <td>0.101828</td>\n      <td>0.046498</td>\n      <td>0.102544</td>\n      <td>0.370981</td>\n    </tr>\n    <tr>\n      <th>16536</th>\n      <td>0.168327</td>\n      <td>0.626993</td>\n      <td>0.313725</td>\n      <td>0.153236</td>\n      <td>0.163985</td>\n      <td>0.073180</td>\n      <td>0.170779</td>\n      <td>0.266603</td>\n    </tr>\n  </tbody>\n</table>\n</div>"
     },
     "metadata": {},
     "execution_count": 24
    }
   ],
   "source": [
    "x_test.head()"
   ]
  },
  {
   "cell_type": "code",
   "execution_count": 25,
   "metadata": {},
   "outputs": [
    {
     "output_type": "execute_result",
     "data": {
      "text/plain": "Index(['longitude', 'latitude', 'housing_median_age', 'total_rooms',\n       'total_bedrooms', 'population', 'households', 'median_income',\n       'median_house_value'],\n      dtype='object')"
     },
     "metadata": {},
     "execution_count": 25
    }
   ],
   "source": [
    "casas.columns"
   ]
  },
  {
   "cell_type": "code",
   "execution_count": 29,
   "metadata": {},
   "outputs": [],
   "source": [
    "longitude = tf.feature_column.numeric_column('longitude')\n",
    "latitude = tf.feature_column.numeric_column('latitude')\n",
    "housing_median_age = tf.feature_column.numeric_column('housing_median_age')\n",
    "total_rooms = tf.feature_column.numeric_column('total_rooms')\n",
    "total_bedrooms = tf.feature_column.numeric_column('total_bedrooms')\n",
    "population = tf.feature_column.numeric_column('population')\n",
    "households = tf.feature_column.numeric_column('households')\n",
    "median_income = tf.feature_column.numeric_column('median_income')"
   ]
  },
  {
   "cell_type": "code",
   "execution_count": 30,
   "metadata": {},
   "outputs": [],
   "source": [
    "columnas = (longitude, latitude, housing_median_age, total_rooms, total_bedrooms, population, households, median_income)"
   ]
  },
  {
   "cell_type": "markdown",
   "metadata": {},
   "source": [
    "### Learning (Aprendizaje)"
   ]
  },
  {
   "cell_type": "code",
   "execution_count": 32,
   "metadata": {},
   "outputs": [
    {
     "output_type": "stream",
     "name": "stdout",
     "text": "WARNING:tensorflow:From /home/alex/anaconda3/lib/python3.7/site-packages/tensorflow_core/python/compat/v2_compat.py:88: disable_resource_variables (from tensorflow.python.ops.variable_scope) is deprecated and will be removed in a future version.\nInstructions for updating:\nnon-resource variables are not supported in the long term\n"
    }
   ],
   "source": [
    "import tensorflow.compat.v1 as tf\n",
    "tf.disable_v2_behavior()"
   ]
  },
  {
   "cell_type": "code",
   "execution_count": 33,
   "metadata": {},
   "outputs": [],
   "source": [
    "funcion_entrada = tf.estimator.inputs.pandas_input_fn(x = x_train, y = y_train, batch_size = 10, num_epochs = 1000, shuffle = True)"
   ]
  },
  {
   "cell_type": "code",
   "execution_count": 34,
   "metadata": {},
   "outputs": [
    {
     "output_type": "stream",
     "name": "stdout",
     "text": "INFO:tensorflow:Using default config.\nWARNING:tensorflow:Using temporary folder as model directory: /tmp/tmpsxf8h67w\nINFO:tensorflow:Using config: {'_model_dir': '/tmp/tmpsxf8h67w', '_tf_random_seed': None, '_save_summary_steps': 100, '_save_checkpoints_steps': None, '_save_checkpoints_secs': 600, '_session_config': allow_soft_placement: true\ngraph_options {\n  rewrite_options {\n    meta_optimizer_iterations: ONE\n  }\n}\n, '_keep_checkpoint_max': 5, '_keep_checkpoint_every_n_hours': 10000, '_log_step_count_steps': 100, '_train_distribute': None, '_device_fn': None, '_protocol': None, '_eval_distribute': None, '_experimental_distribute': None, '_experimental_max_worker_delay_secs': None, '_session_creation_timeout_secs': 7200, '_service': None, '_cluster_spec': ClusterSpec({}), '_task_type': 'worker', '_task_id': 0, '_global_id_in_cluster': 0, '_master': '', '_evaluation_master': '', '_is_chief': True, '_num_ps_replicas': 0, '_num_worker_replicas': 1}\n"
    }
   ],
   "source": [
    "modelo = tf.estimator.DNNRegressor(hidden_units=[10,10,10], feature_columns=columnas)"
   ]
  },
  {
   "cell_type": "code",
   "execution_count": 35,
   "metadata": {},
   "outputs": [
    {
     "output_type": "stream",
     "name": "stdout",
     "text": "WARNING:tensorflow:From /home/alex/anaconda3/lib/python3.7/site-packages/tensorflow_core/python/training/training_util.py:236: Variable.initialized_value (from tensorflow.python.ops.variables) is deprecated and will be removed in a future version.\nInstructions for updating:\nUse Variable.read_value. Variables in 2.X are initialized automatically both in eager and graph (inside tf.defun) contexts.\nWARNING:tensorflow:From /home/alex/anaconda3/lib/python3.7/site-packages/tensorflow_estimator/python/estimator/inputs/queues/feeding_queue_runner.py:62: QueueRunner.__init__ (from tensorflow.python.training.queue_runner_impl) is deprecated and will be removed in a future version.\nInstructions for updating:\nTo construct input pipelines, use the `tf.data` module.\nWARNING:tensorflow:From /home/alex/anaconda3/lib/python3.7/site-packages/tensorflow_estimator/python/estimator/inputs/queues/feeding_functions.py:500: add_queue_runner (from tensorflow.python.training.queue_runner_impl) is deprecated and will be removed in a future version.\nInstructions for updating:\nTo construct input pipelines, use the `tf.data` module.\nINFO:tensorflow:Calling model_fn.\nWARNING:tensorflow:From /home/alex/anaconda3/lib/python3.7/site-packages/tensorflow_core/python/ops/resource_variable_ops.py:1635: calling BaseResourceVariable.__init__ (from tensorflow.python.ops.resource_variable_ops) with constraint is deprecated and will be removed in a future version.\nInstructions for updating:\nIf using Keras pass *_constraint arguments to layers.\nWARNING:tensorflow:From /home/alex/anaconda3/lib/python3.7/site-packages/tensorflow_core/python/training/adagrad.py:76: calling Constant.__init__ (from tensorflow.python.ops.init_ops) with dtype is deprecated and will be removed in a future version.\nInstructions for updating:\nCall initializer instance with the dtype argument instead of passing it to the constructor\nINFO:tensorflow:Done calling model_fn.\nINFO:tensorflow:Create CheckpointSaverHook.\nINFO:tensorflow:Graph was finalized.\nINFO:tensorflow:Running local_init_op.\nINFO:tensorflow:Done running local_init_op.\nWARNING:tensorflow:From /home/alex/anaconda3/lib/python3.7/site-packages/tensorflow_core/python/training/monitored_session.py:906: start_queue_runners (from tensorflow.python.training.queue_runner_impl) is deprecated and will be removed in a future version.\nInstructions for updating:\nTo construct input pipelines, use the `tf.data` module.\nINFO:tensorflow:Saving checkpoints for 0 into /tmp/tmpsxf8h67w/model.ckpt.\nINFO:tensorflow:loss = 737813900000.0, step = 0\nINFO:tensorflow:global_step/sec: 187.766\nINFO:tensorflow:loss = 603625800000.0, step = 100 (0.532 sec)\nINFO:tensorflow:global_step/sec: 215.865\nINFO:tensorflow:loss = 206462620000.0, step = 200 (0.463 sec)\nINFO:tensorflow:global_step/sec: 229.061\nINFO:tensorflow:loss = 311599240000.0, step = 300 (0.438 sec)\nINFO:tensorflow:global_step/sec: 201.069\nINFO:tensorflow:loss = 225901760000.0, step = 400 (0.498 sec)\nINFO:tensorflow:global_step/sec: 197.118\nINFO:tensorflow:loss = 161039160000.0, step = 500 (0.505 sec)\nINFO:tensorflow:global_step/sec: 236.031\nINFO:tensorflow:loss = 252692270000.0, step = 600 (0.425 sec)\nWARNING:tensorflow:It seems that global step (tf.train.get_global_step) has not been increased. Current value (could be stable): 648 vs previous value: 648. You could increase the global step by passing tf.train.get_global_step() to Optimizer.apply_gradients or Optimizer.minimize.\nINFO:tensorflow:global_step/sec: 235.29\nINFO:tensorflow:loss = 283574040000.0, step = 700 (0.424 sec)\nWARNING:tensorflow:It seems that global step (tf.train.get_global_step) has not been increased. Current value (could be stable): 723 vs previous value: 723. You could increase the global step by passing tf.train.get_global_step() to Optimizer.apply_gradients or Optimizer.minimize.\nINFO:tensorflow:global_step/sec: 246.522\nINFO:tensorflow:loss = 71873780000.0, step = 800 (0.407 sec)\nWARNING:tensorflow:It seems that global step (tf.train.get_global_step) has not been increased. Current value (could be stable): 859 vs previous value: 859. You could increase the global step by passing tf.train.get_global_step() to Optimizer.apply_gradients or Optimizer.minimize.\nINFO:tensorflow:global_step/sec: 238.53\nINFO:tensorflow:loss = 43244360000.0, step = 900 (0.418 sec)\nINFO:tensorflow:global_step/sec: 208.783\nINFO:tensorflow:loss = 204522750000.0, step = 1000 (0.480 sec)\nINFO:tensorflow:global_step/sec: 190.326\nINFO:tensorflow:loss = 34424860000.0, step = 1100 (0.529 sec)\nINFO:tensorflow:global_step/sec: 200.979\nINFO:tensorflow:loss = 170200060000.0, step = 1200 (0.494 sec)\nINFO:tensorflow:global_step/sec: 196.28\nINFO:tensorflow:loss = 160284790000.0, step = 1300 (0.510 sec)\nINFO:tensorflow:global_step/sec: 213.829\nINFO:tensorflow:loss = 40649400000.0, step = 1400 (0.467 sec)\nINFO:tensorflow:global_step/sec: 215.43\nINFO:tensorflow:loss = 164894260000.0, step = 1500 (0.465 sec)\nINFO:tensorflow:global_step/sec: 203.964\nINFO:tensorflow:loss = 189786060000.0, step = 1600 (0.489 sec)\nINFO:tensorflow:global_step/sec: 224.969\nINFO:tensorflow:loss = 119750630000.0, step = 1700 (0.443 sec)\nWARNING:tensorflow:It seems that global step (tf.train.get_global_step) has not been increased. Current value (could be stable): 1781 vs previous value: 1781. You could increase the global step by passing tf.train.get_global_step() to Optimizer.apply_gradients or Optimizer.minimize.\nINFO:tensorflow:global_step/sec: 216.315\nINFO:tensorflow:loss = 274213780000.0, step = 1800 (0.463 sec)\nWARNING:tensorflow:It seems that global step (tf.train.get_global_step) has not been increased. Current value (could be stable): 1876 vs previous value: 1876. You could increase the global step by passing tf.train.get_global_step() to Optimizer.apply_gradients or Optimizer.minimize.\nINFO:tensorflow:global_step/sec: 231.175\nINFO:tensorflow:loss = 141048660000.0, step = 1900 (0.434 sec)\nINFO:tensorflow:global_step/sec: 202.912\nINFO:tensorflow:loss = 66792040000.0, step = 2000 (0.491 sec)\nINFO:tensorflow:global_step/sec: 205.65\nINFO:tensorflow:loss = 44721205000.0, step = 2100 (0.486 sec)\nINFO:tensorflow:global_step/sec: 235.61\nINFO:tensorflow:loss = 46940815000.0, step = 2200 (0.425 sec)\nINFO:tensorflow:global_step/sec: 239.951\nINFO:tensorflow:loss = 58728866000.0, step = 2300 (0.417 sec)\nINFO:tensorflow:global_step/sec: 238.021\nINFO:tensorflow:loss = 149981860000.0, step = 2400 (0.419 sec)\nINFO:tensorflow:global_step/sec: 215.102\nINFO:tensorflow:loss = 111670330000.0, step = 2500 (0.466 sec)\nINFO:tensorflow:global_step/sec: 234.892\nINFO:tensorflow:loss = 110345310000.0, step = 2600 (0.427 sec)\nINFO:tensorflow:global_step/sec: 217.368\nINFO:tensorflow:loss = 97149420000.0, step = 2700 (0.458 sec)\nINFO:tensorflow:global_step/sec: 240.272\nINFO:tensorflow:loss = 116047670000.0, step = 2801 (0.416 sec)\nINFO:tensorflow:global_step/sec: 229.241\nINFO:tensorflow:loss = 45861800000.0, step = 2900 (0.436 sec)\nINFO:tensorflow:global_step/sec: 239.707\nINFO:tensorflow:loss = 105646300000.0, step = 3000 (0.417 sec)\nINFO:tensorflow:global_step/sec: 245.294\nINFO:tensorflow:loss = 141074420000.0, step = 3100 (0.409 sec)\nINFO:tensorflow:global_step/sec: 244.453\nINFO:tensorflow:loss = 83450710000.0, step = 3200 (0.408 sec)\nINFO:tensorflow:global_step/sec: 205.332\nINFO:tensorflow:loss = 184024810000.0, step = 3300 (0.489 sec)\nINFO:tensorflow:global_step/sec: 237.044\nINFO:tensorflow:loss = 64175727000.0, step = 3400 (0.420 sec)\nINFO:tensorflow:global_step/sec: 241.444\nINFO:tensorflow:loss = 86811830000.0, step = 3500 (0.413 sec)\nINFO:tensorflow:global_step/sec: 235.793\nINFO:tensorflow:loss = 79564320000.0, step = 3600 (0.424 sec)\nINFO:tensorflow:global_step/sec: 236.12\nINFO:tensorflow:loss = 93597160000.0, step = 3700 (0.424 sec)\nINFO:tensorflow:global_step/sec: 236.829\nINFO:tensorflow:loss = 194269800000.0, step = 3800 (0.422 sec)\nINFO:tensorflow:global_step/sec: 232.766\nINFO:tensorflow:loss = 73464680000.0, step = 3900 (0.430 sec)\nINFO:tensorflow:global_step/sec: 252.448\nINFO:tensorflow:loss = 103719264000.0, step = 4000 (0.398 sec)\nINFO:tensorflow:global_step/sec: 240.095\nINFO:tensorflow:loss = 124084500000.0, step = 4100 (0.416 sec)\nINFO:tensorflow:global_step/sec: 241.607\nINFO:tensorflow:loss = 137828660000.0, step = 4200 (0.414 sec)\nINFO:tensorflow:global_step/sec: 249.195\nINFO:tensorflow:loss = 61467746000.0, step = 4300 (0.400 sec)\nINFO:tensorflow:global_step/sec: 236.763\nINFO:tensorflow:loss = 157561590000.0, step = 4400 (0.424 sec)\nINFO:tensorflow:global_step/sec: 233.539\nINFO:tensorflow:loss = 68290180000.0, step = 4500 (0.429 sec)\nINFO:tensorflow:global_step/sec: 245.512\nINFO:tensorflow:loss = 77896390000.0, step = 4600 (0.405 sec)\nINFO:tensorflow:global_step/sec: 239.873\nINFO:tensorflow:loss = 91007190000.0, step = 4700 (0.419 sec)\nINFO:tensorflow:global_step/sec: 233.87\nINFO:tensorflow:loss = 66681290000.0, step = 4800 (0.428 sec)\nINFO:tensorflow:global_step/sec: 210.688\nINFO:tensorflow:loss = 259613690000.0, step = 4900 (0.474 sec)\nINFO:tensorflow:global_step/sec: 209.451\nINFO:tensorflow:loss = 128614680000.0, step = 5000 (0.476 sec)\nINFO:tensorflow:global_step/sec: 246.291\nINFO:tensorflow:loss = 153154850000.0, step = 5100 (0.407 sec)\nINFO:tensorflow:global_step/sec: 207.699\nINFO:tensorflow:loss = 40851747000.0, step = 5200 (0.482 sec)\nINFO:tensorflow:global_step/sec: 246.304\nINFO:tensorflow:loss = 49827260000.0, step = 5300 (0.405 sec)\nINFO:tensorflow:global_step/sec: 225.924\nINFO:tensorflow:loss = 144886000000.0, step = 5400 (0.442 sec)\nINFO:tensorflow:global_step/sec: 237.039\nINFO:tensorflow:loss = 40717836000.0, step = 5500 (0.423 sec)\nINFO:tensorflow:global_step/sec: 201.863\nINFO:tensorflow:loss = 84977656000.0, step = 5600 (0.494 sec)\nINFO:tensorflow:global_step/sec: 207.037\nINFO:tensorflow:loss = 107957320000.0, step = 5700 (0.490 sec)\nINFO:tensorflow:global_step/sec: 190.337\nINFO:tensorflow:loss = 210044680000.0, step = 5800 (0.519 sec)\nINFO:tensorflow:global_step/sec: 196.223\nINFO:tensorflow:loss = 77396510000.0, step = 5900 (0.510 sec)\nINFO:tensorflow:global_step/sec: 206.408\nINFO:tensorflow:loss = 128865710000.0, step = 6000 (0.485 sec)\nINFO:tensorflow:global_step/sec: 204.494\nINFO:tensorflow:loss = 207053880000.0, step = 6100 (0.489 sec)\nINFO:tensorflow:global_step/sec: 230.085\nINFO:tensorflow:loss = 201787830000.0, step = 6200 (0.435 sec)\nINFO:tensorflow:global_step/sec: 218.725\nINFO:tensorflow:loss = 73547910000.0, step = 6300 (0.459 sec)\nINFO:tensorflow:global_step/sec: 200.477\nINFO:tensorflow:loss = 166449070000.0, step = 6400 (0.497 sec)\nINFO:tensorflow:global_step/sec: 227.563\nINFO:tensorflow:loss = 74530180000.0, step = 6500 (0.440 sec)\nINFO:tensorflow:global_step/sec: 241.414\nINFO:tensorflow:loss = 91929720000.0, step = 6600 (0.413 sec)\nINFO:tensorflow:global_step/sec: 230.946\nINFO:tensorflow:loss = 25839993000.0, step = 6700 (0.433 sec)\nINFO:tensorflow:global_step/sec: 237.168\nINFO:tensorflow:loss = 87318180000.0, step = 6800 (0.423 sec)\nINFO:tensorflow:global_step/sec: 243.238\nINFO:tensorflow:loss = 34597060000.0, step = 6900 (0.410 sec)\nINFO:tensorflow:global_step/sec: 235.087\nINFO:tensorflow:loss = 189192630000.0, step = 7000 (0.426 sec)\nINFO:tensorflow:global_step/sec: 239.392\nINFO:tensorflow:loss = 132742240000.0, step = 7100 (0.416 sec)\nINFO:tensorflow:global_step/sec: 231.069\nINFO:tensorflow:loss = 179832000000.0, step = 7200 (0.433 sec)\nINFO:tensorflow:global_step/sec: 204.809\nINFO:tensorflow:loss = 151968710000.0, step = 7300 (0.490 sec)\nINFO:tensorflow:global_step/sec: 230.098\nINFO:tensorflow:loss = 59002823000.0, step = 7400 (0.434 sec)\nINFO:tensorflow:global_step/sec: 242.666\nINFO:tensorflow:loss = 76417810000.0, step = 7500 (0.411 sec)\nINFO:tensorflow:global_step/sec: 239.326\nINFO:tensorflow:loss = 25606769000.0, step = 7600 (0.419 sec)\nINFO:tensorflow:global_step/sec: 234.299\nINFO:tensorflow:loss = 92507610000.0, step = 7700 (0.427 sec)\nINFO:tensorflow:global_step/sec: 233.23\nINFO:tensorflow:loss = 103375946000.0, step = 7800 (0.427 sec)\nINFO:tensorflow:global_step/sec: 226.179\nINFO:tensorflow:loss = 184305040000.0, step = 7900 (0.443 sec)\nINFO:tensorflow:Saving checkpoints for 8000 into /tmp/tmpsxf8h67w/model.ckpt.\nINFO:tensorflow:Loss for final step: 56835707000.0.\n"
    },
    {
     "output_type": "execute_result",
     "data": {
      "text/plain": "<tensorflow_estimator.python.estimator.canned.dnn.DNNRegressor at 0x7fa6676e5e10>"
     },
     "metadata": {},
     "execution_count": 35
    }
   ],
   "source": [
    "modelo.train(input_fn = funcion_entrada, steps = 8000)"
   ]
  },
  {
   "cell_type": "markdown",
   "metadata": {},
   "source": [
    "### Predicción"
   ]
  },
  {
   "cell_type": "code",
   "execution_count": 36,
   "metadata": {},
   "outputs": [],
   "source": [
    "funcion_entrada_prediccion = tf.estimator.inputs.pandas_input_fn(x = x_test, batch_size=10, num_epochs=1, shuffle= False)"
   ]
  },
  {
   "cell_type": "code",
   "execution_count": 37,
   "metadata": {},
   "outputs": [],
   "source": [
    "generador_predicciones = modelo.predict(funcion_entrada_prediccion)"
   ]
  },
  {
   "cell_type": "code",
   "execution_count": 38,
   "metadata": {},
   "outputs": [
    {
     "output_type": "stream",
     "name": "stdout",
     "text": "INFO:tensorflow:Calling model_fn.\nINFO:tensorflow:Done calling model_fn.\nINFO:tensorflow:Graph was finalized.\nINFO:tensorflow:Restoring parameters from /tmp/tmpsxf8h67w/model.ckpt-8000\nINFO:tensorflow:Running local_init_op.\nINFO:tensorflow:Done running local_init_op.\n"
    }
   ],
   "source": [
    "predicciones = list(generador_predicciones)"
   ]
  },
  {
   "cell_type": "code",
   "execution_count": 39,
   "metadata": {},
   "outputs": [
    {
     "output_type": "execute_result",
     "data": {
      "text/plain": "},\n {'predictions': array([229030.22], dtype=float32)},\n {'predictions': array([138901.62], dtype=float32)},\n {'predictions': array([219957.02], dtype=float32)},\n {'predictions': array([241025.78], dtype=float32)},\n {'predictions': array([204447.39], dtype=float32)},\n {'predictions': array([229958.36], dtype=float32)},\n {'predictions': array([160459.23], dtype=float32)},\n {'predictions': array([229773.66], dtype=float32)},\n {'predictions': array([200415.2], dtype=float32)},\n {'predictions': array([189387.73], dtype=float32)},\n {'predictions': array([181768.94], dtype=float32)},\n {'predictions': array([184703.14], dtype=float32)},\n {'predictions': array([214292.23], dtype=float32)},\n {'predictions': array([201596.95], dtype=float32)},\n {'predictions': array([225418.72], dtype=float32)},\n {'predictions': array([184243.8], dtype=float32)},\n {'predictions': array([189902.73], dtype=float32)},\n {'predictions': array([206890.83], dtype=float32)},\n {'predictions': array([203984.36], dtype=float32)},\n {'predictions': array([185862.52], dtype=float32)},\n {'predictions': array([213206.95], dtype=float32)},\n {'predictions': array([193811.92], dtype=float32)},\n {'predictions': array([221153.78], dtype=float32)},\n {'predictions': array([230578.64], dtype=float32)},\n {'predictions': array([215832.73], dtype=float32)},\n {'predictions': array([171602.16], dtype=float32)},\n {'predictions': array([226791.67], dtype=float32)},\n {'predictions': array([207727.34], dtype=float32)},\n {'predictions': array([260851.84], dtype=float32)},\n {'predictions': array([200478.42], dtype=float32)},\n {'predictions': array([171076.86], dtype=float32)},\n {'predictions': array([205560.48], dtype=float32)},\n {'predictions': array([236856.81], dtype=float32)},\n {'predictions': array([208498.67], dtype=float32)},\n {'predictions': array([208927.14], dtype=float32)},\n {'predictions': array([210488.53], dtype=float32)},\n {'predictions': array([195327.72], dtype=float32)},\n {'predictions': array([205619.05], dtype=float32)},\n {'predictions': array([224272.47], dtype=float32)},\n {'predictions': array([223539.08], dtype=float32)},\n {'predictions': array([229022.42], dtype=float32)},\n {'predictions': array([237618.83], dtype=float32)},\n {'predictions': array([238879.02], dtype=float32)},\n {'predictions': array([208470.17], dtype=float32)},\n {'predictions': array([221345.62], dtype=float32)},\n {'predictions': array([242463.23], dtype=float32)},\n {'predictions': array([359915.38], dtype=float32)},\n {'predictions': array([183823.56], dtype=float32)},\n {'predictions': array([247743.58], dtype=float32)},\n {'predictions': array([213404.52], dtype=float32)},\n {'predictions': array([186393.97], dtype=float32)},\n {'predictions': array([236418.39], dtype=float32)},\n {'predictions': array([217684.36], dtype=float32)},\n {'predictions': array([236456.39], dtype=float32)},\n {'predictions': array([209289.89], dtype=float32)},\n {'predictions': array([196862.95], dtype=float32)},\n {'predictions': array([196459.28], dtype=float32)},\n {'predictions': array([214749.95], dtype=float32)},\n {'predictions': array([187679.77], dtype=float32)},\n {'predictions': array([234974.48], dtype=float32)},\n {'predictions': array([184133.38], dtype=float32)},\n {'predictions': array([244535.2], dtype=float32)},\n {'predictions': array([168066.14], dtype=float32)},\n {'predictions': array([201293.83], dtype=float32)},\n {'predictions': array([191652.83], dtype=float32)},\n {'predictions': array([242614.12], dtype=float32)},\n {'predictions': array([207810.08], dtype=float32)},\n {'predictions': array([192579.89], dtype=float32)},\n {'predictions': array([227035.61], dtype=float32)},\n {'predictions': array([193350.16], dtype=float32)},\n {'predictions': array([210920.64], dtype=float32)},\n {'predictions': array([187486.92], dtype=float32)},\n {'predictions': array([222878.25], dtype=float32)},\n {'predictions': array([219996.36], dtype=float32)},\n {'predictions': array([190689.38], dtype=float32)},\n {'predictions': array([162807.97], dtype=float32)},\n {'predictions': array([180243.4], dtype=float32)},\n {'predictions': array([222669.69], dtype=float32)},\n {'predictions': array([254327.36], dtype=float32)},\n {'predictions': array([202346.3], dtype=float32)},\n {'predictions': array([201592.3], dtype=float32)},\n {'predictions': array([167402.14], dtype=float32)},\n {'predictions': array([330519.6], dtype=float32)},\n {'predictions': array([216500.77], dtype=float32)},\n {'predictions': array([216832.08], dtype=float32)},\n {'predictions': array([217440.22], dtype=float32)},\n {'predictions': array([227631.6], dtype=float32)},\n {'predictions': array([248607.22], dtype=float32)},\n {'predictions': array([175328.83], dtype=float32)},\n {'predictions': array([265522.56], dtype=float32)},\n {'predictions': array([220274.78], dtype=float32)},\n {'predictions': array([199691.45], dtype=float32)},\n {'predictions': array([228257.31], dtype=float32)},\n {'predictions': array([204923.64], dtype=float32)},\n {'predictions': array([237847.27], dtype=float32)},\n {'predictions': array([236821.08], dtype=float32)},\n {'predictions': array([178308.8], dtype=float32)},\n {'predictions': array([199439.52], dtype=float32)},\n {'predictions': array([216964.05], dtype=float32)},\n {'predictions': array([198111.73], dtype=float32)},\n {'predictions': array([202315.39], dtype=float32)},\n {'predictions': array([232516.42], dtype=float32)},\n {'predictions': array([189053.88], dtype=float32)},\n {'predictions': array([182598.88], dtype=float32)},\n {'predictions': array([216705.77], dtype=float32)},\n {'predictions': array([217402.27], dtype=float32)},\n {'predictions': array([259776.48], dtype=float32)},\n {'predictions': array([200712.77], dtype=float32)},\n {'predictions': array([165433.88], dtype=float32)},\n {'predictions': array([215751.08], dtype=float32)},\n {'predictions': array([186003.62], dtype=float32)},\n {'predictions': array([279120.6], dtype=float32)},\n {'predictions': array([205054.36], dtype=float32)},\n {'predictions': array([189794.12], dtype=float32)},\n {'predictions': array([168566.42], dtype=float32)},\n {'predictions': array([182838.28], dtype=float32)},\n {'predictions': array([190792.78], dtype=float32)},\n {'predictions': array([207326.5], dtype=float32)},\n {'predictions': array([179340.39], dtype=float32)},\n {'predictions': array([170684.83], dtype=float32)},\n {'predictions': array([230946.08], dtype=float32)},\n {'predictions': array([209830.72], dtype=float32)},\n {'predictions': array([221436.02], dtype=float32)},\n {'predictions': array([195941.], dtype=float32)},\n {'predictions': array([258150.52], dtype=float32)},\n {'predictions': array([193922.33], dtype=float32)},\n {'predictions': array([146217.52], dtype=float32)},\n {'predictions': array([234852.39], dtype=float32)},\n {'predictions': array([193174.73], dtype=float32)},\n {'predictions': array([215550.3], dtype=float32)},\n {'predictions': array([152186.02], dtype=float32)},\n {'predictions': array([194645.12], dtype=float32)},\n {'predictions': array([305645.2], dtype=float32)},\n {'predictions': array([190311.84], dtype=float32)},\n {'predictions': array([221816.58], dtype=float32)},\n {'predictions': array([248932.53], dtype=float32)},\n {'predictions': array([223891.17], dtype=float32)},\n {'predictions': array([212477.27], dtype=float32)},\n {'predictions': array([211827.14], dtype=float32)},\n {'predictions': array([216888.42], dtype=float32)},\n {'predictions': array([181718.89], dtype=float32)},\n {'predictions': array([215521.27], dtype=float32)},\n {'predictions': array([174138.84], dtype=float32)},\n {'predictions': array([216582.81], dtype=float32)},\n {'predictions': array([200310.27], dtype=float32)},\n {'predictions': array([219145.8], dtype=float32)},\n {'predictions': array([184570.62], dtype=float32)},\n {'predictions': array([194448.2], dtype=float32)},\n {'predictions': array([223588.84], dtype=float32)},\n {'predictions': array([152146.02], dtype=float32)},\n {'predictions': array([200461.56], dtype=float32)},\n {'predictions': array([285275.], dtype=float32)},\n {'predictions': array([230353.08], dtype=float32)},\n {'predictions': array([163831.11], dtype=float32)},\n {'predictions': array([204489.67], dtype=float32)},\n {'predictions': array([211875.72], dtype=float32)},\n {'predictions': array([219694.12], dtype=float32)},\n {'predictions': array([157689.14], dtype=float32)},\n {'predictions': array([244590.64], dtype=float32)},\n {'predictions': array([188790.25], dtype=float32)},\n {'predictions': array([196514.67], dtype=float32)},\n {'predictions': array([193580.77], dtype=float32)},\n {'predictions': array([178724.11], dtype=float32)},\n {'predictions': array([197097.36], dtype=float32)},\n {'predictions': array([200333.92], dtype=float32)},\n {'predictions': array([192585.92], dtype=float32)},\n {'predictions': array([222925.73], dtype=float32)},\n {'predictions': array([203277.17], dtype=float32)},\n {'predictions': array([258120.48], dtype=float32)},\n {'predictions': array([189913.34], dtype=float32)},\n {'predictions': array([205197.83], dtype=float32)},\n {'predictions': array([197434.8], dtype=float32)},\n {'predictions': array([209287.86], dtype=float32)},\n {'predictions': array([242680.58], dtype=float32)},\n {'predictions': array([181138.56], dtype=float32)},\n {'predictions': array([209398.19], dtype=float32)},\n {'predictions': array([200524.61], dtype=float32)},\n {'predictions': array([233513.38], dtype=float32)},\n {'predictions': array([201992.84], dtype=float32)},\n {'predictions': array([209214.67], dtype=float32)},\n {'predictions': array([228400.61], dtype=float32)},\n {'predictions': array([205223.58], dtype=float32)},\n {'predictions': array([188287.23], dtype=float32)},\n {'predictions': array([208669.83], dtype=float32)},\n {'predictions': array([194970.19], dtype=float32)},\n {'predictions': array([232062.36], dtype=float32)},\n {'predictions': array([217667.61], dtype=float32)},\n {'predictions': array([169600.89], dtype=float32)},\n {'predictions': array([220977.7], dtype=float32)},\n {'predictions': array([199004.77], dtype=float32)},\n {'predictions': array([211531.98], dtype=float32)},\n {'predictions': array([200445.14], dtype=float32)},\n {'predictions': array([200402.25], dtype=float32)},\n {'predictions': array([211377.05], dtype=float32)},\n {'predictions': array([243622.78], dtype=float32)},\n {'predictions': array([216709.84], dtype=float32)},\n {'predictions': array([230291.56], dtype=float32)},\n {'predictions': array([186892.17], dtype=float32)},\n {'predictions': array([215373.61], dtype=float32)},\n {'predictions': array([219738.], dtype=float32)},\n {'predictions': array([223585.64], dtype=float32)},\n {'predictions': array([198558.64], dtype=float32)},\n {'predictions': array([215744.61], dtype=float32)},\n {'predictions': array([172285.42], dtype=float32)},\n {'predictions': array([246378.28], dtype=float32)},\n {'predictions': array([205489.31], dtype=float32)},\n {'predictions': array([178215.34], dtype=float32)},\n {'predictions': array([188665.92], dtype=float32)},\n {'predictions': array([229082.52], dtype=float32)},\n {'predictions': array([187625.58], dtype=float32)},\n {'predictions': array([192315.95], dtype=float32)},\n {'predictions': array([264402.5], dtype=float32)},\n {'predictions': array([173915.33], dtype=float32)},\n {'predictions': array([224141.17], dtype=float32)},\n {'predictions': array([167367.67], dtype=float32)},\n {'predictions': array([196934.31], dtype=float32)},\n {'predictions': array([231667.84], dtype=float32)},\n {'predictions': array([203031.58], dtype=float32)},\n {'predictions': array([228375.11], dtype=float32)},\n {'predictions': array([230311.28], dtype=float32)},\n {'predictions': array([203498.27], dtype=float32)},\n {'predictions': array([321124.47], dtype=float32)},\n {'predictions': array([183162.86], dtype=float32)},\n {'predictions': array([197513.05], dtype=float32)},\n {'predictions': array([197371.33], dtype=float32)},\n {'predictions': array([219983.8], dtype=float32)},\n {'predictions': array([236382.36], dtype=float32)},\n {'predictions': array([210255.27], dtype=float32)},\n {'predictions': array([198888.05], dtype=float32)},\n {'predictions': array([230919.42], dtype=float32)},\n {'predictions': array([220684.48], dtype=float32)},\n {'predictions': array([218357.33], dtype=float32)},\n {'predictions': array([202710.47], dtype=float32)},\n {'predictions': array([285027.25], dtype=float32)},\n {'predictions': array([159959.11], dtype=float32)},\n {'predictions': array([204504.89], dtype=float32)},\n {'predictions': array([194097.27], dtype=float32)},\n {'predictions': array([212742.14], dtype=float32)},\n {'predictions': array([191078.23], dtype=float32)},\n {'predictions': array([214305.44], dtype=float32)},\n {'predictions': array([198893.97], dtype=float32)},\n {'predictions': array([200862.67], dtype=float32)},\n {'predictions': array([176652.39], dtype=float32)},\n {'predictions': array([229199.92], dtype=float32)},\n {'predictions': array([213324.67], dtype=float32)},\n {'predictions': array([208123.88], dtype=float32)},\n {'predictions': array([205763.23], dtype=float32)},\n {'predictions': array([202351.8], dtype=float32)},\n {'predictions': array([191169.12], dtype=float32)},\n {'predictions': array([179714.28], dtype=float32)},\n {'predictions': array([221174.95], dtype=float32)},\n {'predictions': array([163304.86], dtype=float32)},\n {'predictions': array([220228.78], dtype=float32)},\n {'predictions': array([224143.9], dtype=float32)},\n {'predictions': array([168315.69], dtype=float32)},\n {'predictions': array([210762.5], dtype=float32)},\n {'predictions': array([205260.39], dtype=float32)},\n {'predictions': array([209991.66], dtype=float32)},\n {'predictions': array([200719.86], dtype=float32)},\n {'predictions': array([200757.14], dtype=float32)},\n {'predictions': array([193168.25], dtype=float32)},\n {'predictions': array([196046.81], dtype=float32)},\n {'predictions': array([233605.72], dtype=float32)},\n {'predictions': array([277465.84], dtype=float32)},\n {'predictions': array([233720.88], dtype=float32)},\n {'predictions': array([204577.83], dtype=float32)},\n {'predictions': array([198912.2], dtype=float32)},\n {'predictions': array([251321.02], dtype=float32)},\n {'predictions': array([177533.23], dtype=float32)},\n {'predictions': array([211084.58], dtype=float32)},\n {'predictions': array([207833.1], dtype=float32)},\n {'predictions': array([231544.75], dtype=float32)},\n {'predictions': array([209003.11], dtype=float32)},\n {'predictions': array([197727.81], dtype=float32)},\n {'predictions': array([175825.28], dtype=float32)},\n {'predictions': array([192302.7], dtype=float32)},\n {'predictions': array([212019.67], dtype=float32)},\n {'predictions': array([201315.02], dtype=float32)},\n {'predictions': array([255364.16], dtype=float32)},\n {'predictions': array([195941.06], dtype=float32)},\n {'predictions': array([211196.88], dtype=float32)},\n {'predictions': array([207949.86], dtype=float32)},\n {'predictions': array([215837.75], dtype=float32)},\n {'predictions': array([215371.2], dtype=float32)},\n {'predictions': array([247958.64], dtype=float32)},\n {'predictions': array([193918.39], dtype=float32)},\n {'predictions': array([161783.9], dtype=float32)},\n {'predictions': array([210416.72], dtype=float32)},\n {'predictions': array([237176.08], dtype=float32)},\n {'predictions': array([220365.39], dtype=float32)},\n {'predictions': array([199749.55], dtype=float32)},\n {'predictions': array([194648.77], dtype=float32)},\n {'predictions': array([210556.42], dtype=float32)},\n {'predictions': array([208445.3], dtype=float32)},\n {'predictions': array([202709.67], dtype=float32)},\n {'predictions': array([218709.17], dtype=float32)},\n {'predictions': array([205465.38], dtype=float32)},\n {'predictions': array([215102.05], dtype=float32)},\n {'predictions': array([237152.44], dtype=float32)},\n {'predictions': array([189732.58], dtype=float32)},\n {'predictions': array([247219.52], dtype=float32)},\n {'predictions': array([193669.78], dtype=float32)},\n {'predictions': array([190823.78], dtype=float32)},\n {'predictions': array([236999.66], dtype=float32)},\n {'predictions': array([196489.95], dtype=float32)},\n {'predictions': array([188477.56], dtype=float32)},\n {'predictions': array([200622.64], dtype=float32)},\n {'predictions': array([181453.52], dtype=float32)},\n {'predictions': array([191726.36], dtype=float32)},\n {'predictions': array([249248.36], dtype=float32)},\n {'predictions': array([227887.45], dtype=float32)},\n {'predictions': array([212185.31], dtype=float32)},\n {'predictions': array([247499.69], dtype=float32)},\n {'predictions': array([215980.39], dtype=float32)},\n {'predictions': array([177800.88], dtype=float32)},\n {'predictions': array([284467.44], dtype=float32)},\n {'predictions': array([225608.92], dtype=float32)},\n {'predictions': array([201756.39], dtype=float32)},\n {'predictions': array([238026.97], dtype=float32)},\n {'predictions': array([238000.42], dtype=float32)},\n {'predictions': array([223375.55], dtype=float32)},\n {'predictions': array([211069.52], dtype=float32)},\n {'predictions': array([250218.03], dtype=float32)},\n {'predictions': array([214844.45], dtype=float32)},\n {'predictions': array([163901.52], dtype=float32)},\n {'predictions': array([202276.67], dtype=float32)},\n {'predictions': array([187591.55], dtype=float32)},\n {'predictions': array([257625.94], dtype=float32)},\n {'predictions': array([182075.45], dtype=float32)},\n {'predictions': array([223070.7], dtype=float32)},\n {'predictions': array([243305.83], dtype=float32)},\n {'predictions': array([181897.83], dtype=float32)},\n {'predictions': array([219468.47], dtype=float32)},\n {'predictions': array([209111.98], dtype=float32)},\n {'predictions': array([203660.3], dtype=float32)},\n {'predictions': array([238061.95], dtype=float32)},\n {'predictions': array([205920.38], dtype=float32)},\n {'predictions': array([227310.55], dtype=float32)},\n {'predictions': array([224667.33], dtype=float32)},\n {'predictions': array([196739.23], dtype=float32)},\n {'predictions': array([292009.6], dtype=float32)},\n {'predictions': array([222244.8], dtype=float32)},\n {'predictions': array([176106.34], dtype=float32)},\n {'predictions': array([175772.42], dtype=float32)},\n {'predictions': array([203172.19], dtype=float32)},\n {'predictions': array([204915.94], dtype=float32)},\n {'predictions': array([256367.16], dtype=float32)},\n {'predictions': array([217889.33], dtype=float32)},\n {'predictions': array([192542.81], dtype=float32)},\n {'predictions': array([211937.78], dtype=float32)},\n {'predictions': array([210674.3], dtype=float32)},\n {'predictions': array([193067.81], dtype=float32)},\n {'predictions': array([186985.77], dtype=float32)},\n {'predictions': array([222164.53], dtype=float32)},\n {'predictions': array([219809.48], dtype=float32)},\n {'predictions': array([203286.47], dtype=float32)},\n {'predictions': array([179749.31], dtype=float32)},\n {'predictions': array([168773.12], dtype=float32)},\n {'predictions': array([217142.45], dtype=float32)},\n {'predictions': array([186571.81], dtype=float32)},\n {'predictions': array([179720.72], dtype=float32)},\n {'predictions': array([214234.23], dtype=float32)},\n {'predictions': array([189000.42], dtype=float32)},\n {'predictions': array([227057.23], dtype=float32)},\n {'predictions': array([209750.61], dtype=float32)},\n {'predictions': array([248697.05], dtype=float32)},\n {'predictions': array([214054.88], dtype=float32)},\n {'predictions': array([179243.66], dtype=float32)},\n {'predictions': array([228738.39], dtype=float32)},\n {'predictions': array([219326.45], dtype=float32)},\n {'predictions': array([225561.], dtype=float32)},\n {'predictions': array([224396.02], dtype=float32)},\n {'predictions': array([274306.5], dtype=float32)},\n {'predictions': array([205140.89], dtype=float32)},\n {'predictions': array([181985.05], dtype=float32)},\n {'predictions': array([203282.77], dtype=float32)},\n {'predictions': array([229406.94], dtype=float32)},\n {'predictions': array([155079.47], dtype=float32)},\n ...]"
     },
     "metadata": {},
     "execution_count": 39
    }
   ],
   "source": [
    "predicciones"
   ]
  },
  {
   "cell_type": "code",
   "execution_count": 40,
   "metadata": {},
   "outputs": [],
   "source": [
    "predicciones_finales = []\n",
    "for prediccion in predicciones:\n",
    "    predicciones_finales.append(prediccion['predictions'])"
   ]
  },
  {
   "cell_type": "code",
   "execution_count": 41,
   "metadata": {},
   "outputs": [
    {
     "output_type": "execute_result",
     "data": {
      "text/plain": "ype=float32),\n array([203697.88], dtype=float32),\n array([267596.6], dtype=float32),\n array([224914.03], dtype=float32),\n array([200271.28], dtype=float32),\n array([185894.33], dtype=float32),\n array([219161.23], dtype=float32),\n array([175550.31], dtype=float32),\n array([194389.89], dtype=float32),\n array([207985.81], dtype=float32),\n array([222150.02], dtype=float32),\n array([207756.66], dtype=float32),\n array([201146.22], dtype=float32),\n array([206218.23], dtype=float32),\n array([175978.23], dtype=float32),\n array([209922.02], dtype=float32),\n array([192981.86], dtype=float32),\n array([191609.72], dtype=float32),\n array([160719.4], dtype=float32),\n array([174165.38], dtype=float32),\n array([204942.1], dtype=float32),\n array([221829.75], dtype=float32),\n array([216053.14], dtype=float32),\n array([201450.44], dtype=float32),\n array([209759.92], dtype=float32),\n array([197115.92], dtype=float32),\n array([185925.61], dtype=float32),\n array([228615.], dtype=float32),\n array([214320.14], dtype=float32),\n array([220179.98], dtype=float32),\n array([214637.19], dtype=float32),\n array([158135.36], dtype=float32),\n array([197247.1], dtype=float32),\n array([170351.3], dtype=float32),\n array([204516.02], dtype=float32),\n array([195288.56], dtype=float32),\n array([178864.33], dtype=float32),\n array([217348.3], dtype=float32),\n array([216125.61], dtype=float32),\n array([217550.27], dtype=float32),\n array([207083.58], dtype=float32),\n array([220030.86], dtype=float32),\n array([215264.98], dtype=float32),\n array([210057.05], dtype=float32),\n array([196343.48], dtype=float32),\n array([209686.7], dtype=float32),\n array([271595.88], dtype=float32),\n array([239729.61], dtype=float32),\n array([224683.6], dtype=float32),\n array([224923.53], dtype=float32),\n array([202183.48], dtype=float32),\n array([198419.66], dtype=float32),\n array([182314.98], dtype=float32),\n array([228172.16], dtype=float32),\n array([215970.02], dtype=float32),\n array([168715.9], dtype=float32),\n array([199899.83], dtype=float32),\n array([239192.7], dtype=float32),\n array([189231.4], dtype=float32),\n array([260451.7], dtype=float32),\n array([191656.73], dtype=float32),\n array([228925.39], dtype=float32),\n array([225681.11], dtype=float32),\n array([206701.62], dtype=float32),\n array([215728.06], dtype=float32),\n array([198052.67], dtype=float32),\n array([186309.55], dtype=float32),\n array([199733.8], dtype=float32),\n array([256155.61], dtype=float32),\n array([183459.4], dtype=float32),\n array([191258.14], dtype=float32),\n array([205073.88], dtype=float32),\n array([214546.44], dtype=float32),\n array([211287.38], dtype=float32),\n array([222809.22], dtype=float32),\n array([234554.02], dtype=float32),\n array([191935.58], dtype=float32),\n array([203195.2], dtype=float32),\n array([180173.12], dtype=float32),\n array([191277.62], dtype=float32),\n array([256924.31], dtype=float32),\n array([229423.73], dtype=float32),\n array([201398.8], dtype=float32),\n array([222013.14], dtype=float32),\n array([187734.17], dtype=float32),\n array([183904.17], dtype=float32),\n array([230546.4], dtype=float32),\n array([286713.56], dtype=float32),\n array([235546.42], dtype=float32),\n array([308860.84], dtype=float32),\n array([240793.36], dtype=float32),\n array([195267.31], dtype=float32),\n array([218949.56], dtype=float32),\n array([185904.1], dtype=float32),\n array([268792.44], dtype=float32),\n array([208893.48], dtype=float32),\n array([283764.03], dtype=float32),\n array([200678.33], dtype=float32),\n array([223863.67], dtype=float32),\n array([224990.11], dtype=float32),\n array([194778.92], dtype=float32),\n array([211092.6], dtype=float32),\n array([217279.45], dtype=float32),\n array([208748.36], dtype=float32),\n array([219828.27], dtype=float32),\n array([215002.86], dtype=float32),\n array([197734.48], dtype=float32),\n array([190432.45], dtype=float32),\n array([196928.44], dtype=float32),\n array([174774.12], dtype=float32),\n array([229353.69], dtype=float32),\n array([217164.77], dtype=float32),\n array([238320.78], dtype=float32),\n array([237005.72], dtype=float32),\n array([231290.72], dtype=float32),\n array([259284.36], dtype=float32),\n array([198361.03], dtype=float32),\n array([209390.11], dtype=float32),\n array([202871.95], dtype=float32),\n array([220785.89], dtype=float32),\n array([247266.02], dtype=float32),\n array([185995.42], dtype=float32),\n array([201952.7], dtype=float32),\n array([215701.11], dtype=float32),\n array([236648.14], dtype=float32),\n array([176930.2], dtype=float32),\n array([220072.88], dtype=float32),\n array([194697.39], dtype=float32),\n array([207546.11], dtype=float32),\n array([179180.8], dtype=float32),\n array([188147.31], dtype=float32),\n array([204116.97], dtype=float32),\n array([240428.06], dtype=float32),\n array([246124.25], dtype=float32),\n array([176801.66], dtype=float32),\n array([208986.58], dtype=float32),\n array([220191.38], dtype=float32),\n array([272833.06], dtype=float32),\n array([184290.95], dtype=float32),\n array([219298.7], dtype=float32),\n array([218476.94], dtype=float32),\n array([203035.33], dtype=float32),\n array([198600.98], dtype=float32),\n array([231153.23], dtype=float32),\n array([166919.69], dtype=float32),\n array([225597.23], dtype=float32),\n array([204257.64], dtype=float32),\n array([199059.28], dtype=float32),\n array([242020.47], dtype=float32),\n array([150234.78], dtype=float32),\n array([183369.08], dtype=float32),\n array([224006.14], dtype=float32),\n array([186989.56], dtype=float32),\n array([186021.86], dtype=float32),\n array([208458.27], dtype=float32),\n array([235838.97], dtype=float32),\n array([265962.53], dtype=float32),\n array([212731.61], dtype=float32),\n array([237853.3], dtype=float32),\n array([180419.16], dtype=float32),\n array([221871.14], dtype=float32),\n array([226402.31], dtype=float32),\n array([253863.83], dtype=float32),\n array([185931.64], dtype=float32),\n array([224370.17], dtype=float32),\n array([207794.61], dtype=float32),\n array([213547.45], dtype=float32),\n array([200957.17], dtype=float32),\n array([296006.06], dtype=float32),\n array([202630.25], dtype=float32),\n array([232451.5], dtype=float32),\n array([168632.6], dtype=float32),\n array([208436.84], dtype=float32),\n array([191257.88], dtype=float32),\n array([201366.02], dtype=float32),\n array([163454.4], dtype=float32),\n array([254651.34], dtype=float32),\n array([208489.36], dtype=float32),\n array([212377.75], dtype=float32),\n array([186375.61], dtype=float32),\n array([229030.22], dtype=float32),\n array([138901.62], dtype=float32),\n array([219957.02], dtype=float32),\n array([241025.78], dtype=float32),\n array([204447.39], dtype=float32),\n array([229958.36], dtype=float32),\n array([160459.23], dtype=float32),\n array([229773.66], dtype=float32),\n array([200415.2], dtype=float32),\n array([189387.73], dtype=float32),\n array([181768.94], dtype=float32),\n array([184703.14], dtype=float32),\n array([214292.23], dtype=float32),\n array([201596.95], dtype=float32),\n array([225418.72], dtype=float32),\n array([184243.8], dtype=float32),\n array([189902.73], dtype=float32),\n array([206890.83], dtype=float32),\n array([203984.36], dtype=float32),\n array([185862.52], dtype=float32),\n array([213206.95], dtype=float32),\n array([193811.92], dtype=float32),\n array([221153.78], dtype=float32),\n array([230578.64], dtype=float32),\n array([215832.73], dtype=float32),\n array([171602.16], dtype=float32),\n array([226791.67], dtype=float32),\n array([207727.34], dtype=float32),\n array([260851.84], dtype=float32),\n array([200478.42], dtype=float32),\n array([171076.86], dtype=float32),\n array([205560.48], dtype=float32),\n array([236856.81], dtype=float32),\n array([208498.67], dtype=float32),\n array([208927.14], dtype=float32),\n array([210488.53], dtype=float32),\n array([195327.72], dtype=float32),\n array([205619.05], dtype=float32),\n array([224272.47], dtype=float32),\n array([223539.08], dtype=float32),\n array([229022.42], dtype=float32),\n array([237618.83], dtype=float32),\n array([238879.02], dtype=float32),\n array([208470.17], dtype=float32),\n array([221345.62], dtype=float32),\n array([242463.23], dtype=float32),\n array([359915.38], dtype=float32),\n array([183823.56], dtype=float32),\n array([247743.58], dtype=float32),\n array([213404.52], dtype=float32),\n array([186393.97], dtype=float32),\n array([236418.39], dtype=float32),\n array([217684.36], dtype=float32),\n array([236456.39], dtype=float32),\n array([209289.89], dtype=float32),\n array([196862.95], dtype=float32),\n array([196459.28], dtype=float32),\n array([214749.95], dtype=float32),\n array([187679.77], dtype=float32),\n array([234974.48], dtype=float32),\n array([184133.38], dtype=float32),\n array([244535.2], dtype=float32),\n array([168066.14], dtype=float32),\n array([201293.83], dtype=float32),\n array([191652.83], dtype=float32),\n array([242614.12], dtype=float32),\n array([207810.08], dtype=float32),\n array([192579.89], dtype=float32),\n array([227035.61], dtype=float32),\n array([193350.16], dtype=float32),\n array([210920.64], dtype=float32),\n array([187486.92], dtype=float32),\n array([222878.25], dtype=float32),\n array([219996.36], dtype=float32),\n array([190689.38], dtype=float32),\n array([162807.97], dtype=float32),\n array([180243.4], dtype=float32),\n array([222669.69], dtype=float32),\n array([254327.36], dtype=float32),\n array([202346.3], dtype=float32),\n array([201592.3], dtype=float32),\n array([167402.14], dtype=float32),\n array([330519.6], dtype=float32),\n array([216500.77], dtype=float32),\n array([216832.08], dtype=float32),\n array([217440.22], dtype=float32),\n array([227631.6], dtype=float32),\n array([248607.22], dtype=float32),\n array([175328.83], dtype=float32),\n array([265522.56], dtype=float32),\n array([220274.78], dtype=float32),\n array([199691.45], dtype=float32),\n array([228257.31], dtype=float32),\n array([204923.64], dtype=float32),\n array([237847.27], dtype=float32),\n array([236821.08], dtype=float32),\n array([178308.8], dtype=float32),\n array([199439.52], dtype=float32),\n array([216964.05], dtype=float32),\n array([198111.73], dtype=float32),\n array([202315.39], dtype=float32),\n array([232516.42], dtype=float32),\n array([189053.88], dtype=float32),\n array([182598.88], dtype=float32),\n array([216705.77], dtype=float32),\n array([217402.27], dtype=float32),\n array([259776.48], dtype=float32),\n array([200712.77], dtype=float32),\n array([165433.88], dtype=float32),\n array([215751.08], dtype=float32),\n array([186003.62], dtype=float32),\n array([279120.6], dtype=float32),\n array([205054.36], dtype=float32),\n array([189794.12], dtype=float32),\n array([168566.42], dtype=float32),\n array([182838.28], dtype=float32),\n array([190792.78], dtype=float32),\n array([207326.5], dtype=float32),\n array([179340.39], dtype=float32),\n array([170684.83], dtype=float32),\n array([230946.08], dtype=float32),\n array([209830.72], dtype=float32),\n array([221436.02], dtype=float32),\n array([195941.], dtype=float32),\n array([258150.52], dtype=float32),\n array([193922.33], dtype=float32),\n array([146217.52], dtype=float32),\n array([234852.39], dtype=float32),\n array([193174.73], dtype=float32),\n array([215550.3], dtype=float32),\n array([152186.02], dtype=float32),\n array([194645.12], dtype=float32),\n array([305645.2], dtype=float32),\n array([190311.84], dtype=float32),\n array([221816.58], dtype=float32),\n array([248932.53], dtype=float32),\n array([223891.17], dtype=float32),\n array([212477.27], dtype=float32),\n array([211827.14], dtype=float32),\n array([216888.42], dtype=float32),\n array([181718.89], dtype=float32),\n array([215521.27], dtype=float32),\n array([174138.84], dtype=float32),\n array([216582.81], dtype=float32),\n array([200310.27], dtype=float32),\n array([219145.8], dtype=float32),\n array([184570.62], dtype=float32),\n array([194448.2], dtype=float32),\n array([223588.84], dtype=float32),\n array([152146.02], dtype=float32),\n array([200461.56], dtype=float32),\n array([285275.], dtype=float32),\n array([230353.08], dtype=float32),\n array([163831.11], dtype=float32),\n array([204489.67], dtype=float32),\n array([211875.72], dtype=float32),\n array([219694.12], dtype=float32),\n array([157689.14], dtype=float32),\n array([244590.64], dtype=float32),\n array([188790.25], dtype=float32),\n array([196514.67], dtype=float32),\n array([193580.77], dtype=float32),\n array([178724.11], dtype=float32),\n array([197097.36], dtype=float32),\n array([200333.92], dtype=float32),\n array([192585.92], dtype=float32),\n array([222925.73], dtype=float32),\n array([203277.17], dtype=float32),\n array([258120.48], dtype=float32),\n array([189913.34], dtype=float32),\n array([205197.83], dtype=float32),\n array([197434.8], dtype=float32),\n array([209287.86], dtype=float32),\n array([242680.58], dtype=float32),\n array([181138.56], dtype=float32),\n array([209398.19], dtype=float32),\n array([200524.61], dtype=float32),\n array([233513.38], dtype=float32),\n array([201992.84], dtype=float32),\n array([209214.67], dtype=float32),\n array([228400.61], dtype=float32),\n array([205223.58], dtype=float32),\n array([188287.23], dtype=float32),\n array([208669.83], dtype=float32),\n array([194970.19], dtype=float32),\n array([232062.36], dtype=float32),\n array([217667.61], dtype=float32),\n array([169600.89], dtype=float32),\n array([220977.7], dtype=float32),\n array([199004.77], dtype=float32),\n array([211531.98], dtype=float32),\n array([200445.14], dtype=float32),\n array([200402.25], dtype=float32),\n array([211377.05], dtype=float32),\n array([243622.78], dtype=float32),\n array([216709.84], dtype=float32),\n array([230291.56], dtype=float32),\n array([186892.17], dtype=float32),\n array([215373.61], dtype=float32),\n array([219738.], dtype=float32),\n array([223585.64], dtype=float32),\n array([198558.64], dtype=float32),\n array([215744.61], dtype=float32),\n array([172285.42], dtype=float32),\n array([246378.28], dtype=float32),\n array([205489.31], dtype=float32),\n array([178215.34], dtype=float32),\n array([188665.92], dtype=float32),\n array([229082.52], dtype=float32),\n array([187625.58], dtype=float32),\n array([192315.95], dtype=float32),\n array([264402.5], dtype=float32),\n array([173915.33], dtype=float32),\n array([224141.17], dtype=float32),\n array([167367.67], dtype=float32),\n array([196934.31], dtype=float32),\n array([231667.84], dtype=float32),\n array([203031.58], dtype=float32),\n array([228375.11], dtype=float32),\n array([230311.28], dtype=float32),\n array([203498.27], dtype=float32),\n array([321124.47], dtype=float32),\n array([183162.86], dtype=float32),\n array([197513.05], dtype=float32),\n array([197371.33], dtype=float32),\n array([219983.8], dtype=float32),\n array([236382.36], dtype=float32),\n array([210255.27], dtype=float32),\n array([198888.05], dtype=float32),\n array([230919.42], dtype=float32),\n array([220684.48], dtype=float32),\n array([218357.33], dtype=float32),\n array([202710.47], dtype=float32),\n array([285027.25], dtype=float32),\n array([159959.11], dtype=float32),\n array([204504.89], dtype=float32),\n array([194097.27], dtype=float32),\n array([212742.14], dtype=float32),\n array([191078.23], dtype=float32),\n array([214305.44], dtype=float32),\n array([198893.97], dtype=float32),\n array([200862.67], dtype=float32),\n array([176652.39], dtype=float32),\n array([229199.92], dtype=float32),\n array([213324.67], dtype=float32),\n array([208123.88], dtype=float32),\n array([205763.23], dtype=float32),\n array([202351.8], dtype=float32),\n array([191169.12], dtype=float32),\n array([179714.28], dtype=float32),\n array([221174.95], dtype=float32),\n array([163304.86], dtype=float32),\n array([220228.78], dtype=float32),\n array([224143.9], dtype=float32),\n array([168315.69], dtype=float32),\n array([210762.5], dtype=float32),\n array([205260.39], dtype=float32),\n array([209991.66], dtype=float32),\n array([200719.86], dtype=float32),\n array([200757.14], dtype=float32),\n array([193168.25], dtype=float32),\n array([196046.81], dtype=float32),\n array([233605.72], dtype=float32),\n array([277465.84], dtype=float32),\n array([233720.88], dtype=float32),\n array([204577.83], dtype=float32),\n array([198912.2], dtype=float32),\n array([251321.02], dtype=float32),\n array([177533.23], dtype=float32),\n array([211084.58], dtype=float32),\n array([207833.1], dtype=float32),\n array([231544.75], dtype=float32),\n array([209003.11], dtype=float32),\n array([197727.81], dtype=float32),\n array([175825.28], dtype=float32),\n array([192302.7], dtype=float32),\n array([212019.67], dtype=float32),\n array([201315.02], dtype=float32),\n array([255364.16], dtype=float32),\n array([195941.06], dtype=float32),\n array([211196.88], dtype=float32),\n array([207949.86], dtype=float32),\n array([215837.75], dtype=float32),\n array([215371.2], dtype=float32),\n array([247958.64], dtype=float32),\n array([193918.39], dtype=float32),\n array([161783.9], dtype=float32),\n array([210416.72], dtype=float32),\n array([237176.08], dtype=float32),\n array([220365.39], dtype=float32),\n array([199749.55], dtype=float32),\n array([194648.77], dtype=float32),\n array([210556.42], dtype=float32),\n array([208445.3], dtype=float32),\n array([202709.67], dtype=float32),\n array([218709.17], dtype=float32),\n array([205465.38], dtype=float32),\n array([215102.05], dtype=float32),\n array([237152.44], dtype=float32),\n array([189732.58], dtype=float32),\n array([247219.52], dtype=float32),\n array([193669.78], dtype=float32),\n array([190823.78], dtype=float32),\n array([236999.66], dtype=float32),\n array([196489.95], dtype=float32),\n array([188477.56], dtype=float32),\n array([200622.64], dtype=float32),\n array([181453.52], dtype=float32),\n array([191726.36], dtype=float32),\n array([249248.36], dtype=float32),\n array([227887.45], dtype=float32),\n array([212185.31], dtype=float32),\n array([247499.69], dtype=float32),\n array([215980.39], dtype=float32),\n array([177800.88], dtype=float32),\n array([284467.44], dtype=float32),\n array([225608.92], dtype=float32),\n array([201756.39], dtype=float32),\n array([238026.97], dtype=float32),\n array([238000.42], dtype=float32),\n array([223375.55], dtype=float32),\n array([211069.52], dtype=float32),\n array([250218.03], dtype=float32),\n array([214844.45], dtype=float32),\n array([163901.52], dtype=float32),\n array([202276.67], dtype=float32),\n array([187591.55], dtype=float32),\n array([257625.94], dtype=float32),\n array([182075.45], dtype=float32),\n array([223070.7], dtype=float32),\n array([243305.83], dtype=float32),\n array([181897.83], dtype=float32),\n array([219468.47], dtype=float32),\n array([209111.98], dtype=float32),\n array([203660.3], dtype=float32),\n array([238061.95], dtype=float32),\n array([205920.38], dtype=float32),\n array([227310.55], dtype=float32),\n array([224667.33], dtype=float32),\n array([196739.23], dtype=float32),\n array([292009.6], dtype=float32),\n array([222244.8], dtype=float32),\n array([176106.34], dtype=float32),\n array([175772.42], dtype=float32),\n array([203172.19], dtype=float32),\n array([204915.94], dtype=float32),\n array([256367.16], dtype=float32),\n array([217889.33], dtype=float32),\n array([192542.81], dtype=float32),\n array([211937.78], dtype=float32),\n array([210674.3], dtype=float32),\n array([193067.81], dtype=float32),\n array([186985.77], dtype=float32),\n array([222164.53], dtype=float32),\n array([219809.48], dtype=float32),\n array([203286.47], dtype=float32),\n array([179749.31], dtype=float32),\n array([168773.12], dtype=float32),\n array([217142.45], dtype=float32),\n array([186571.81], dtype=float32),\n array([179720.72], dtype=float32),\n array([214234.23], dtype=float32),\n array([189000.42], dtype=float32),\n array([227057.23], dtype=float32),\n array([209750.61], dtype=float32),\n array([248697.05], dtype=float32),\n array([214054.88], dtype=float32),\n array([179243.66], dtype=float32),\n array([228738.39], dtype=float32),\n array([219326.45], dtype=float32),\n array([225561.], dtype=float32),\n array([224396.02], dtype=float32),\n array([274306.5], dtype=float32),\n array([205140.89], dtype=float32),\n array([181985.05], dtype=float32),\n array([203282.77], dtype=float32),\n array([229406.94], dtype=float32),\n array([155079.47], dtype=float32),\n ...]"
     },
     "metadata": {},
     "execution_count": 41
    }
   ],
   "source": [
    "predicciones_finales"
   ]
  },
  {
   "cell_type": "code",
   "execution_count": 42,
   "metadata": {},
   "outputs": [],
   "source": [
    "from sklearn.metrics import mean_squared_error"
   ]
  },
  {
   "cell_type": "code",
   "execution_count": 43,
   "metadata": {},
   "outputs": [
    {
     "output_type": "execute_result",
     "data": {
      "text/plain": "103233.50099272151"
     },
     "metadata": {},
     "execution_count": 43
    }
   ],
   "source": [
    "mean_squared_error(y_test, predicciones_finales) ** 0.5"
   ]
  }
 ]
}