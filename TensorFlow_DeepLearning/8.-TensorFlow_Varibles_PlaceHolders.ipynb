{
 "nbformat": 4,
 "nbformat_minor": 2,
 "metadata": {
  "language_info": {
   "name": "python",
   "codemirror_mode": {
    "name": "ipython",
    "version": 3
   },
   "version": "3.7.4-final"
  },
  "orig_nbformat": 2,
  "file_extension": ".py",
  "mimetype": "text/x-python",
  "name": "python",
  "npconvert_exporter": "python",
  "pygments_lexer": "ipython3",
  "version": 3,
  "kernelspec": {
   "name": "python3",
   "display_name": "Python 3"
  }
 },
 "cells": [
  {
   "cell_type": "markdown",
   "metadata": {},
   "source": [
    "## Variables y Placeholders"
   ]
  },
  {
   "cell_type": "code",
   "execution_count": 1,
   "metadata": {},
   "outputs": [],
   "source": [
    "import tensorflow as tf"
   ]
  },
  {
   "cell_type": "code",
   "execution_count": 2,
   "metadata": {},
   "outputs": [],
   "source": [
    "tensor = tf.random.uniform((5,5),0,1)"
   ]
  },
  {
   "cell_type": "code",
   "execution_count": 3,
   "metadata": {},
   "outputs": [],
   "source": [
    "variable = tf.Variable(initial_value = tensor)"
   ]
  },
  {
   "cell_type": "code",
   "execution_count": 4,
   "metadata": {},
   "outputs": [
    {
     "output_type": "stream",
     "name": "stdout",
     "text": "<tf.Variable 'Variable:0' shape=(5, 5) dtype=float32, numpy=\narray([[0.8863311 , 0.96319616, 0.36266887, 0.41382778, 0.986146  ],\n       [0.83589995, 0.9218315 , 0.08589625, 0.00184298, 0.72541416],\n       [0.02022994, 0.9104527 , 0.11797678, 0.6090926 , 0.66780233],\n       [0.4862255 , 0.8517803 , 0.05543029, 0.553825  , 0.21603   ],\n       [0.14239597, 0.8272104 , 0.7964349 , 0.7285104 , 0.7081382 ]],\n      dtype=float32)>\n"
    }
   ],
   "source": [
    "print(variable)"
   ]
  },
  {
   "cell_type": "code",
   "execution_count": 5,
   "metadata": {},
   "outputs": [],
   "source": [
    "inicializador = tf.compat.v1.global_variables_initializer()"
   ]
  },
  {
   "cell_type": "code",
   "execution_count": 15,
   "metadata": {},
   "outputs": [
    {
     "output_type": "stream",
     "name": "stdout",
     "text": "[[0.9217888  0.3279444  0.17307162 0.99590826 0.22854662]\n [0.4682175  0.3544253  0.34193635 0.9034368  0.39552677]\n [0.62279344 0.3159641  0.4833883  0.3704908  0.77794695]\n [0.29388428 0.24417198 0.24271381 0.26049316 0.9857795 ]\n [0.6657256  0.50502145 0.04737711 0.99098825 0.50197124]]\n"
    }
   ],
   "source": [
    "with tf.compat.v1.Session() as session:\n",
    "    session.run(inicializador)\n",
    "    print(session.run(variable))"
   ]
  },
  {
   "cell_type": "markdown",
   "metadata": {},
   "source": [
    "## Placeholders"
   ]
  },
  {
   "cell_type": "code",
   "execution_count": 22,
   "metadata": {},
   "outputs": [
    {
     "output_type": "stream",
     "name": "stdout",
     "text": "Tensor(\"Placeholder_1:0\", shape=(20, 20), dtype=float32)\n"
    }
   ],
   "source": [
    "import tensorflow.compat.v1 as tf\n",
    "tf.disable_v2_behavior() \n",
    "incognita = tf.placeholder(tf.float32, shape = (20,20))\n",
    "print(incognita)"
   ]
  }
 ]
}