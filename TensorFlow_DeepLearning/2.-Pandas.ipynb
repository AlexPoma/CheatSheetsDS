{
 "nbformat": 4,
 "nbformat_minor": 2,
 "metadata": {
  "language_info": {
   "name": "python",
   "codemirror_mode": {
    "name": "ipython",
    "version": 3
   },
   "version": "3.7.4-final"
  },
  "orig_nbformat": 2,
  "file_extension": ".py",
  "mimetype": "text/x-python",
  "name": "python",
  "npconvert_exporter": "python",
  "pygments_lexer": "ipython3",
  "version": 3,
  "kernelspec": {
   "name": "python3",
   "display_name": "Python 3"
  }
 },
 "cells": [
  {
   "cell_type": "markdown",
   "metadata": {},
   "source": [
    "# Pandas"
   ]
  },
  {
   "cell_type": "code",
   "execution_count": 1,
   "metadata": {},
   "outputs": [],
   "source": [
    "import pandas as pd"
   ]
  },
  {
   "cell_type": "code",
   "execution_count": 2,
   "metadata": {},
   "outputs": [],
   "source": [
    "dataframe = pd.read_csv(\"./Data/personas.csv\")"
   ]
  },
  {
   "cell_type": "code",
   "execution_count": 3,
   "metadata": {},
   "outputs": [
    {
     "output_type": "execute_result",
     "data": {
      "text/plain": "    NOMBRE          APELLIDOS  EDAD  SALARIO\n0  ANTONIO        PEREZ GOMEZ    34    20000\n1     LUIS  RODRIGUEZ VAZQUEZ    45    45000\n2     ROSA     MARTINEZ LOPEZ    25    15000\n3    PEDRO     SILVA GONZALEZ    54    50000\n4    MARIA         DIAZ LOPEZ    40    32000",
      "text/html": "<div>\n<style scoped>\n    .dataframe tbody tr th:only-of-type {\n        vertical-align: middle;\n    }\n\n    .dataframe tbody tr th {\n        vertical-align: top;\n    }\n\n    .dataframe thead th {\n        text-align: right;\n    }\n</style>\n<table border=\"1\" class=\"dataframe\">\n  <thead>\n    <tr style=\"text-align: right;\">\n      <th></th>\n      <th>NOMBRE</th>\n      <th>APELLIDOS</th>\n      <th>EDAD</th>\n      <th>SALARIO</th>\n    </tr>\n  </thead>\n  <tbody>\n    <tr>\n      <td>0</td>\n      <td>ANTONIO</td>\n      <td>PEREZ GOMEZ</td>\n      <td>34</td>\n      <td>20000</td>\n    </tr>\n    <tr>\n      <td>1</td>\n      <td>LUIS</td>\n      <td>RODRIGUEZ VAZQUEZ</td>\n      <td>45</td>\n      <td>45000</td>\n    </tr>\n    <tr>\n      <td>2</td>\n      <td>ROSA</td>\n      <td>MARTINEZ LOPEZ</td>\n      <td>25</td>\n      <td>15000</td>\n    </tr>\n    <tr>\n      <td>3</td>\n      <td>PEDRO</td>\n      <td>SILVA GONZALEZ</td>\n      <td>54</td>\n      <td>50000</td>\n    </tr>\n    <tr>\n      <td>4</td>\n      <td>MARIA</td>\n      <td>DIAZ LOPEZ</td>\n      <td>40</td>\n      <td>32000</td>\n    </tr>\n  </tbody>\n</table>\n</div>"
     },
     "metadata": {},
     "execution_count": 3
    }
   ],
   "source": [
    "dataframe"
   ]
  },
  {
   "cell_type": "code",
   "execution_count": 4,
   "metadata": {},
   "outputs": [
    {
     "output_type": "execute_result",
     "data": {
      "text/plain": "            EDAD       SALARIO\ncount   5.000000      5.000000\nmean   39.600000  32400.000000\nstd    10.968136  15208.550227\nmin    25.000000  15000.000000\n25%    34.000000  20000.000000\n50%    40.000000  32000.000000\n75%    45.000000  45000.000000\nmax    54.000000  50000.000000",
      "text/html": "<div>\n<style scoped>\n    .dataframe tbody tr th:only-of-type {\n        vertical-align: middle;\n    }\n\n    .dataframe tbody tr th {\n        vertical-align: top;\n    }\n\n    .dataframe thead th {\n        text-align: right;\n    }\n</style>\n<table border=\"1\" class=\"dataframe\">\n  <thead>\n    <tr style=\"text-align: right;\">\n      <th></th>\n      <th>EDAD</th>\n      <th>SALARIO</th>\n    </tr>\n  </thead>\n  <tbody>\n    <tr>\n      <td>count</td>\n      <td>5.000000</td>\n      <td>5.000000</td>\n    </tr>\n    <tr>\n      <td>mean</td>\n      <td>39.600000</td>\n      <td>32400.000000</td>\n    </tr>\n    <tr>\n      <td>std</td>\n      <td>10.968136</td>\n      <td>15208.550227</td>\n    </tr>\n    <tr>\n      <td>min</td>\n      <td>25.000000</td>\n      <td>15000.000000</td>\n    </tr>\n    <tr>\n      <td>25%</td>\n      <td>34.000000</td>\n      <td>20000.000000</td>\n    </tr>\n    <tr>\n      <td>50%</td>\n      <td>40.000000</td>\n      <td>32000.000000</td>\n    </tr>\n    <tr>\n      <td>75%</td>\n      <td>45.000000</td>\n      <td>45000.000000</td>\n    </tr>\n    <tr>\n      <td>max</td>\n      <td>54.000000</td>\n      <td>50000.000000</td>\n    </tr>\n  </tbody>\n</table>\n</div>"
     },
     "metadata": {},
     "execution_count": 4
    }
   ],
   "source": [
    "dataframe.describe()"
   ]
  },
  {
   "cell_type": "code",
   "execution_count": 5,
   "metadata": {},
   "outputs": [
    {
     "output_type": "execute_result",
     "data": {
      "text/plain": "0    ANTONIO\n1       LUIS\n2       ROSA\n3      PEDRO\n4      MARIA\nName: NOMBRE, dtype: object"
     },
     "metadata": {},
     "execution_count": 5
    }
   ],
   "source": [
    "dataframe[\"NOMBRE\"]"
   ]
  },
  {
   "cell_type": "code",
   "execution_count": 6,
   "metadata": {},
   "outputs": [
    {
     "output_type": "execute_result",
     "data": {
      "text/plain": "'ANTONIO'"
     },
     "metadata": {},
     "execution_count": 6
    }
   ],
   "source": [
    "dataframe[\"NOMBRE\"][0]"
   ]
  },
  {
   "cell_type": "code",
   "execution_count": 7,
   "metadata": {},
   "outputs": [
    {
     "output_type": "execute_result",
     "data": {
      "text/plain": "    NOMBRE          APELLIDOS\n0  ANTONIO        PEREZ GOMEZ\n1     LUIS  RODRIGUEZ VAZQUEZ\n2     ROSA     MARTINEZ LOPEZ\n3    PEDRO     SILVA GONZALEZ\n4    MARIA         DIAZ LOPEZ",
      "text/html": "<div>\n<style scoped>\n    .dataframe tbody tr th:only-of-type {\n        vertical-align: middle;\n    }\n\n    .dataframe tbody tr th {\n        vertical-align: top;\n    }\n\n    .dataframe thead th {\n        text-align: right;\n    }\n</style>\n<table border=\"1\" class=\"dataframe\">\n  <thead>\n    <tr style=\"text-align: right;\">\n      <th></th>\n      <th>NOMBRE</th>\n      <th>APELLIDOS</th>\n    </tr>\n  </thead>\n  <tbody>\n    <tr>\n      <td>0</td>\n      <td>ANTONIO</td>\n      <td>PEREZ GOMEZ</td>\n    </tr>\n    <tr>\n      <td>1</td>\n      <td>LUIS</td>\n      <td>RODRIGUEZ VAZQUEZ</td>\n    </tr>\n    <tr>\n      <td>2</td>\n      <td>ROSA</td>\n      <td>MARTINEZ LOPEZ</td>\n    </tr>\n    <tr>\n      <td>3</td>\n      <td>PEDRO</td>\n      <td>SILVA GONZALEZ</td>\n    </tr>\n    <tr>\n      <td>4</td>\n      <td>MARIA</td>\n      <td>DIAZ LOPEZ</td>\n    </tr>\n  </tbody>\n</table>\n</div>"
     },
     "metadata": {},
     "execution_count": 7
    }
   ],
   "source": [
    "dataframe[[\"NOMBRE\",\"APELLIDOS\"]]"
   ]
  },
  {
   "cell_type": "code",
   "execution_count": 8,
   "metadata": {},
   "outputs": [
    {
     "output_type": "execute_result",
     "data": {
      "text/plain": "    NOMBRE          APELLIDOS  EDAD  SALARIO\n0  ANTONIO        PEREZ GOMEZ    34    20000\n1     LUIS  RODRIGUEZ VAZQUEZ    45    45000\n2     ROSA     MARTINEZ LOPEZ    25    15000\n3    PEDRO     SILVA GONZALEZ    54    50000\n4    MARIA         DIAZ LOPEZ    40    32000",
      "text/html": "<div>\n<style scoped>\n    .dataframe tbody tr th:only-of-type {\n        vertical-align: middle;\n    }\n\n    .dataframe tbody tr th {\n        vertical-align: top;\n    }\n\n    .dataframe thead th {\n        text-align: right;\n    }\n</style>\n<table border=\"1\" class=\"dataframe\">\n  <thead>\n    <tr style=\"text-align: right;\">\n      <th></th>\n      <th>NOMBRE</th>\n      <th>APELLIDOS</th>\n      <th>EDAD</th>\n      <th>SALARIO</th>\n    </tr>\n  </thead>\n  <tbody>\n    <tr>\n      <td>0</td>\n      <td>ANTONIO</td>\n      <td>PEREZ GOMEZ</td>\n      <td>34</td>\n      <td>20000</td>\n    </tr>\n    <tr>\n      <td>1</td>\n      <td>LUIS</td>\n      <td>RODRIGUEZ VAZQUEZ</td>\n      <td>45</td>\n      <td>45000</td>\n    </tr>\n    <tr>\n      <td>2</td>\n      <td>ROSA</td>\n      <td>MARTINEZ LOPEZ</td>\n      <td>25</td>\n      <td>15000</td>\n    </tr>\n    <tr>\n      <td>3</td>\n      <td>PEDRO</td>\n      <td>SILVA GONZALEZ</td>\n      <td>54</td>\n      <td>50000</td>\n    </tr>\n    <tr>\n      <td>4</td>\n      <td>MARIA</td>\n      <td>DIAZ LOPEZ</td>\n      <td>40</td>\n      <td>32000</td>\n    </tr>\n  </tbody>\n</table>\n</div>"
     },
     "metadata": {},
     "execution_count": 8
    }
   ],
   "source": [
    "dataframe"
   ]
  },
  {
   "cell_type": "code",
   "execution_count": 9,
   "metadata": {},
   "outputs": [
    {
     "output_type": "execute_result",
     "data": {
      "text/plain": "0    False\n1     True\n2    False\n3     True\n4     True\nName: SALARIO, dtype: bool"
     },
     "metadata": {},
     "execution_count": 9
    }
   ],
   "source": [
    "dataframe[\"SALARIO\"] > 30000"
   ]
  },
  {
   "cell_type": "code",
   "execution_count": 10,
   "metadata": {},
   "outputs": [],
   "source": [
    "filtro = dataframe[\"SALARIO\"] > 30000"
   ]
  },
  {
   "cell_type": "code",
   "execution_count": 11,
   "metadata": {},
   "outputs": [],
   "source": [
    "dataframe2 = dataframe[filtro]"
   ]
  },
  {
   "cell_type": "code",
   "execution_count": 12,
   "metadata": {},
   "outputs": [
    {
     "output_type": "execute_result",
     "data": {
      "text/plain": "  NOMBRE          APELLIDOS  EDAD  SALARIO\n1   LUIS  RODRIGUEZ VAZQUEZ    45    45000\n3  PEDRO     SILVA GONZALEZ    54    50000\n4  MARIA         DIAZ LOPEZ    40    32000",
      "text/html": "<div>\n<style scoped>\n    .dataframe tbody tr th:only-of-type {\n        vertical-align: middle;\n    }\n\n    .dataframe tbody tr th {\n        vertical-align: top;\n    }\n\n    .dataframe thead th {\n        text-align: right;\n    }\n</style>\n<table border=\"1\" class=\"dataframe\">\n  <thead>\n    <tr style=\"text-align: right;\">\n      <th></th>\n      <th>NOMBRE</th>\n      <th>APELLIDOS</th>\n      <th>EDAD</th>\n      <th>SALARIO</th>\n    </tr>\n  </thead>\n  <tbody>\n    <tr>\n      <td>1</td>\n      <td>LUIS</td>\n      <td>RODRIGUEZ VAZQUEZ</td>\n      <td>45</td>\n      <td>45000</td>\n    </tr>\n    <tr>\n      <td>3</td>\n      <td>PEDRO</td>\n      <td>SILVA GONZALEZ</td>\n      <td>54</td>\n      <td>50000</td>\n    </tr>\n    <tr>\n      <td>4</td>\n      <td>MARIA</td>\n      <td>DIAZ LOPEZ</td>\n      <td>40</td>\n      <td>32000</td>\n    </tr>\n  </tbody>\n</table>\n</div>"
     },
     "metadata": {},
     "execution_count": 12
    }
   ],
   "source": [
    "dataframe2"
   ]
  },
  {
   "cell_type": "code",
   "execution_count": 13,
   "metadata": {},
   "outputs": [
    {
     "output_type": "execute_result",
     "data": {
      "text/plain": "array([['LUIS', 'RODRIGUEZ VAZQUEZ', 45, 45000],\n       ['PEDRO', 'SILVA GONZALEZ', 54, 50000],\n       ['MARIA', 'DIAZ LOPEZ', 40, 32000]], dtype=object)"
     },
     "metadata": {},
     "execution_count": 13
    }
   ],
   "source": [
    "dataframe2.values"
   ]
  },
  {
   "cell_type": "code",
   "execution_count": 14,
   "metadata": {},
   "outputs": [],
   "source": [
    "array = dataframe2.values"
   ]
  },
  {
   "cell_type": "code",
   "execution_count": 15,
   "metadata": {},
   "outputs": [
    {
     "output_type": "execute_result",
     "data": {
      "text/plain": "array([['LUIS', 'RODRIGUEZ VAZQUEZ', 45, 45000],\n       ['PEDRO', 'SILVA GONZALEZ', 54, 50000],\n       ['MARIA', 'DIAZ LOPEZ', 40, 32000]], dtype=object)"
     },
     "metadata": {},
     "execution_count": 15
    }
   ],
   "source": [
    "array"
   ]
  },
  {
   "cell_type": "code",
   "execution_count": 16,
   "metadata": {},
   "outputs": [
    {
     "output_type": "execute_result",
     "data": {
      "text/plain": "'RODRIGUEZ VAZQUEZ'"
     },
     "metadata": {},
     "execution_count": 16
    }
   ],
   "source": [
    "array[0,1]"
   ]
  }
 ]
}